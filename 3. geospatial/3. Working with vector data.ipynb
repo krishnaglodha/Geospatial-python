{
 "cells": [
  {
   "cell_type": "markdown",
   "source": [
    "# Vector Data Analysis\n",
    "## This notebook represents working with vector data in python\n",
    "\n",
    "Vector data is usually a tabular data coupled with location information. e.g. Data of all states in India ( This file will have some attribute data about states such as name, population, etc. along with one column of geometry containing location information). Vector data geometry can be divided in 3 major types: \n",
    "\n",
    "1. Point Geometry  \n",
    "\n",
    "    Point Geometry consists of discrete location information such as *latitude, longitude* which can help us to identify the exact location of given feature. \n",
    "\n",
    "    e.g - Location of bus stop, location of user, etc.\n",
    "\n",
    "2. Line Geometry\n",
    "\n",
    "    Line Geometry is collection of multiple *latitude, longitude* in an array which represents continuous path.\n",
    "\n",
    "    e.g. - Centreline of road, River, Path created by user, etc.\n",
    "\n",
    "3. Polygon Geometry \n",
    "\n",
    "    Polygon Geometry is collection of multiple *latitude, longitude* in an array which represents continuous enclosed area.\n",
    "\n",
    "    e.g. - Geometry of State, polygon of building, etc.\n",
    "    \n",
    "## Loading Data\n",
    "\n",
    "First step is to load the Data in to python, this data can be a file available on machine, data stored in database, or file hosted on some server\n",
    "\n",
    "### 1. Loading Shapefile \n",
    "\n",
    "Loading all countries geometry (src: https://www.naturalearthdata.com/downloads/10m-cultural-vectors/)"
   ],
   "metadata": {}
  },
  {
   "cell_type": "code",
   "execution_count": null,
   "source": [
    "#Using geopandas to work with data\n",
    "import geopandas as gpd\n",
    "#Using Matplotlib for visualisation\n",
    "import matplotlib\n",
    "%matplotlib inline\n"
   ],
   "outputs": [],
   "metadata": {}
  },
  {
   "cell_type": "code",
   "execution_count": null,
   "source": [
    "#load it as a pandas dataframe with understanding on geometrical data\n",
    "countries = gpd.read_file('../data/ne_10m_admin_0_countries/ne_10m_admin_0_countries.shp')\n",
    "\n",
    "countries"
   ],
   "outputs": [],
   "metadata": {}
  },
  {
   "cell_type": "code",
   "execution_count": null,
   "source": [
    "countries.plot()\n"
   ],
   "outputs": [],
   "metadata": {}
  },
  {
   "cell_type": "code",
   "execution_count": null,
   "source": [
    "countries.head()"
   ],
   "outputs": [],
   "metadata": {}
  },
  {
   "cell_type": "code",
   "execution_count": null,
   "source": [
    "countries.tail()"
   ],
   "outputs": [],
   "metadata": {}
  },
  {
   "cell_type": "markdown",
   "source": [
    "#### Understanding GeoDataFrame\n",
    "\n",
    "GeoDataFrame will always have <b>geometry</b> column, apart from that other columns will act as metadata. \n",
    "\n",
    "So `geopandas` = `pandas` + `geometry` \n",
    "\n",
    "Each column except geometry in the geopandas is of type `pandas.Series` , geometry is treated as `pandas.GeoSeries`"
   ],
   "metadata": {}
  },
  {
   "cell_type": "code",
   "execution_count": null,
   "source": [
    "print(type(countries.geometry))\n",
    "print(type(countries.scalerank))\n"
   ],
   "outputs": [],
   "metadata": {}
  },
  {
   "cell_type": "markdown",
   "source": [
    "Each geometry is a `shapely` Shape, thus we can perform all shapely methods on these geometries\n",
    "\n",
    "Checkout all available methods here https://shapely.readthedocs.io/en/stable/manual.html#predicates-and-relationships"
   ],
   "metadata": {}
  },
  {
   "cell_type": "code",
   "execution_count": null,
   "source": [
    "countries.geometry"
   ],
   "outputs": [],
   "metadata": {}
  },
  {
   "cell_type": "code",
   "execution_count": null,
   "source": [
    "countries.geometry.centroid"
   ],
   "outputs": [],
   "metadata": {}
  },
  {
   "cell_type": "markdown",
   "source": [
    "### 2. Loading Geojson \n",
    "\n",
    "Loading local geojson file "
   ],
   "metadata": {}
  },
  {
   "cell_type": "code",
   "execution_count": null,
   "source": [
    "rivers = gpd.read_file('../data/rivers.geojson')\n",
    "rivers"
   ],
   "outputs": [],
   "metadata": {}
  },
  {
   "cell_type": "markdown",
   "source": [
    "### 3. Loading PostgreSQL\n",
    "\n",
    "Loading data from database"
   ],
   "metadata": {}
  },
  {
   "cell_type": "code",
   "execution_count": null,
   "source": [
    "import psycopg2 \n",
    "\n",
    "con = psycopg2.connect(database=\"postgres\", user=\"postgres\", password=\"postgres\",\n",
    "    host=\"localhost\")\n",
    "\n",
    "sql = \"SELECT * FROM public.places\"\n",
    "places = gpd.read_postgis(sql, con, geom_col='geom' )\n",
    "places"
   ],
   "outputs": [],
   "metadata": {}
  },
  {
   "cell_type": "markdown",
   "source": [
    "### 4. Import CSV \n",
    "\n",
    "Assuming that CSV has a geometry column that contains geometery in WKT format"
   ],
   "metadata": {}
  },
  {
   "cell_type": "code",
   "execution_count": null,
   "source": [
    "from shapely import wkt\n",
    "\n",
    "airport = gpd.read_file('../data/airport.csv')\n",
    "\n",
    "airport['geometry'] = airport['geom'].apply(wkt.loads)\n",
    "del airport['geom']\n",
    "airport\n"
   ],
   "outputs": [],
   "metadata": {}
  },
  {
   "cell_type": "markdown",
   "source": [
    "### 5. Creating geometry On the fly\n",
    "\n",
    "Create geodataframe from csv having columns as longitude and latitude, which will be used further to create geometery on the fly"
   ],
   "metadata": {}
  },
  {
   "cell_type": "code",
   "execution_count": null,
   "source": [
    "import pandas as pd\n",
    "df = pd.read_csv('../data/stadium.csv')\n",
    "stadium = gpd.GeoDataFrame(\n",
    "    df, geometry=gpd.points_from_xy(df.lon, df.lat))\n",
    "stadium"
   ],
   "outputs": [],
   "metadata": {}
  },
  {
   "cell_type": "markdown",
   "source": [
    "### 6. Create Geodataframe manually \n",
    "\n",
    "User can also create Geodataframe in the notebook, using their own data"
   ],
   "metadata": {}
  },
  {
   "cell_type": "code",
   "execution_count": null,
   "source": [
    "from shapely.geometry import Point\n",
    "\n",
    "police = gpd.GeoDataFrame({\n",
    "    'geometry': [Point(1, 1), Point(2, 2),Point(2, 1),Point(1, 2),Point(1.5, 2)],\n",
    "    'id': [1, 2,3,4,5],\n",
    "    'criminals': [12,34,112,41, 212]})\n",
    "police"
   ],
   "outputs": [],
   "metadata": {}
  },
  {
   "cell_type": "code",
   "execution_count": null,
   "source": [
    "police.to_html('police.html')"
   ],
   "outputs": [],
   "metadata": {}
  },
  {
   "cell_type": "markdown",
   "source": [
    "## More about shapely\n",
    "\n",
    "### How to create geometery"
   ],
   "metadata": {}
  },
  {
   "cell_type": "code",
   "execution_count": null,
   "source": [],
   "outputs": [],
   "metadata": {}
  },
  {
   "cell_type": "code",
   "execution_count": null,
   "source": [
    "from shapely.geometry import Polygon,Point,LineString\n",
    "Pt = Point(10,10)\n",
    "line = LineString([(0,0),(0,3),(3,0)])\n",
    "poly = Polygon([[0, 0], [1, 0], [1, 1], [0, 1], [0, 0]])\n",
    "\n"
   ],
   "outputs": [],
   "metadata": {}
  },
  {
   "cell_type": "code",
   "execution_count": null,
   "source": [
    "Pt"
   ],
   "outputs": [],
   "metadata": {}
  },
  {
   "cell_type": "code",
   "execution_count": null,
   "source": [
    "line"
   ],
   "outputs": [],
   "metadata": {}
  },
  {
   "cell_type": "code",
   "execution_count": null,
   "source": [
    "poly"
   ],
   "outputs": [],
   "metadata": {}
  },
  {
   "cell_type": "markdown",
   "source": [
    "### Geospatial analysis"
   ],
   "metadata": {}
  },
  {
   "cell_type": "code",
   "execution_count": null,
   "source": [
    "poly.touches(line)"
   ],
   "outputs": [],
   "metadata": {}
  },
  {
   "cell_type": "code",
   "execution_count": null,
   "source": [
    "poly.contains(Pt)"
   ],
   "outputs": [],
   "metadata": {}
  },
  {
   "cell_type": "code",
   "execution_count": null,
   "source": [
    "Pt.buffer(20).contains(poly)"
   ],
   "outputs": [],
   "metadata": {}
  },
  {
   "cell_type": "markdown",
   "source": [
    "### Peoperties of shape\n"
   ],
   "metadata": {}
  },
  {
   "cell_type": "code",
   "execution_count": null,
   "source": [
    "poly.area"
   ],
   "outputs": [],
   "metadata": {}
  },
  {
   "cell_type": "code",
   "execution_count": null,
   "source": [
    "line.bounds"
   ],
   "outputs": [],
   "metadata": {}
  },
  {
   "cell_type": "code",
   "execution_count": null,
   "source": [
    "line.length"
   ],
   "outputs": [],
   "metadata": {}
  },
  {
   "cell_type": "markdown",
   "source": [
    "## More about Fiona \n",
    "\n",
    "Fiona is a python interface of GDAL/OGR library, Geopandas is a more easy to user wrapper"
   ],
   "metadata": {}
  },
  {
   "cell_type": "code",
   "execution_count": null,
   "source": [
    "import fiona"
   ],
   "outputs": [],
   "metadata": {}
  },
  {
   "cell_type": "code",
   "execution_count": null,
   "source": [
    "places = fiona.open('../data/ne_10m_populated_places/ne_10m_populated_places.shp')\n",
    "places"
   ],
   "outputs": [],
   "metadata": {}
  },
  {
   "cell_type": "code",
   "execution_count": null,
   "source": [
    "places.driver"
   ],
   "outputs": [],
   "metadata": {}
  },
  {
   "cell_type": "code",
   "execution_count": null,
   "source": [
    "places.schema"
   ],
   "outputs": [],
   "metadata": {}
  },
  {
   "cell_type": "code",
   "execution_count": null,
   "source": [
    "places.crs"
   ],
   "outputs": [],
   "metadata": {}
  },
  {
   "cell_type": "code",
   "execution_count": null,
   "source": [
    "len(places)"
   ],
   "outputs": [],
   "metadata": {}
  },
  {
   "cell_type": "markdown",
   "source": [
    "## Playing with GeoDataFrame\n",
    "\n",
    "### Coordinate system \n",
    "\n",
    "Unline `shapely`, `geopandas` understands crs\n",
    "\n",
    "What CRS are important? \n",
    "- CRS will make sense out of your data such as whether the units are degrees/meters\n",
    "- Bringing all data in same CRS allows us to do spatial analysis with data \n",
    "\n",
    "\n",
    "To check CRS of GeoDataframe\n"
   ],
   "metadata": {}
  },
  {
   "cell_type": "code",
   "execution_count": null,
   "source": [
    "countries.crs"
   ],
   "outputs": [],
   "metadata": {}
  },
  {
   "cell_type": "markdown",
   "source": [
    "We can also set CRS for the GeoDataFrame which has no default CRS"
   ],
   "metadata": {}
  },
  {
   "cell_type": "code",
   "execution_count": null,
   "source": [
    "We can also set CRS for the GeoDataFrame which has no default CRS"
   ],
   "outputs": [],
   "metadata": {}
  },
  {
   "cell_type": "code",
   "execution_count": null,
   "source": [
    "police = police.set_crs('epsg:4326')\n",
    "police.crs"
   ],
   "outputs": [],
   "metadata": {}
  },
  {
   "cell_type": "markdown",
   "source": [
    "We can also convert GeoDataFrame from one CRS to another"
   ],
   "metadata": {}
  },
  {
   "cell_type": "code",
   "execution_count": null,
   "source": [
    "police.crs"
   ],
   "outputs": [],
   "metadata": {}
  },
  {
   "cell_type": "code",
   "execution_count": null,
   "source": [
    "police_3857 = police.to_crs(3857)"
   ],
   "outputs": [],
   "metadata": {}
  },
  {
   "cell_type": "code",
   "execution_count": null,
   "source": [
    "police_3857"
   ],
   "outputs": [],
   "metadata": {}
  },
  {
   "cell_type": "code",
   "execution_count": null,
   "source": [
    "police_3857.crs"
   ],
   "outputs": [],
   "metadata": {}
  },
  {
   "cell_type": "markdown",
   "source": [
    "### Merging \n",
    "\n",
    "1. Atrribute based merge"
   ],
   "metadata": {}
  },
  {
   "cell_type": "code",
   "execution_count": null,
   "source": [
    "neighbor = pd.DataFrame({\n",
    "    'id': [1, 2,3,4,5],\n",
    "    'neighbor_id': ['a1', 'a2','a3','c4','d5'],\n",
    "    'neighbor_name': ['andy','julio','true','skewd', 'tauras']})\n",
    "neighbor"
   ],
   "outputs": [],
   "metadata": {}
  },
  {
   "cell_type": "code",
   "execution_count": null,
   "source": [
    "updated_police = police.merge(neighbor, on='id')\n",
    "updated_police"
   ],
   "outputs": [],
   "metadata": {}
  },
  {
   "cell_type": "markdown",
   "source": [
    "2. Spatial merge"
   ],
   "metadata": {}
  },
  {
   "cell_type": "code",
   "execution_count": null,
   "source": [
    "pd.set_option('max_columns', 100)\n",
    "airport = airport.set_crs('epsg:4326')\n",
    "airport.head()"
   ],
   "outputs": [],
   "metadata": {}
  },
  {
   "cell_type": "code",
   "execution_count": null,
   "source": [
    "simple_countries = countries[['ADMIN','geometry']]\n",
    "simple_countries.head()"
   ],
   "outputs": [],
   "metadata": {}
  },
  {
   "cell_type": "code",
   "execution_count": null,
   "source": [
    "airport_with_country = gpd.sjoin(airport, simple_countries, how=\"inner\", op='intersects')\n",
    "\n"
   ],
   "outputs": [],
   "metadata": {}
  },
  {
   "cell_type": "code",
   "execution_count": null,
   "source": [
    "airport_with_country.head()"
   ],
   "outputs": [],
   "metadata": {}
  },
  {
   "cell_type": "markdown",
   "source": [
    "<b>op</b> : Another way to perform same query can be using operation `within` instead of `intersect` ."
   ],
   "metadata": {}
  },
  {
   "cell_type": "code",
   "execution_count": null,
   "source": [
    "airport_with_country_within = gpd.sjoin(airport, simple_countries, how=\"inner\", op='within')\n"
   ],
   "outputs": [],
   "metadata": {}
  },
  {
   "cell_type": "code",
   "execution_count": null,
   "source": [
    "airport_with_country_within.tail()"
   ],
   "outputs": [],
   "metadata": {}
  },
  {
   "cell_type": "markdown",
   "source": [
    "<b>how</b> : We can use `left` , `right` , `inner` .\n",
    "\n",
    " `left`: use the index from the first (or left_df) geodataframe that you provide to sjoin; retain only the left_df geometry column\n",
    "\n",
    "`right`: use index from second (or right_df); retain only the right_df geometry column\n",
    "\n",
    "`inner`: use intersection of index values from both geodataframes; retain only the left_df geometry column"
   ],
   "metadata": {}
  },
  {
   "cell_type": "code",
   "execution_count": null,
   "source": [
    "airport_with_country_right = gpd.sjoin(airport, simple_countries, how=\"right\", op='within')\n",
    "airport_with_country_right.head()\n"
   ],
   "outputs": [],
   "metadata": {}
  },
  {
   "cell_type": "markdown",
   "source": [
    "### Edit the existing data\n",
    "\n",
    "Editing metadata"
   ],
   "metadata": {}
  },
  {
   "cell_type": "code",
   "execution_count": null,
   "source": [
    "updated_police.iloc[0]"
   ],
   "outputs": [],
   "metadata": {}
  },
  {
   "cell_type": "code",
   "execution_count": null,
   "source": [
    "updated_police.iloc[0,2] = 24"
   ],
   "outputs": [],
   "metadata": {}
  },
  {
   "cell_type": "code",
   "execution_count": null,
   "source": [
    "updated_police.iloc[0]"
   ],
   "outputs": [],
   "metadata": {}
  },
  {
   "cell_type": "markdown",
   "source": [
    "Editing geometry"
   ],
   "metadata": {}
  },
  {
   "cell_type": "code",
   "execution_count": null,
   "source": [
    "from shapely.geometry import Point\n",
    "\n",
    "updated_point = Point(3,4)\n",
    "updated_police.iloc[0,0] = updated_point\n",
    "updated_police"
   ],
   "outputs": [],
   "metadata": {}
  },
  {
   "cell_type": "markdown",
   "source": [
    "### Querying data\n",
    "\n",
    "1. Based on metadata"
   ],
   "metadata": {}
  },
  {
   "cell_type": "code",
   "execution_count": null,
   "source": [
    "countries.head()"
   ],
   "outputs": [],
   "metadata": {}
  },
  {
   "cell_type": "code",
   "execution_count": null,
   "source": [
    "India = countries[countries['ADMIN'] == \"India\"]\n",
    "India"
   ],
   "outputs": [],
   "metadata": {}
  },
  {
   "cell_type": "code",
   "execution_count": null,
   "source": [
    "densly_pop = countries[countries['POP_EST'] > 100000000]\n",
    "densly_pop"
   ],
   "outputs": [],
   "metadata": {}
  },
  {
   "cell_type": "code",
   "execution_count": null,
   "source": [
    "countriesWithC = countries[countries['SOVEREIGNT'].str.startswith('C')]\n",
    "countriesWithC"
   ],
   "outputs": [],
   "metadata": {}
  },
  {
   "cell_type": "code",
   "execution_count": null,
   "source": [
    "densecountriesWithC = countries[(countries['SOVEREIGNT'].str.startswith('C')) &  (countries['POP_EST'] > 1000000000)]\n",
    "densecountriesWithC"
   ],
   "outputs": [],
   "metadata": {}
  },
  {
   "cell_type": "markdown",
   "source": [
    "2. Spatial Query\n",
    "\n",
    "Spatial query uses shapely geometry as base geometry on top of which geodataframe can be queried.\n",
    "Available oprations are listed at\n",
    "https://shapely.readthedocs.io/en/latest/manual.html#binary-predicates"
   ],
   "metadata": {}
  },
  {
   "cell_type": "code",
   "execution_count": null,
   "source": [
    "indian_shape = India['geometry'].squeeze()"
   ],
   "outputs": [],
   "metadata": {}
  },
  {
   "cell_type": "code",
   "execution_count": null,
   "source": [
    "type(India['geometry'].squeeze())"
   ],
   "outputs": [],
   "metadata": {}
  },
  {
   "cell_type": "code",
   "execution_count": null,
   "source": [
    "test_pt = Point(1,1)"
   ],
   "outputs": [],
   "metadata": {}
  },
  {
   "cell_type": "code",
   "execution_count": null,
   "source": [
    "test_pt.intersects(indian_shape)"
   ],
   "outputs": [],
   "metadata": {}
  },
  {
   "cell_type": "code",
   "execution_count": null,
   "source": [
    "nashik = Point(73.76,19.96)"
   ],
   "outputs": [],
   "metadata": {}
  },
  {
   "cell_type": "code",
   "execution_count": null,
   "source": [
    "nashik.within(indian_shape)"
   ],
   "outputs": [],
   "metadata": {}
  },
  {
   "cell_type": "code",
   "execution_count": null,
   "source": [
    "indian_airport = airport[airport.within(indian_shape)]"
   ],
   "outputs": [],
   "metadata": {}
  },
  {
   "cell_type": "code",
   "execution_count": null,
   "source": [
    "indian_airport"
   ],
   "outputs": [],
   "metadata": {}
  },
  {
   "cell_type": "markdown",
   "source": [
    "#### Quiz -> Can you create the dataframe of all airports and cities within your country"
   ],
   "metadata": {}
  },
  {
   "cell_type": "code",
   "execution_count": null,
   "source": [
    "indian_river = rivers[rivers.intersects(indian_shape)]\n",
    "indian_river.plot()"
   ],
   "outputs": [],
   "metadata": {}
  },
  {
   "cell_type": "code",
   "execution_count": null,
   "source": [
    "Neighbours_India = countries[countries.touches(indian_shape)]\n",
    "Neighbours_India.plot()"
   ],
   "outputs": [],
   "metadata": {}
  },
  {
   "cell_type": "markdown",
   "source": [
    "### Geospatial Operations\n",
    "\n",
    "Understanding base logic first! Back to `shapely`"
   ],
   "metadata": {}
  },
  {
   "cell_type": "code",
   "execution_count": null,
   "source": [
    "test_point = Point(0,0)\n",
    "test_point"
   ],
   "outputs": [],
   "metadata": {}
  },
  {
   "cell_type": "code",
   "execution_count": null,
   "source": [
    "test_point.buffer(10)"
   ],
   "outputs": [],
   "metadata": {}
  },
  {
   "cell_type": "code",
   "execution_count": null,
   "source": [
    "test_point.buffer(10).area"
   ],
   "outputs": [],
   "metadata": {}
  },
  {
   "cell_type": "code",
   "execution_count": null,
   "source": [
    "from shapely.geometry import LineString\n",
    "\n",
    "test_line = LineString([(0, 0), (1, 1), (0, 2)])\n",
    "test_line"
   ],
   "outputs": [],
   "metadata": {}
  },
  {
   "cell_type": "code",
   "execution_count": null,
   "source": [
    "#Buffer puts original geometry at center and create buffer alongside\n",
    "test_line.buffer(0.1)"
   ],
   "outputs": [],
   "metadata": {}
  },
  {
   "cell_type": "code",
   "execution_count": null,
   "source": [
    "#We can also put geometry on either side ( Positive value will put buffer to left)\n",
    "\n",
    "test_line.buffer(0.5, single_sided=True)"
   ],
   "outputs": [],
   "metadata": {}
  },
  {
   "cell_type": "code",
   "execution_count": null,
   "source": [
    "#We can also put geometry on either side ( negative value will put buffer to right)\n",
    "\n",
    "test_line.buffer(-0.5, single_sided=True)"
   ],
   "outputs": [],
   "metadata": {}
  },
  {
   "cell_type": "markdown",
   "source": [
    "Operations on `geopandas`"
   ],
   "metadata": {}
  },
  {
   "cell_type": "code",
   "execution_count": null,
   "source": [
    "Indian_cities =  places[places.within(indian_shape)]"
   ],
   "outputs": [],
   "metadata": {}
  },
  {
   "cell_type": "code",
   "execution_count": null,
   "source": [
    "Indian_cities"
   ],
   "outputs": [],
   "metadata": {}
  },
  {
   "cell_type": "code",
   "execution_count": null,
   "source": [
    "Indian_cities_m = Indian_cities.to_crs(3857)"
   ],
   "outputs": [],
   "metadata": {}
  },
  {
   "cell_type": "code",
   "execution_count": null,
   "source": [
    "Indian_cities_m.crs"
   ],
   "outputs": [],
   "metadata": {}
  },
  {
   "cell_type": "code",
   "execution_count": null,
   "source": [
    "Indian_cities_m.head()"
   ],
   "outputs": [],
   "metadata": {}
  },
  {
   "cell_type": "code",
   "execution_count": null,
   "source": [
    "city_buffer = Indian_cities_m[['geom','name']]\n",
    "city_buffer"
   ],
   "outputs": [],
   "metadata": {}
  },
  {
   "cell_type": "code",
   "execution_count": null,
   "source": [
    "fig, ax = plt.subplots(figsize=(16, 16))\n",
    "India_m.plot(ax=ax, color='#ffffff', edgecolor='#6a6a6a', linewidth=2)\n",
    "city_buffer.plot(ax=ax, color='#f00', edgecolor='#000000')\n"
   ],
   "outputs": [],
   "metadata": {}
  },
  {
   "cell_type": "code",
   "execution_count": null,
   "source": [
    "city_buffer['geom'] = city_buffer.buffer(50000)"
   ],
   "outputs": [],
   "metadata": {}
  },
  {
   "cell_type": "code",
   "execution_count": null,
   "source": [
    "city_buffer"
   ],
   "outputs": [],
   "metadata": {}
  },
  {
   "cell_type": "code",
   "execution_count": null,
   "source": [
    "countries.head()"
   ],
   "outputs": [],
   "metadata": {}
  },
  {
   "cell_type": "code",
   "execution_count": null,
   "source": [
    "countries_centroid = countries[['geometry','NAME','CONTINENT']]\n",
    "countries_centroid.head()"
   ],
   "outputs": [],
   "metadata": {}
  },
  {
   "cell_type": "code",
   "execution_count": null,
   "source": [
    "countries_centroid['geometry'] = countries_centroid['geometry'].centroid\n",
    "countries_centroid.head()"
   ],
   "outputs": [],
   "metadata": {}
  },
  {
   "cell_type": "code",
   "execution_count": null,
   "source": [
    "countries_centroid.plot()"
   ],
   "outputs": [],
   "metadata": {}
  },
  {
   "cell_type": "code",
   "execution_count": null,
   "source": [
    "countries['area'] = countries['geometry'].area\n",
    "countries.head()"
   ],
   "outputs": [],
   "metadata": {}
  },
  {
   "cell_type": "code",
   "execution_count": null,
   "source": [
    "countries_m = countries.to_crs(3857)\n",
    "countries_m['area'] = (countries_m['geometry'].area)/1000000\n",
    "countries_m"
   ],
   "outputs": [],
   "metadata": {
    "scrolled": true
   }
  },
  {
   "cell_type": "markdown",
   "source": [
    "## Visualising GeoDataFrame"
   ],
   "metadata": {}
  },
  {
   "cell_type": "code",
   "execution_count": null,
   "source": [
    "#simple visualisation \n",
    "countries_m.plot()"
   ],
   "outputs": [],
   "metadata": {}
  },
  {
   "cell_type": "code",
   "execution_count": null,
   "source": [
    "countries_m = countries_m[countries_m['NAME'] != \"Antarctica\"]\n",
    "countries_m.plot()"
   ],
   "outputs": [],
   "metadata": {}
  },
  {
   "cell_type": "code",
   "execution_count": null,
   "source": [
    "#color based on column\n",
    "countries_m.plot(column='CONTINENT')"
   ],
   "outputs": [],
   "metadata": {}
  },
  {
   "cell_type": "code",
   "execution_count": null,
   "source": [
    "countries_m.plot(column='CONTINENT',legend=True)"
   ],
   "outputs": [],
   "metadata": {}
  },
  {
   "cell_type": "code",
   "execution_count": null,
   "source": [
    "import matplotlib.pyplot as plt\n",
    "\n",
    "fig, ax = plt.subplots(figsize=(16, 16))\n",
    "countries_m.plot(ax=ax,column='CONTINENT',legend=True)"
   ],
   "outputs": [],
   "metadata": {}
  },
  {
   "cell_type": "code",
   "execution_count": null,
   "source": [
    "ax = countries_m.plot(column='CONTINENT',legend=True)\n",
    "ax.set_axis_off()"
   ],
   "outputs": [],
   "metadata": {}
  },
  {
   "cell_type": "code",
   "execution_count": null,
   "source": [
    "#Checkout available color maps => https://matplotlib.org/2.0.2/users/colormaps.html\n",
    "countries_m.plot(column='CONTINENT',  cmap='winter')\n"
   ],
   "outputs": [],
   "metadata": {}
  },
  {
   "cell_type": "code",
   "execution_count": null,
   "source": [
    "countries_m.plot(column='POP_EST',legend=True)\n"
   ],
   "outputs": [],
   "metadata": {}
  },
  {
   "cell_type": "code",
   "execution_count": null,
   "source": [
    "countries_plot = countries_m[(countries_m['NAME'] != 'India') & (countries_m['NAME'] != 'China')]"
   ],
   "outputs": [],
   "metadata": {}
  },
  {
   "cell_type": "code",
   "execution_count": null,
   "source": [
    "countries_plot.plot(column='POP_EST',legend=True,figsize=(16,16), legend_kwds={'label': 'Population'})"
   ],
   "outputs": [],
   "metadata": {}
  },
  {
   "cell_type": "markdown",
   "source": [
    "### matplotlib to show multiple data "
   ],
   "metadata": {}
  },
  {
   "cell_type": "code",
   "execution_count": null,
   "source": [
    "basemap = countries_m.plot(column='CONTINENT', cmap='cool')\n",
    "cities_m = places.to_crs(3857)\n",
    "cities_m.plot(ax=basemap, marker='o', color='red', markersize=5)"
   ],
   "outputs": [],
   "metadata": {}
  },
  {
   "cell_type": "code",
   "execution_count": null,
   "source": [
    "#load world polygon\n",
    "bbox = gpd.read_file('../data/world.geojson')\n",
    "world = bbox.loc[0].geometry\n",
    "world"
   ],
   "outputs": [],
   "metadata": {
    "scrolled": true
   }
  },
  {
   "cell_type": "code",
   "execution_count": null,
   "source": [
    "cities_m = cities_m[cities_m.within(world)]"
   ],
   "outputs": [],
   "metadata": {}
  },
  {
   "cell_type": "code",
   "execution_count": null,
   "source": [
    "basemap = countries_m.plot(column='CONTINENT', cmap='cool')\n",
    "cities_m.plot(ax=basemap, marker='o', color='red', markersize=5)"
   ],
   "outputs": [],
   "metadata": {}
  },
  {
   "cell_type": "markdown",
   "source": [
    "### geopandas overlay to show multiple data "
   ],
   "metadata": {}
  },
  {
   "cell_type": "code",
   "execution_count": null,
   "source": [
    "fig, ax = plt.subplots(figsize=(16, 16))\n",
    "\n",
    "India_m.plot(ax=ax, color='b', edgecolor='#f0f', linewidth=2)\n",
    "Indian_cities_m.plot(ax=ax, color='r', edgecolor='#fff')\n"
   ],
   "outputs": [],
   "metadata": {}
  },
  {
   "cell_type": "code",
   "execution_count": null,
   "source": [
    "Indian_cities_m['geom'] = Indian_cities_m['geom'].buffer(50000)"
   ],
   "outputs": [],
   "metadata": {}
  },
  {
   "cell_type": "code",
   "execution_count": null,
   "source": [
    "fig, ax = plt.subplots(figsize=(16, 16))\n",
    "\n",
    "India_m.plot(ax=ax, color='b', edgecolor='#f0f', linewidth=2)\n",
    "Indian_cities_m.plot(ax=ax, color='r', edgecolor='#fff')"
   ],
   "outputs": [],
   "metadata": {}
  },
  {
   "cell_type": "code",
   "execution_count": null,
   "source": [
    "non_rural_area = gpd.overlay(India_m, Indian_cities_m, how='difference')\n",
    "non_rural_area.plot(figsize=(16, 16))"
   ],
   "outputs": [],
   "metadata": {}
  },
  {
   "cell_type": "markdown",
   "source": [
    "## Interactive Maps in python"
   ],
   "metadata": {}
  },
  {
   "cell_type": "code",
   "execution_count": null,
   "source": [
    "from ipyleaflet import Map, GeoData, basemaps, LayersControl\n",
    "import geopandas as gpd \n"
   ],
   "outputs": [],
   "metadata": {}
  },
  {
   "cell_type": "markdown",
   "source": [
    "## Loading empty Map\n",
    "\n",
    "This will include initiating map with center, zoom level and basemap choice. \n",
    "Checkout available basemap options at : https://ipyleaflet.readthedocs.io/en/latest/api_reference/basemaps.html?highlight=basemap"
   ],
   "metadata": {}
  },
  {
   "cell_type": "code",
   "execution_count": null,
   "source": [
    "m = Map(center=(27,71), zoom = 3, basemap= basemaps.Esri.WorldTopoMap)\n",
    "m"
   ],
   "outputs": [],
   "metadata": {}
  },
  {
   "cell_type": "markdown",
   "source": [
    "## Loading Data to Map\n",
    "\n",
    "### 1. Loading Geopandas dataframe"
   ],
   "metadata": {}
  },
  {
   "cell_type": "code",
   "execution_count": null,
   "source": [
    "\n",
    "m = Map(center=(27,71), zoom = 3, basemap= basemaps.Stamen.Toner)\n",
    "cities = gpd.read_file('../data/ne_10m_populated_places/ne_10m_populated_places.shp')\n",
    "cities_data  = GeoData(geo_dataframe = cities,\n",
    "    style={'color': 'black', 'radius':4, 'fillColor': '#3366cc', 'opacity':0.5, 'weight':1.9, 'dashArray':'2', 'fillOpacity':0.6},\n",
    "    hover_style={'fillColor': 'red' , 'fillOpacity': 0.2},\n",
    "    point_style={'radius': 5, 'color': 'red', 'fillOpacity': 0.8, 'fillColor': 'blue', 'weight': 3},\n",
    "    name = 'Release')\n",
    "m.add_layer(cities_data)\n",
    "m"
   ],
   "outputs": [],
   "metadata": {}
  },
  {
   "cell_type": "markdown",
   "source": [
    "### 2. Loading WMS layer\n"
   ],
   "metadata": {}
  },
  {
   "cell_type": "code",
   "execution_count": null,
   "source": [
    "from ipyleaflet import Map, WMSLayer, basemaps\n",
    "\n",
    "wms = WMSLayer(\n",
    "    url='https://ahocevar.com/geoserver/wms',\n",
    "    layers='topp:states',\n",
    "    format='image/png',\n",
    "    transparent=True,\n",
    "    attribution='Made for GeoPython 2021'\n",
    ")\n",
    "\n",
    "m = Map(basemap=basemaps.CartoDB.Positron, center=(38.491, -95.712), zoom=4)\n",
    "\n",
    "m.add_layer(wms)\n",
    "\n",
    "m"
   ],
   "outputs": [],
   "metadata": {}
  },
  {
   "cell_type": "markdown",
   "source": [
    "## Adding Popup \n",
    "\n",
    "### 1. Adding static popup"
   ],
   "metadata": {}
  },
  {
   "cell_type": "code",
   "execution_count": null,
   "source": [
    "from ipywidgets import HTML\n",
    "from ipyleaflet import Map, Marker, Popup\n",
    "center = (19.975040, 73.763190)\n",
    "m = Map(center=center, zoom=17, close_popup_on_click=False)\n",
    "marker = Marker(location=(19.975040, 73.763190))\n",
    "m.add_layer(marker)\n",
    "message2 = HTML()\n",
    "message2.value = \"Hey!! I'm speaking at foss4g 2021 🔥\"\n",
    "marker.popup = message2\n",
    "m"
   ],
   "outputs": [],
   "metadata": {}
  },
  {
   "cell_type": "markdown",
   "source": [
    "### 2. Using Custom data for popup\n",
    "\n",
    "For this example we'll prepare map of following scenario\n",
    "Seeing all the cities as a point on map and on click show their name"
   ],
   "metadata": {}
  },
  {
   "cell_type": "code",
   "execution_count": null,
   "source": [
    "#Preparing data \n",
    "all_cities = gpd.read_file('../data/ne_10m_populated_places/ne_10m_populated_places.shp')\n",
    "all_countries =  gpd.read_file('../data/ne_10m_admin_0_countries/ne_10m_admin_0_countries.shp')\n",
    "all_cities.dropna(subset=[\"NAME\",\"geometry\"])\n",
    "India = all_countries[all_countries['NAME'] == 'India']\n",
    "Indian_cities = all_cities[all_cities.within(India.squeeze().geometry)]\n",
    "Indian_cities\n",
    "\n",
    "# Creating Map\n",
    "from ipyleaflet import Map, Marker, Popup\n",
    "from ipywidgets import HTML\n",
    "center = (33.762918,68.637469)\n",
    "m = Map(center=center, zoom=3, close_popup_on_click=False)\n",
    "\n",
    "# Adding data as marker \n",
    "for index, row in Indian_cities.iterrows():\n",
    "    message2 = HTML()\n",
    "    marker = Marker(location=(row['geometry'].y, row['geometry'].x))\n",
    "    message2.value = row['NAME']\n",
    "    # message2.description = row['NAME']\n",
    "    marker.popup = message2\n",
    "    m.add_layer(marker)\n",
    "#     print(index)\n",
    "\n",
    "#load map\n",
    "m"
   ],
   "outputs": [],
   "metadata": {}
  },
  {
   "cell_type": "markdown",
   "source": [
    "## Another interesting map options\n",
    "\n",
    "1. AntPath \n",
    "2. Marker Cluster\n",
    "3. Heatmap\n",
    "4. Velocity\n",
    "5. Choropleth\n",
    "\n",
    "check out out at https://ipyleaflet.readthedocs.io/\n",
    "\n",
    "## Controls in map\n",
    "\n",
    "Different Controls can be added to the map to make it more user friendly. Some of such controls are as follows\n",
    "\n",
    "### 1. Scale control"
   ],
   "metadata": {}
  },
  {
   "cell_type": "code",
   "execution_count": null,
   "source": [
    "from ipyleaflet import Map, ScaleControl\n",
    "\n",
    "m = Map(zoom=15, center=[19.975040, 73.763190])\n",
    "m.add_control(ScaleControl(position='bottomleft'))\n",
    "\n",
    "m"
   ],
   "outputs": [],
   "metadata": {}
  },
  {
   "cell_type": "markdown",
   "source": [
    "### 2. Split Map"
   ],
   "metadata": {}
  },
  {
   "cell_type": "code",
   "execution_count": null,
   "source": [
    "from ipyleaflet import Map, basemaps, basemap_to_tiles, SplitMapControl\n",
    "\n",
    "m = Map(zoom=15, center=[19.975040, 73.763190])\n",
    "\n",
    "right_layer = basemap_to_tiles( basemaps.Stamen.Toner)\n",
    "left_layer = basemap_to_tiles(basemaps.CartoDB.Positron)\n",
    "\n",
    "control = SplitMapControl(left_layer=left_layer, right_layer=right_layer)\n",
    "m.add_control(control)\n",
    "\n",
    "m"
   ],
   "outputs": [],
   "metadata": {}
  },
  {
   "cell_type": "markdown",
   "source": [
    "### Apart from these, some of the most widely used controls are\n",
    "\n",
    "1. Draw on map\n",
    "2. Adding Legends\n",
    "3. Measure, etc. \n",
    "\n",
    "You can find all available controls at https://ipyleaflet.readthedocs.io/en/latest/index.html (Look for control section)"
   ],
   "metadata": {}
  },
  {
   "cell_type": "markdown",
   "source": [
    "## pydeck\n",
    "\n",
    "Python package based on deck.gl https://pydeck.gl/ which also provides support for 3d data and visualisation\n",
    "\n",
    "install the package `pip install pydeck`\n",
    "\n",
    "pydeck by default uses carto basemap, but it can be replaced with `Mapbox` or `Google`, to do so, you will need to get API key from their website"
   ],
   "metadata": {}
  },
  {
   "cell_type": "code",
   "execution_count": null,
   "source": [
    "\n",
    "import pydeck as pdk\n",
    "import pandas as pd\n",
    "data = '../data/flights.csv'\n",
    "commute_pattern = pd.read_csv(data)\n",
    "\n",
    "\n",
    "# view (location, zoom level, etc.)\n",
    "view = pdk.ViewState(latitude=21.214885, longitude=77.950061, pitch=50, zoom=3)\n",
    "\n",
    "# layer\n",
    "# from home (orange) to work (purple)\n",
    "arc_layer = pdk.Layer('ArcLayer',\n",
    "                      data=commute_pattern,\n",
    "                      get_source_position=['lon_from', 'lat_from'],\n",
    "                      get_target_position=['lon_to', 'lat_to'],\n",
    "                      get_width=5,\n",
    "                      get_tilt=15,\n",
    "                      pickable=True,\n",
    "                         auto_highlight=True,\n",
    "                      # RGBA colors (red, green, blue, alpha)\n",
    "                      get_source_color=[255, 165, 0, 80],\n",
    "                      get_target_color=[128, 0, 128, 80])\n",
    "\n",
    "# render map\n",
    "# choose map style\n",
    "TOOLTIP_TEXT = {\"html\": \"{flights} flights taken <br /> on this root\"}\n",
    "\n",
    "arc_layer_map = pdk.Deck(\n",
    "                         layers=arc_layer,\n",
    "                         initial_view_state=view,\n",
    "                         tooltip=TOOLTIP_TEXT\n",
    "                    )\n",
    "arc_layer_map.to_html('deck.html')\n",
    "arc_layer_map.show()"
   ],
   "outputs": [],
   "metadata": {}
  },
  {
   "cell_type": "markdown",
   "source": [
    "checkout other options at : https://pydeck.gl/index.html"
   ],
   "metadata": {}
  },
  {
   "cell_type": "code",
   "execution_count": null,
   "source": [],
   "outputs": [],
   "metadata": {}
  }
 ],
 "metadata": {
  "kernelspec": {
   "name": "python3",
   "display_name": "Python 3.6.13 64-bit ('fossworkshop': conda)"
  },
  "language_info": {
   "codemirror_mode": {
    "name": "ipython",
    "version": 3
   },
   "file_extension": ".py",
   "mimetype": "text/x-python",
   "name": "python",
   "nbconvert_exporter": "python",
   "pygments_lexer": "ipython3",
   "version": "3.6.13"
  },
  "interpreter": {
   "hash": "9a548091e2697377a2ce6b3efb7eed731e13997a7baaa2410076b35d537cecf6"
  }
 },
 "nbformat": 4,
 "nbformat_minor": 5
}