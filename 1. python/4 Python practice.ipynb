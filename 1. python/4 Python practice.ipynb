{
 "cells": [
  {
   "cell_type": "markdown",
   "id": "a87247b8",
   "metadata": {},
   "source": [
    "# Python exercises\n",
    "\n",
    "\n",
    "### 1. Seven Up Seven Down\n",
    "\n",
    "Rules - \n",
    "1. Create a python function where user will enter the value as `up`, `down` or `seven` and python will roll 2 dices , if the total of dice values is qualt to what user has guessed, then user will win\n",
    "2. If play either wins or loses thrice, the game is over\n",
    "\n",
    "Add proper validations\n",
    "\n",
    "\n",
    "\n",
    "### 2. Currency Convertor\n",
    "\n",
    "Data - \n",
    "- INR - 1\n",
    "- USD - 0.5\n",
    "- GBP - 0.2\n",
    "- JPY - 1.6\n",
    "- EUR - 0.85\n",
    "\n",
    "Rules - \n",
    "1. Create a python function where user will enter both currency codes and amount to get converted amount\n",
    "\n",
    "Add proper validations\n",
    "\n",
    "\n",
    "\n",
    "### 2. Compound interest calculator\n",
    "\n",
    "1. user will enter yearly interest rate, base amount, years for which the loan is taken\n",
    "2. discount in 0.1% on every years final total\n",
    "\n",
    "\n"
   ]
  },
  {
   "cell_type": "code",
   "execution_count": null,
   "id": "9d0b8a32",
   "metadata": {},
   "outputs": [],
   "source": []
  }
 ],
 "metadata": {
  "kernelspec": {
   "display_name": "Python 3 (ipykernel)",
   "language": "python",
   "name": "python3"
  },
  "language_info": {
   "codemirror_mode": {
    "name": "ipython",
    "version": 3
   },
   "file_extension": ".py",
   "mimetype": "text/x-python",
   "name": "python",
   "nbconvert_exporter": "python",
   "pygments_lexer": "ipython3",
   "version": "3.9.6"
  }
 },
 "nbformat": 4,
 "nbformat_minor": 5
}
