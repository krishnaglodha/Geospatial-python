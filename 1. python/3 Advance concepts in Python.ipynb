{
 "cells": [
  {
   "cell_type": "markdown",
   "id": "08c13fe7",
   "metadata": {},
   "source": [
    "## Before you start here\n",
    "### Make sure that you have checked the 'Basics of Python' notebook which covers concepts such as \n",
    "1. Variables\n",
    "2. Data types\n",
    "3. List, Tuples, Set, Dictionary\n",
    "4. Operators\n",
    "\n",
    "# Advance concepts in Python\n",
    "\n",
    "## 💪🏻 Conditions in Python\n",
    "Conditions helps program to know what functions/code to execute depending upon the results of Conditions.\n",
    "\n",
    "### How to use `if` , `else` , `elif` in python? "
   ]
  },
  {
   "cell_type": "code",
   "execution_count": 17,
   "id": "51f23314",
   "metadata": {},
   "outputs": [
    {
     "name": "stdout",
     "output_type": "stream",
     "text": [
      "Passed\n"
     ]
    }
   ],
   "source": [
    "#Simple if condition\n",
    "marks = 56\n",
    "if marks > 40:\n",
    "    print('Passed')"
   ]
  },
  {
   "cell_type": "code",
   "execution_count": 18,
   "id": "e5709cec",
   "metadata": {},
   "outputs": [],
   "source": [
    "marks = 16\n",
    "if marks > 40:\n",
    "    print('Passed')"
   ]
  },
  {
   "cell_type": "code",
   "execution_count": 19,
   "id": "3eb07c08",
   "metadata": {},
   "outputs": [
    {
     "name": "stdout",
     "output_type": "stream",
     "text": [
      "fail\n"
     ]
    }
   ],
   "source": [
    "#Adding else to the same condition\n",
    "marks = 16\n",
    "if marks > 40:\n",
    "    print('Passed')\n",
    "else : \n",
    "    print('fail')"
   ]
  },
  {
   "cell_type": "code",
   "execution_count": 20,
   "id": "f707eea3",
   "metadata": {},
   "outputs": [
    {
     "name": "stdout",
     "output_type": "stream",
     "text": [
      "fail\n"
     ]
    }
   ],
   "source": [
    "#Adding multiple if to the same condition\n",
    "marks = 16\n",
    "if marks > 90:\n",
    "    print('You got A+')\n",
    "elif marks > 75 : \n",
    "    print('You got A')\n",
    "elif marks > 50:\n",
    "    print('You got B')\n",
    "elif marks > 40:\n",
    "    print('You got C')\n",
    "else : \n",
    "    print('fail')"
   ]
  },
  {
   "cell_type": "code",
   "execution_count": 21,
   "id": "d1d64ecb",
   "metadata": {},
   "outputs": [
    {
     "name": "stdout",
     "output_type": "stream",
     "text": [
      "You got C\n"
     ]
    }
   ],
   "source": [
    "marks = 46\n",
    "if marks > 90:\n",
    "    print('You got A+')\n",
    "elif marks > 75 : \n",
    "    print('You got A')\n",
    "elif marks > 50:\n",
    "    print('You got B')\n",
    "elif marks > 40:\n",
    "    print('You got C')\n",
    "else : \n",
    "    print('fail')"
   ]
  },
  {
   "cell_type": "code",
   "execution_count": 22,
   "id": "cf0b6b5b",
   "metadata": {},
   "outputs": [
    {
     "name": "stdout",
     "output_type": "stream",
     "text": [
      "You got A\n"
     ]
    }
   ],
   "source": [
    "marks = 76\n",
    "if marks > 90:\n",
    "    print('You got A+')\n",
    "elif marks > 75 : \n",
    "    print('You got A')\n",
    "elif marks > 50:\n",
    "    print('You got B')\n",
    "elif marks > 40:\n",
    "    print('You got C')\n",
    "else : \n",
    "    print('fail')"
   ]
  },
  {
   "cell_type": "code",
   "execution_count": 23,
   "id": "3ea03d26",
   "metadata": {},
   "outputs": [
    {
     "name": "stdout",
     "output_type": "stream",
     "text": [
      "You got A+\n"
     ]
    }
   ],
   "source": [
    "marks = 96\n",
    "if marks > 90:\n",
    "    print('You got A+')\n",
    "elif marks > 75 : \n",
    "    print('You got A')\n",
    "elif marks > 50:\n",
    "    print('You got B')\n",
    "elif marks > 40:\n",
    "    print('You got C')\n",
    "else : \n",
    "    print('fail')"
   ]
  },
  {
   "cell_type": "markdown",
   "id": "83c17b59",
   "metadata": {},
   "source": [
    "### 🕰️Practice time\n",
    "1. Create a condition to check if number is divisible by 3, If yes print \"Horray\"\n",
    "2. Check if person is male/female , \n",
    "\n",
    "    if male , use following income criterion\n",
    "       more than 50,000 is class A, less than 10,000 is class C, between class B\n",
    "    if female, use following income criterion\n",
    "       more than 40,000 is class A, less than 15,000 is class C, between class B\n",
    "3. Check which vehicle pers\n",
    "    for single person - cycle\n",
    "    for couple - bike\n",
    "    upto 4 people - hatchback\n",
    "    more than 4 upto 5 people - sedan\n",
    "    more than 5 upto 7 people - SUV\n",
    "    more than 7 upto 10 people - Bus\n",
    "    more than 10 - trailer"
   ]
  },
  {
   "cell_type": "code",
   "execution_count": null,
   "id": "f9424b9d",
   "metadata": {},
   "outputs": [],
   "source": []
  },
  {
   "cell_type": "code",
   "execution_count": null,
   "id": "2b569501",
   "metadata": {},
   "outputs": [],
   "source": []
  },
  {
   "cell_type": "code",
   "execution_count": null,
   "id": "411bb319",
   "metadata": {},
   "outputs": [],
   "source": []
  },
  {
   "cell_type": "markdown",
   "id": "3b1ca184",
   "metadata": {},
   "source": [
    "## 💪🏻 Loops \n",
    "Loops are helful to iterate over series of data to execute same function on each data.\n",
    "\n",
    "### How to use `while`  loop? \n",
    "While loop keeps on executing till while condition is true. It is very important to change the variable value used in creating condition for while, everytime the loop completes, otherwise we'll get stuck in infinite loop"
   ]
  },
  {
   "cell_type": "code",
   "execution_count": 24,
   "id": "baa96bbe",
   "metadata": {},
   "outputs": [
    {
     "name": "stdout",
     "output_type": "stream",
     "text": [
      "current i value is0\n",
      "current i value is1\n",
      "current i value is2\n",
      "current i value is3\n",
      "current i value is4\n",
      "current i value is5\n"
     ]
    }
   ],
   "source": [
    "i = 0\n",
    "while i < 6:\n",
    "    print('current i value is' + str(i))\n",
    "    i += 1 # If we remove this, the i will be 0 , thus while loop will run forever"
   ]
  },
  {
   "cell_type": "markdown",
   "id": "eb7ddd03",
   "metadata": {},
   "source": [
    "🕰️ Write `while` loop to get factorial of any number\n",
    "\n",
    "If you were playing outside like me during math class\n",
    "\n",
    "factorial means multiplying number with smaller numbers upto 1\n",
    "\n",
    "e.g. 5! = 5 x 4 x 3 x 2 x1 = 120"
   ]
  },
  {
   "cell_type": "code",
   "execution_count": null,
   "id": "baa31ce3",
   "metadata": {},
   "outputs": [],
   "source": []
  },
  {
   "cell_type": "markdown",
   "id": "6e6f6b78",
   "metadata": {},
   "source": [
    "### How to use `for`  loop? \n",
    "For loop keeps on executing till it hits the last element in series. It is generally used to loop the elements of data types such as series"
   ]
  },
  {
   "cell_type": "code",
   "execution_count": 25,
   "id": "a63ccea2",
   "metadata": {},
   "outputs": [
    {
     "name": "stdout",
     "output_type": "stream",
     "text": [
      "I'm studying maths\n",
      "I'm studying science\n",
      "I'm studying geography\n",
      "I'm studying history\n",
      "I'm studying english\n"
     ]
    }
   ],
   "source": [
    "subjectList = ['maths','science','geography','history','english']\n",
    "for subject in subjectList:\n",
    "    print (\"I'm studying \"+ subject) # subject is a variable which holds the value on element in each loop"
   ]
  },
  {
   "cell_type": "markdown",
   "id": "1e4d8d2f",
   "metadata": {},
   "source": [
    "🕰️ Write `for` loop to check if we have failed the semester \n",
    "\n",
    "Rules : each semester has 12 subjects, if you fail more than 3, you will fail semester, passing marks are 40/100\n",
    "    \n",
    "** If you want to make this more interesting , let python decide how much mark you will score. \n",
    "using random function as following\n",
    "```\n",
    "    import random\n",
    "    marks = random.randint(0 , 100)\n",
    "    print(marks)\n",
    "```"
   ]
  },
  {
   "cell_type": "code",
   "execution_count": null,
   "id": "025f3877",
   "metadata": {},
   "outputs": [],
   "source": []
  },
  {
   "cell_type": "markdown",
   "id": "ddce6009",
   "metadata": {},
   "source": [
    "### How to create nested loop? \n",
    "We can create loops inside loops. \n"
   ]
  },
  {
   "cell_type": "code",
   "execution_count": 26,
   "id": "7704015e",
   "metadata": {},
   "outputs": [
    {
     "name": "stdout",
     "output_type": "stream",
     "text": [
      "Today I studied maths\n",
      "For time 5am-7am\n",
      "For time 9am-12pm\n",
      "For time 5pm-8pm\n",
      "Today I studied science\n",
      "For time 5am-7am\n",
      "For time 9am-12pm\n",
      "For time 5pm-8pm\n",
      "Today I studied geography\n",
      "For time 5am-7am\n",
      "For time 9am-12pm\n",
      "For time 5pm-8pm\n",
      "Today I studied history\n",
      "For time 5am-7am\n",
      "For time 9am-12pm\n",
      "For time 5pm-8pm\n",
      "Today I studied english\n",
      "For time 5am-7am\n",
      "For time 9am-12pm\n",
      "For time 5pm-8pm\n"
     ]
    }
   ],
   "source": [
    "subjectList = ['maths','science','geography','history','english']\n",
    "studyTime = ['5am-7am', '9am-12pm','5pm-8pm']\n",
    "\n",
    "for subject in subjectList:\n",
    "    print('Today I studied '+ subject)\n",
    "    for time in studyTime:\n",
    "        print('For time '+time)"
   ]
  },
  {
   "cell_type": "markdown",
   "id": "d7bdc598",
   "metadata": {},
   "source": [
    "### How to stop loop in between?  \n",
    "We can stop loops by using `break` keyword"
   ]
  },
  {
   "cell_type": "code",
   "execution_count": 27,
   "id": "c1ce5dcb",
   "metadata": {},
   "outputs": [
    {
     "name": "stdout",
     "output_type": "stream",
     "text": [
      "0\n",
      "1\n",
      "2\n",
      "3\n"
     ]
    }
   ],
   "source": [
    "i = 0\n",
    "while i < 6:\n",
    "    if i == 4:\n",
    "        break\n",
    "    print(i)\n",
    "    i +=1\n",
    "\n",
    "# as soon as we get the value of i = 4, we'll break the loop and come out of it"
   ]
  },
  {
   "cell_type": "markdown",
   "id": "a923b223",
   "metadata": {},
   "source": [
    "🕰️ create same semester example but stop the loop as soon as 3 subjects are failed"
   ]
  },
  {
   "cell_type": "code",
   "execution_count": null,
   "id": "464977f5",
   "metadata": {},
   "outputs": [],
   "source": []
  },
  {
   "cell_type": "markdown",
   "id": "97c04deb",
   "metadata": {},
   "source": [
    "## 💪🏻 Functions \n",
    "Functions allow us to execute certain piece of code only when needed.\n",
    "\n",
    "\n",
    "### How to create function? \n",
    "Functions are created using `def` as follow"
   ]
  },
  {
   "cell_type": "code",
   "execution_count": 29,
   "id": "335be42d",
   "metadata": {},
   "outputs": [],
   "source": [
    "#Define function with 'tell_name' as name of function which will print 'Hi Krishna' when executed\n",
    "def tell_name():\n",
    "    print('Hi Krishna')"
   ]
  },
  {
   "cell_type": "code",
   "execution_count": 30,
   "id": "559ab947",
   "metadata": {},
   "outputs": [
    {
     "name": "stdout",
     "output_type": "stream",
     "text": [
      "Hi Krishna\n"
     ]
    }
   ],
   "source": [
    "tell_name() # This is how we execute the function"
   ]
  },
  {
   "cell_type": "markdown",
   "id": "42236507",
   "metadata": {},
   "source": [
    "🕰️ create a function to print the otuput for area of rectangle with sides as 5, 6"
   ]
  },
  {
   "cell_type": "code",
   "execution_count": null,
   "id": "5a45d509",
   "metadata": {},
   "outputs": [],
   "source": []
  },
  {
   "cell_type": "markdown",
   "id": "269223d5",
   "metadata": {},
   "source": [
    "### How to pass arguments to function? \n",
    "\n",
    "1. Create arguments for function"
   ]
  },
  {
   "cell_type": "code",
   "execution_count": 32,
   "id": "fb5e5c57",
   "metadata": {},
   "outputs": [],
   "source": [
    "#Define function with 'tell_name' as name with argument as 'Person' which will print 'Hi ' + Person when executed\n",
    "def tell_name_with_arg(person):\n",
    "    print('Hi '+person)"
   ]
  },
  {
   "cell_type": "code",
   "execution_count": 33,
   "id": "540789ef",
   "metadata": {},
   "outputs": [
    {
     "name": "stdout",
     "output_type": "stream",
     "text": [
      "Hi siddhi\n"
     ]
    }
   ],
   "source": [
    "tell_name_with_arg('siddhi') # This is how we execute the function"
   ]
  },
  {
   "cell_type": "code",
   "execution_count": 35,
   "id": "e69e9e04",
   "metadata": {},
   "outputs": [
    {
     "ename": "TypeError",
     "evalue": "tell_name_with_arg() missing 1 required positional argument: 'person'",
     "output_type": "error",
     "traceback": [
      "\u001b[0;31m---------------------------------------------------------------------------\u001b[0m",
      "\u001b[0;31mTypeError\u001b[0m                                 Traceback (most recent call last)",
      "\u001b[0;32m<ipython-input-35-b2dfee66ebd4>\u001b[0m in \u001b[0;36m<module>\u001b[0;34m\u001b[0m\n\u001b[0;32m----> 1\u001b[0;31m \u001b[0mtell_name_with_arg\u001b[0m\u001b[0;34m(\u001b[0m\u001b[0;34m)\u001b[0m \u001b[0;31m# Function will give error if argument value is not passed\u001b[0m\u001b[0;34m\u001b[0m\u001b[0;34m\u001b[0m\u001b[0m\n\u001b[0m",
      "\u001b[0;31mTypeError\u001b[0m: tell_name_with_arg() missing 1 required positional argument: 'person'"
     ]
    }
   ],
   "source": [
    "tell_name_with_arg() # Function will give error if argument value is not passed"
   ]
  },
  {
   "cell_type": "markdown",
   "id": "d575bbe4",
   "metadata": {},
   "source": [
    "2. Create multiple arguments for functions"
   ]
  },
  {
   "cell_type": "code",
   "execution_count": 36,
   "id": "07b610f7",
   "metadata": {},
   "outputs": [],
   "source": [
    "def about_me(name,hobby,age):\n",
    "    print('Hi, My name is '+ name+ ' I like '+hobby + ' I am '+ str(age)+ ' years old')"
   ]
  },
  {
   "cell_type": "code",
   "execution_count": 37,
   "id": "6b043518",
   "metadata": {},
   "outputs": [
    {
     "name": "stdout",
     "output_type": "stream",
     "text": [
      "Hi, My name is siddhi I like running I am 25 years old\n"
     ]
    }
   ],
   "source": [
    "about_me('siddhi','running', 25)"
   ]
  },
  {
   "cell_type": "code",
   "execution_count": 38,
   "id": "9b869e08",
   "metadata": {},
   "outputs": [
    {
     "name": "stdout",
     "output_type": "stream",
     "text": [
      "Hi, My name is krishna I like trekking I am 24 years old\n"
     ]
    }
   ],
   "source": [
    "about_me(age=24, name='krishna', hobby='trekking')"
   ]
  },
  {
   "cell_type": "markdown",
   "id": "16040a36",
   "metadata": {},
   "source": [
    "🕰️ create a function to print the otuput for area of rectangle with sides as parameter"
   ]
  },
  {
   "cell_type": "code",
   "execution_count": null,
   "id": "0d9b4f3e",
   "metadata": {},
   "outputs": [],
   "source": []
  },
  {
   "cell_type": "markdown",
   "id": "3246f236",
   "metadata": {},
   "source": [
    "🕰️  pass the income and gender of person to print the class person belongs to \n",
    "\n",
    "    Male \n",
    "        Greater than 50k - class A\n",
    "        Lesser than 10k - Class C\n",
    "        Between - Class B\n",
    "    Female\n",
    "        Greater than 30k - class A\n",
    "        Lesser than 15k - Class C\n",
    "        Between - Class B"
   ]
  },
  {
   "cell_type": "code",
   "execution_count": null,
   "id": "75efdafc",
   "metadata": {},
   "outputs": [],
   "source": []
  },
  {
   "cell_type": "markdown",
   "id": "01ed7fa5",
   "metadata": {},
   "source": [
    "3. Defining default value for variable\n",
    "\n",
    "We can provide some default vaue to argument, so that it'll be used if user doesn't specify it"
   ]
  },
  {
   "cell_type": "code",
   "execution_count": 39,
   "id": "5207c49a",
   "metadata": {},
   "outputs": [],
   "source": [
    "def heya(name='stranger'):\n",
    "    print('heya '+ name)\n",
    "    "
   ]
  },
  {
   "cell_type": "code",
   "execution_count": 40,
   "id": "e5f36bec",
   "metadata": {},
   "outputs": [
    {
     "name": "stdout",
     "output_type": "stream",
     "text": [
      "heya sus\n"
     ]
    }
   ],
   "source": [
    "heya('sus')"
   ]
  },
  {
   "cell_type": "code",
   "execution_count": 41,
   "id": "ab1f0f8a",
   "metadata": {},
   "outputs": [
    {
     "name": "stdout",
     "output_type": "stream",
     "text": [
      "heya stranger\n"
     ]
    }
   ],
   "source": [
    "heya()"
   ]
  },
  {
   "cell_type": "markdown",
   "id": "5b2d3b9d",
   "metadata": {},
   "source": [
    "🕰️ Create employee directory function, where if role is Manager, salary is 20000 , if role is dev, salary is 10000, for any other role salary is 8000"
   ]
  },
  {
   "cell_type": "code",
   "execution_count": null,
   "id": "80115e3c",
   "metadata": {},
   "outputs": [],
   "source": []
  },
  {
   "cell_type": "markdown",
   "id": "e211aed1",
   "metadata": {},
   "source": [
    "### How to store function result in variable? \n",
    "We can save the result of function in any variable by using `return`\n"
   ]
  },
  {
   "cell_type": "code",
   "execution_count": 42,
   "id": "ebb9ee06",
   "metadata": {},
   "outputs": [],
   "source": [
    "def after_tax_val(rate):\n",
    "    return rate*1.18 # Instead of printing we are returning the value"
   ]
  },
  {
   "cell_type": "code",
   "execution_count": 43,
   "id": "8164279c",
   "metadata": {},
   "outputs": [
    {
     "data": {
      "text/plain": [
       "118.0"
      ]
     },
     "execution_count": 43,
     "metadata": {},
     "output_type": "execute_result"
    }
   ],
   "source": [
    "mango = after_tax_val(100)\n",
    "mango"
   ]
  },
  {
   "cell_type": "markdown",
   "id": "3335b037",
   "metadata": {},
   "source": [
    "### How to create anonymous functions ? \n",
    "We can create anonymous function which can take any numbers of arguments but will perform only one activity `lambda`\n"
   ]
  },
  {
   "cell_type": "code",
   "execution_count": 49,
   "id": "8cf4ed75",
   "metadata": {},
   "outputs": [],
   "source": [
    "final_bill = lambda price : price*1.18"
   ]
  },
  {
   "cell_type": "code",
   "execution_count": 50,
   "id": "070e56e8",
   "metadata": {},
   "outputs": [
    {
     "data": {
      "text/plain": [
       "1180.0"
      ]
     },
     "execution_count": 50,
     "metadata": {},
     "output_type": "execute_result"
    }
   ],
   "source": [
    "car = final_bill(1000)\n",
    "car"
   ]
  },
  {
   "cell_type": "code",
   "execution_count": 51,
   "id": "f2ba6499",
   "metadata": {},
   "outputs": [],
   "source": [
    "final_bill = lambda price,rate : price*(1 + rate/100)"
   ]
  },
  {
   "cell_type": "code",
   "execution_count": 53,
   "id": "0a61f478",
   "metadata": {},
   "outputs": [
    {
     "data": {
      "text/plain": [
       "560.0"
      ]
     },
     "execution_count": 53,
     "metadata": {},
     "output_type": "execute_result"
    }
   ],
   "source": [
    "computer = final_bill(500,12)\n",
    "computer"
   ]
  }
 ],
 "metadata": {
  "kernelspec": {
   "display_name": "Python 3 (ipykernel)",
   "language": "python",
   "name": "python3"
  },
  "language_info": {
   "codemirror_mode": {
    "name": "ipython",
    "version": 3
   },
   "file_extension": ".py",
   "mimetype": "text/x-python",
   "name": "python",
   "nbconvert_exporter": "python",
   "pygments_lexer": "ipython3",
   "version": "3.9.6"
  }
 },
 "nbformat": 4,
 "nbformat_minor": 5
}
