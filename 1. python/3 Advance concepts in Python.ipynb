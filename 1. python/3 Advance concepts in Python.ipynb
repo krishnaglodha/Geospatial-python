{
 "cells": [
  {
   "cell_type": "markdown",
   "source": [
    "## Before you start here\n",
    "### Make sure that you have checked the 'Basics of Python' notebook which covers concepts such as \n",
    "1. Variables\n",
    "2. Data types\n",
    "3. List, Tuples, Set, Dictionary\n",
    "4. Operators\n",
    "\n",
    "# Advance concepts in Python\n",
    "\n",
    "## 💪🏻 Conditions in Python\n",
    "Conditions helps program to know what functions/code to execute depending upon the results of Conditions.\n",
    "\n",
    "### How to use `if` , `else` , `elif` in python? "
   ],
   "metadata": {}
  },
  {
   "cell_type": "code",
   "execution_count": null,
   "source": [
    "#Simple if condition\n",
    "marks = 56\n",
    "if marks > 40:\n",
    "    print('Passed')"
   ],
   "outputs": [],
   "metadata": {}
  },
  {
   "cell_type": "code",
   "execution_count": null,
   "source": [
    "marks = 16\n",
    "if marks > 40:\n",
    "    print('Passed')"
   ],
   "outputs": [],
   "metadata": {}
  },
  {
   "cell_type": "code",
   "execution_count": null,
   "source": [
    "#Adding else to the same condition\n",
    "marks = 16\n",
    "if marks > 40:\n",
    "    print('Passed')\n",
    "else : \n",
    "    print('fail')"
   ],
   "outputs": [],
   "metadata": {}
  },
  {
   "cell_type": "code",
   "execution_count": null,
   "source": [
    "#Adding multiple if to the same condition\n",
    "marks = 16\n",
    "if marks > 90:\n",
    "    print('You got A+')\n",
    "elif marks > 75 : \n",
    "    print('You got A')\n",
    "elif marks > 50:\n",
    "    print('You got B')\n",
    "elif marks > 40:\n",
    "    print('You got C')\n",
    "else : \n",
    "    print('fail')"
   ],
   "outputs": [],
   "metadata": {}
  },
  {
   "cell_type": "code",
   "execution_count": null,
   "source": [
    "marks = 46\n",
    "if marks > 90:\n",
    "    print('You got A+')\n",
    "elif marks > 75 : \n",
    "    print('You got A')\n",
    "elif marks > 50:\n",
    "    print('You got B')\n",
    "elif marks > 40:\n",
    "    print('You got C')\n",
    "else : \n",
    "    print('fail')"
   ],
   "outputs": [],
   "metadata": {}
  },
  {
   "cell_type": "code",
   "execution_count": null,
   "source": [
    "marks = 76\n",
    "if marks > 90:\n",
    "    print('You got A+')\n",
    "elif marks > 75 : \n",
    "    print('You got A')\n",
    "elif marks > 50:\n",
    "    print('You got B')\n",
    "elif marks > 40:\n",
    "    print('You got C')\n",
    "else : \n",
    "    print('fail')"
   ],
   "outputs": [],
   "metadata": {}
  },
  {
   "cell_type": "code",
   "execution_count": null,
   "source": [
    "marks = 96\n",
    "if marks > 90:\n",
    "    print('You got A+')\n",
    "elif marks > 75 : \n",
    "    print('You got A')\n",
    "elif marks > 50:\n",
    "    print('You got B')\n",
    "elif marks > 40:\n",
    "    print('You got C')\n",
    "else : \n",
    "    print('fail')"
   ],
   "outputs": [],
   "metadata": {}
  },
  {
   "cell_type": "code",
   "execution_count": null,
   "source": [
    "num = 51\n",
    "if num % 2 == 0:\n",
    "    if num > 10 : \n",
    "        print('even bigger than 10')\n",
    "    else :\n",
    "        print('even smaller than 10')\n",
    "else:\n",
    "    if num > 10 : \n",
    "        print('odd bigger than 10')\n",
    "    else :\n",
    "        print('odd smaller than 10') "
   ],
   "outputs": [],
   "metadata": {}
  },
  {
   "cell_type": "markdown",
   "source": [
    "### 🕰️Practice time\n",
    "1. Create a condition to check if number is divisible by 3, If yes print \"Horray\"\n",
    "2. Check if person is male/female , \n",
    "\n",
    "    if male , use following income criterion\n",
    "       more than 50,000 is class A, less than 10,000 is class C, between class B\n",
    "    if female, use following income criterion\n",
    "       more than 40,000 is class A, less than 15,000 is class C, between class B\n",
    "3. Check which vehicle pers\n",
    "    for single person - cycle\n",
    "    for couple - bike\n",
    "    upto 4 people - hatchback\n",
    "    more than 4 upto 5 people - sedan\n",
    "    more than 5 upto 7 people - SUV\n",
    "    more than 7 upto 10 people - Bus\n",
    "    more than 10 - trailer"
   ],
   "metadata": {}
  },
  {
   "cell_type": "code",
   "execution_count": null,
   "source": [],
   "outputs": [],
   "metadata": {}
  },
  {
   "cell_type": "code",
   "execution_count": null,
   "source": [],
   "outputs": [],
   "metadata": {}
  },
  {
   "cell_type": "code",
   "execution_count": null,
   "source": [],
   "outputs": [],
   "metadata": {}
  },
  {
   "cell_type": "markdown",
   "source": [
    "## 💪🏻 Loops \n",
    "Loops are helful to iterate over series of data to execute same function on each data.\n",
    "\n",
    "### How to use `while`  loop? \n",
    "While loop keeps on executing till while condition is true. It is very important to change the variable value used in creating condition for while, everytime the loop completes, otherwise we'll get stuck in infinite loop"
   ],
   "metadata": {}
  },
  {
   "cell_type": "code",
   "execution_count": null,
   "source": [
    "i = 0\n",
    "while i < 6:\n",
    "    print('current i value is' + str(i))\n",
    "    i += 1 # If we remove this, the i will be 0 , thus while loop will run forever"
   ],
   "outputs": [],
   "metadata": {}
  },
  {
   "cell_type": "markdown",
   "source": [
    "🕰️ Write `while` loop to get factorial of any number\n",
    "\n",
    "If you were playing outside like me during math class\n",
    "\n",
    "factorial means multiplying number with smaller numbers upto 1\n",
    "\n",
    "e.g. 5! = 5 x 4 x 3 x 2 x1 = 120"
   ],
   "metadata": {}
  },
  {
   "cell_type": "code",
   "execution_count": null,
   "source": [],
   "outputs": [],
   "metadata": {}
  },
  {
   "cell_type": "markdown",
   "source": [
    "### How to use `for`  loop? \n",
    "For loop keeps on executing till it hits the last element in series. It is generally used to loop the elements of data types such as series"
   ],
   "metadata": {}
  },
  {
   "cell_type": "code",
   "execution_count": null,
   "source": [
    "subjectList = ['maths','science','geography','history','english']\n",
    "for subject in subjectList:\n",
    "    print (\"I'm studying \"+ subject) # subject is a variable which holds the value on element in each loop"
   ],
   "outputs": [],
   "metadata": {}
  },
  {
   "cell_type": "markdown",
   "source": [
    "🕰️ Write `for` loop to check if we have failed the semester \n",
    "\n",
    "Rules : each semester has 12 subjects, if you fail more than 3, you will fail semester, passing marks are 40/100\n",
    "    \n",
    "** If you want to make this more interesting , let python decide how much mark you will score. \n",
    "using random function as following\n",
    "```\n",
    "    import random\n",
    "    marks = random.randint(0 , 100)\n",
    "    print(marks)\n",
    "```"
   ],
   "metadata": {}
  },
  {
   "cell_type": "code",
   "execution_count": null,
   "source": [],
   "outputs": [],
   "metadata": {}
  },
  {
   "cell_type": "markdown",
   "source": [
    "### How to create nested loop? \n",
    "We can create loops inside loops. \n"
   ],
   "metadata": {}
  },
  {
   "cell_type": "code",
   "execution_count": null,
   "source": [
    "subjectList = ['maths','science','geography','history','english']\n",
    "studyTime = ['5am-7am', '9am-12pm','5pm-8pm']\n",
    "\n",
    "for subject in subjectList:\n",
    "    print('Today I studied '+ subject)\n",
    "    for time in studyTime:\n",
    "        print('For time '+time)"
   ],
   "outputs": [],
   "metadata": {}
  },
  {
   "cell_type": "markdown",
   "source": [
    "### How to stop loop in between?  \n",
    "We can stop loops by using `break` keyword"
   ],
   "metadata": {}
  },
  {
   "cell_type": "code",
   "execution_count": null,
   "source": [
    "i = 0\n",
    "while i < 6:\n",
    "    if i == 4:\n",
    "        break\n",
    "    print(i)\n",
    "    i +=1\n",
    "\n",
    "# as soon as we get the value of i = 4, we'll break the loop and come out of it"
   ],
   "outputs": [],
   "metadata": {}
  },
  {
   "cell_type": "markdown",
   "source": [
    "🕰️ create same semester example but stop the loop as soon as 3 subjects are failed"
   ],
   "metadata": {}
  },
  {
   "cell_type": "code",
   "execution_count": null,
   "source": [],
   "outputs": [],
   "metadata": {}
  },
  {
   "cell_type": "markdown",
   "source": [
    "## 💪🏻 Functions \n",
    "Functions allow us to execute certain piece of code only when needed.\n",
    "\n",
    "\n",
    "### How to create function? \n",
    "Functions are created using `def` as follow"
   ],
   "metadata": {}
  },
  {
   "cell_type": "code",
   "execution_count": null,
   "source": [
    "#Define function with 'tell_name' as name of function which will print 'Hi Krishna' when executed\n",
    "def tell_name():\n",
    "    print('Hi Krishna')"
   ],
   "outputs": [],
   "metadata": {}
  },
  {
   "cell_type": "code",
   "execution_count": null,
   "source": [
    "tell_name() # This is how we execute the function"
   ],
   "outputs": [],
   "metadata": {}
  },
  {
   "cell_type": "markdown",
   "source": [
    "🕰️ create a function to print the otuput for area of rectangle with sides as 5, 6"
   ],
   "metadata": {}
  },
  {
   "cell_type": "code",
   "execution_count": null,
   "source": [],
   "outputs": [],
   "metadata": {}
  },
  {
   "cell_type": "markdown",
   "source": [
    "### How to pass arguments to function? \n",
    "\n",
    "1. Create arguments for function"
   ],
   "metadata": {}
  },
  {
   "cell_type": "code",
   "execution_count": null,
   "source": [
    "#Define function with 'tell_name' as name with argument as 'Person' which will print 'Hi ' + Person when executed\n",
    "def tell_name_with_arg(person):\n",
    "    print('Hi '+person)"
   ],
   "outputs": [],
   "metadata": {}
  },
  {
   "cell_type": "code",
   "execution_count": null,
   "source": [
    "tell_name_with_arg('siddhi') # This is how we execute the function"
   ],
   "outputs": [],
   "metadata": {}
  },
  {
   "cell_type": "code",
   "execution_count": null,
   "source": [
    "tell_name_with_arg() # Function will give error if argument value is not passed"
   ],
   "outputs": [],
   "metadata": {}
  },
  {
   "cell_type": "markdown",
   "source": [
    "2. Create multiple arguments for functions"
   ],
   "metadata": {}
  },
  {
   "cell_type": "code",
   "execution_count": null,
   "source": [
    "def about_me(name,hobby,age):\n",
    "    print('Hi, My name is '+ name+ ' I like '+hobby + ' I am '+ str(age)+ ' years old')"
   ],
   "outputs": [],
   "metadata": {}
  },
  {
   "cell_type": "code",
   "execution_count": null,
   "source": [
    "about_me('siddhi','running', 25)"
   ],
   "outputs": [],
   "metadata": {}
  },
  {
   "cell_type": "code",
   "execution_count": null,
   "source": [
    "about_me(age=24, name='krishna', hobby='trekking')"
   ],
   "outputs": [],
   "metadata": {}
  },
  {
   "cell_type": "markdown",
   "source": [
    "🕰️ create a function to print the otuput for area of rectangle with sides as parameter"
   ],
   "metadata": {}
  },
  {
   "cell_type": "code",
   "execution_count": null,
   "source": [],
   "outputs": [],
   "metadata": {}
  },
  {
   "cell_type": "markdown",
   "source": [
    "🕰️  pass the income and gender of person to print the class person belongs to \n",
    "\n",
    "    Male \n",
    "        Greater than 50k - class A\n",
    "        Lesser than 10k - Class C\n",
    "        Between - Class B\n",
    "    Female\n",
    "        Greater than 30k - class A\n",
    "        Lesser than 15k - Class C\n",
    "        Between - Class B"
   ],
   "metadata": {}
  },
  {
   "cell_type": "code",
   "execution_count": null,
   "source": [],
   "outputs": [],
   "metadata": {}
  },
  {
   "cell_type": "markdown",
   "source": [
    "3. Defining default value for variable\n",
    "\n",
    "We can provide some default vaue to argument, so that it'll be used if user doesn't specify it"
   ],
   "metadata": {}
  },
  {
   "cell_type": "code",
   "execution_count": null,
   "source": [
    "def heya(name='stranger'):\n",
    "    print('heya '+ name)\n",
    "    "
   ],
   "outputs": [],
   "metadata": {}
  },
  {
   "cell_type": "code",
   "execution_count": null,
   "source": [
    "heya('sus')"
   ],
   "outputs": [],
   "metadata": {}
  },
  {
   "cell_type": "code",
   "execution_count": null,
   "source": [
    "heya()"
   ],
   "outputs": [],
   "metadata": {}
  },
  {
   "cell_type": "markdown",
   "source": [
    "🕰️ Create employee directory function, where if role is Manager, salary is 20000 , if role is dev, salary is 10000, for any other role salary is 8000"
   ],
   "metadata": {}
  },
  {
   "cell_type": "code",
   "execution_count": null,
   "source": [],
   "outputs": [],
   "metadata": {}
  },
  {
   "cell_type": "markdown",
   "source": [
    "### How to store function result in variable? \n",
    "We can save the result of function in any variable by using `return`\n"
   ],
   "metadata": {}
  },
  {
   "cell_type": "code",
   "execution_count": null,
   "source": [
    "def after_tax_val(rate):\n",
    "    return rate*1.18 # Instead of printing we are returning the value"
   ],
   "outputs": [],
   "metadata": {}
  },
  {
   "cell_type": "code",
   "execution_count": null,
   "source": [
    "mango = after_tax_val(100)\n",
    "mango"
   ],
   "outputs": [],
   "metadata": {}
  },
  {
   "cell_type": "markdown",
   "source": [
    "### How to create anonymous functions ? \n",
    "We can create anonymous function which can take any numbers of arguments but will perform only one activity `lambda`\n"
   ],
   "metadata": {}
  },
  {
   "cell_type": "code",
   "execution_count": null,
   "source": [
    "final_bill = lambda price : price*1.18"
   ],
   "outputs": [],
   "metadata": {}
  },
  {
   "cell_type": "code",
   "execution_count": null,
   "source": [
    "car = final_bill(1000)\n",
    "car"
   ],
   "outputs": [],
   "metadata": {}
  },
  {
   "cell_type": "code",
   "execution_count": null,
   "source": [
    "final_bill = lambda price,rate : price*(1 + rate/100)"
   ],
   "outputs": [],
   "metadata": {}
  },
  {
   "cell_type": "code",
   "execution_count": null,
   "source": [
    "computer = final_bill(500,12)\n",
    "computer"
   ],
   "outputs": [],
   "metadata": {}
  }
 ],
 "metadata": {
  "kernelspec": {
   "name": "python3",
   "display_name": "Python 3.6.13 64-bit ('fossworkshop': conda)"
  },
  "language_info": {
   "codemirror_mode": {
    "name": "ipython",
    "version": 3
   },
   "file_extension": ".py",
   "mimetype": "text/x-python",
   "name": "python",
   "nbconvert_exporter": "python",
   "pygments_lexer": "ipython3",
   "version": "3.6.13"
  },
  "interpreter": {
   "hash": "9a548091e2697377a2ce6b3efb7eed731e13997a7baaa2410076b35d537cecf6"
  }
 },
 "nbformat": 4,
 "nbformat_minor": 5
}