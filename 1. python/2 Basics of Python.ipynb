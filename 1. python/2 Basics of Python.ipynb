{
 "cells": [
  {
   "cell_type": "markdown",
   "source": [
    "# 🐍 Basics of Python "
   ],
   "metadata": {}
  },
  {
   "cell_type": "markdown",
   "source": [
    "## 🎯 Rules of Python\n",
    "### 1. Python is Case Sensitive \n",
    "that means writing function, variables, classes, etc. names as cat and CAT is different\n"
   ],
   "metadata": {}
  },
  {
   "cell_type": "code",
   "execution_count": null,
   "source": [
    "cat = 'meow'\n",
    "print(cat)"
   ],
   "outputs": [],
   "metadata": {}
  },
  {
   "cell_type": "code",
   "execution_count": null,
   "source": [
    "print(CAT)"
   ],
   "outputs": [],
   "metadata": {}
  },
  {
   "cell_type": "markdown",
   "source": [
    "### 2. Python cares about Indentation\n",
    "Python follows indentation while writing code. \n",
    "when we'll write function, the logic will be indented 1 tab or 4 spaces inside the name as follows"
   ],
   "metadata": {}
  },
  {
   "cell_type": "code",
   "execution_count": null,
   "source": [
    "def correctway():\n",
    "    print('hi')"
   ],
   "outputs": [],
   "metadata": {}
  },
  {
   "cell_type": "code",
   "execution_count": null,
   "source": [
    "def incorrectway():\n",
    "print('hi')"
   ],
   "outputs": [],
   "metadata": {
    "scrolled": true
   }
  },
  {
   "cell_type": "markdown",
   "source": [
    "the spacing that we see bewteen the start point of the word 'def' and 'print' is indentation, and generally, we follow 1 tab or 4 spacebar hits to get in one step indentation\n",
    "### 3. Python doesn't care about empty lines\n",
    "Adding empty lines between codes won't matter in python. Following 2 code blocks will give us the same results"
   ],
   "metadata": {}
  },
  {
   "cell_type": "code",
   "execution_count": null,
   "source": [
    "print('line 1')\n",
    "\n",
    "\n",
    "\n",
    "\n",
    "\n",
    "\n",
    "\n",
    "print('line 2')"
   ],
   "outputs": [],
   "metadata": {}
  },
  {
   "cell_type": "code",
   "execution_count": null,
   "source": [
    "print('line 1')\n",
    "print('line 2')"
   ],
   "outputs": [],
   "metadata": {}
  },
  {
   "cell_type": "markdown",
   "source": [
    "### 4. Adding comments\n",
    "Adding comments is a way of writing human readable text which will not get executed as python, but will help fellow developer to understand more about your code"
   ],
   "metadata": {}
  },
  {
   "cell_type": "code",
   "execution_count": null,
   "source": [
    "# following function is used to add 2 numbers\n",
    "def add(a,b):\n",
    "    return a + b # this will return the result"
   ],
   "outputs": [],
   "metadata": {}
  },
  {
   "cell_type": "markdown",
   "source": [
    "## 🎯 Variables\n",
    "Variables helps us to store the data in a variable name which then can be referred throught the code depending upon it's scope \n",
    "\n",
    "### How to define variable ? "
   ],
   "metadata": {}
  },
  {
   "cell_type": "code",
   "execution_count": null,
   "source": [
    "#Defining a variable\n",
    "car = 'tata'"
   ],
   "outputs": [],
   "metadata": {}
  },
  {
   "cell_type": "markdown",
   "source": [
    "Python has some reserve keywords which we can't use as vairable names, such as print, def, True, etc. full list can be found here https://realpython.com/lessons/reserved-keywords/\n",
    "\n",
    "### How to make sense out of variable name ? \n",
    "While writing bigger code, it is important to give some thoughts to variable names as those will be refered hundreds of times by you or other developers. \n",
    "We need to find sweetspot between variable name making sense, and variable name being small.\n",
    "We can use _ or use camelCasing format to club multiple words together \n",
    "\n",
    "Variable name can not begin with number"
   ],
   "metadata": {}
  },
  {
   "cell_type": "code",
   "execution_count": null,
   "source": [
    "# store value of water in well \n",
    "volume_of_water_in_well = 100 # Club words using _ in between\n",
    "volumeOfWaterInWell = 120 #Using camelCasing\n",
    "waterVolWell = 100 # Writing shorter name which will make sense following iether _ or camelCasing"
   ],
   "outputs": [],
   "metadata": {}
  },
  {
   "cell_type": "code",
   "execution_count": null,
   "source": [
    "123 = 'abc'"
   ],
   "outputs": [],
   "metadata": {}
  },
  {
   "cell_type": "code",
   "execution_count": null,
   "source": [
    "_123 = 'abc'\n",
    "G12231 = 'asfsv'"
   ],
   "outputs": [],
   "metadata": {}
  },
  {
   "cell_type": "markdown",
   "source": [
    "### How to define Scope of variable ? \n",
    "Generally all variables we define have global scope. i.e. they can be used anywhere in the code. But variables that we define inside functions are of local scope i.e. they only live inside that sepecific function.\n"
   ],
   "metadata": {}
  },
  {
   "cell_type": "code",
   "execution_count": null,
   "source": [
    "global_rate = 200 # Global variable\n",
    "\n",
    "def local_market(discount):\n",
    "    local_rate = global_rate*(1 - discount/100) # Local variable\n",
    "    print('local rate of item is ' + str(local_rate)) # Printing Local variable\n",
    "    \n",
    "print('global rate of item is ' + str(global_rate))# Printing Global variable\n",
    "local_market(20)"
   ],
   "outputs": [],
   "metadata": {}
  },
  {
   "cell_type": "markdown",
   "source": [
    "If we try to print local variable outside function, we'll get an error"
   ],
   "metadata": {}
  },
  {
   "cell_type": "code",
   "execution_count": null,
   "source": [
    "global_rate = 200 # Global variable\n",
    "\n",
    "def local_market(discount):\n",
    "    local_rate = global_rate*(1 - discount/100) # Local variable\n",
    "    print('local rate of item is ' + str(local_rate)) # Printing Local variable\n",
    "    \n",
    "print('global rate of item is ' + str(global_rate))# Printing Global variable\n",
    "local_market(20)\n",
    "print('local rate of item is ' + str(local_rate)) # Printing Local variable"
   ],
   "outputs": [],
   "metadata": {}
  },
  {
   "cell_type": "code",
   "execution_count": null,
   "source": [
    "global_rate = 200 # Global variable\n",
    "\n",
    "def local_market(discount):\n",
    "    global local_rate\n",
    "    local_rate = global_rate*(1 - discount/100) # Local variable\n",
    "    print('local rate of item is ' + str(local_rate)) # Printing Local variable\n",
    "    \n",
    "print('global rate of item is ' + str(global_rate))# Printing Global variable\n",
    "local_market(20)\n",
    "print('local rate of item is ' + str(local_rate)) # Printing Local variable"
   ],
   "outputs": [],
   "metadata": {}
  },
  {
   "cell_type": "markdown",
   "source": [
    "## 🎯 Data types\n",
    "Python supports lot of data types which helps us to store the data and use it\n",
    "\n",
    "### What are different data types?\n",
    "1. String Data Type"
   ],
   "metadata": {}
  },
  {
   "cell_type": "code",
   "execution_count": null,
   "source": [
    "car = 'tata'  # tata is a string of letters\n",
    "pet = 'puffy' # puffy is a string of letters\n",
    "multi = '''\n",
    "Hi\n",
    "I am Krishna\n",
    "Speaking at FOSS 4g \n",
    "'''"
   ],
   "outputs": [],
   "metadata": {}
  },
  {
   "cell_type": "markdown",
   "source": [
    "2. Numeric data types - This will contain Integer and Float (Decimals)"
   ],
   "metadata": {}
  },
  {
   "cell_type": "code",
   "execution_count": null,
   "source": [
    "rank = 1 # 1 is integer\n",
    "pie = 3.14 # 3.14 is float\n",
    "rate = -5 # -5 is integer"
   ],
   "outputs": [],
   "metadata": {}
  },
  {
   "cell_type": "markdown",
   "source": [
    "3. Boolean - True/False Notice that the first letter is captial"
   ],
   "metadata": {}
  },
  {
   "cell_type": "code",
   "execution_count": null,
   "source": [
    "t = True # True is boolean type\n",
    "isThisCorrect = false # false is not Boolean type, False is boolen type\n",
    "isThisCorrectNow = False # False is boolean type"
   ],
   "outputs": [],
   "metadata": {}
  },
  {
   "cell_type": "markdown",
   "source": [
    "----------------------------------------------------------------------------------------------------------------------\n",
    "### `🕰️ Practice time`\n",
    "Create few variables storing following information\n",
    "1. Name (String)\n",
    "2. Address (Multiline String)\n",
    "3. Age (Integer)\n",
    "4. AreYouMarried (Boolean)\n",
    "5. Area of circle having radius 5 cm (Float)\n",
    "\n",
    "----------------------------------------------------------------------------------------------------------------------\n"
   ],
   "metadata": {}
  },
  {
   "cell_type": "markdown",
   "source": [
    "4. Squence data types - writing more data together\n",
    "\n",
    "    a. List \n",
    "\n",
    "    b. Tuple\n",
    "\n",
    "    c. Dictionary\n",
    "\n",
    "    d. Set\n",
    "\n",
    "each of these data types have unique properties which we'll see shortly"
   ],
   "metadata": {}
  },
  {
   "cell_type": "code",
   "execution_count": null,
   "source": [
    "myPets = ['puffy','zazzy','cat mandu','rio'] # List \n",
    "food = ('biryani', 'paneer', 'momo') # tuple\n",
    "work = {'name': 'finish notebook', 'language': 'python','done': True} # Dictionary\n",
    "songs = {'Goat','fifa anthem', 'swadesh','stan'} # set"
   ],
   "outputs": [],
   "metadata": {}
  },
  {
   "cell_type": "markdown",
   "source": [
    "### How to check data types?\n",
    "put variable name inside type() function"
   ],
   "metadata": {}
  },
  {
   "cell_type": "code",
   "execution_count": null,
   "source": [
    "type(food)"
   ],
   "outputs": [],
   "metadata": {}
  },
  {
   "cell_type": "code",
   "execution_count": null,
   "source": [
    "type(isPythonCool)"
   ],
   "outputs": [],
   "metadata": {}
  },
  {
   "cell_type": "code",
   "execution_count": null,
   "source": [
    "type(songs)"
   ],
   "outputs": [],
   "metadata": {}
  },
  {
   "cell_type": "markdown",
   "source": [
    "## 🎯 List Data type\n",
    "\n",
    "### Properties of List\n",
    "1. Values inside list are <b>indexed and changable</b>\n",
    "2. To define List, put all the values inside [] seperated by commas.\n",
    "3. List can contain any data type data inside it\n"
   ],
   "metadata": {}
  },
  {
   "cell_type": "code",
   "execution_count": null,
   "source": [
    "randomList = ['puffy',True,'rio', 12.12,44, ['smaller', 'list', 'inside','list']]"
   ],
   "outputs": [],
   "metadata": {}
  },
  {
   "cell_type": "markdown",
   "source": [
    "### Access elements of List\n",
    "\n",
    "To access individual element inside list, use it's index number. Index number of list starts from 0"
   ],
   "metadata": {}
  },
  {
   "cell_type": "code",
   "execution_count": null,
   "source": [
    "randomList[0]"
   ],
   "outputs": [],
   "metadata": {}
  },
  {
   "cell_type": "code",
   "execution_count": null,
   "source": [
    "randomList[3]"
   ],
   "outputs": [],
   "metadata": {}
  },
  {
   "cell_type": "markdown",
   "source": [
    "To catch element from end, use negative index value which starts with -1"
   ],
   "metadata": {}
  },
  {
   "cell_type": "code",
   "execution_count": null,
   "source": [
    "randomList[-1]"
   ],
   "outputs": [],
   "metadata": {}
  },
  {
   "cell_type": "code",
   "execution_count": null,
   "source": [
    "randomList[-2]"
   ],
   "outputs": [],
   "metadata": {}
  },
  {
   "cell_type": "markdown",
   "source": [
    "### Modify elements of List\n",
    "1. To change existing element, use index number\n"
   ],
   "metadata": {}
  },
  {
   "cell_type": "code",
   "execution_count": null,
   "source": [
    "randomList"
   ],
   "outputs": [],
   "metadata": {}
  },
  {
   "cell_type": "code",
   "execution_count": null,
   "source": [
    "randomList[0] = 'mars'\n",
    "randomList"
   ],
   "outputs": [],
   "metadata": {}
  },
  {
   "cell_type": "markdown",
   "source": [
    "2. To add new element at last use command `list.append(val)`\n"
   ],
   "metadata": {}
  },
  {
   "cell_type": "code",
   "execution_count": null,
   "source": [
    "randomList.append('ramanujan')\n",
    "randomList"
   ],
   "outputs": [],
   "metadata": {}
  },
  {
   "cell_type": "markdown",
   "source": [
    "3. To add new element at any position use `list.insert(index, val)`\n"
   ],
   "metadata": {}
  },
  {
   "cell_type": "code",
   "execution_count": null,
   "source": [
    "randomList.insert(2,'foss4g')\n",
    "randomList"
   ],
   "outputs": [],
   "metadata": {}
  },
  {
   "cell_type": "markdown",
   "source": [
    "4. To remove element at any position use `list.pop(index)`\n"
   ],
   "metadata": {}
  },
  {
   "cell_type": "code",
   "execution_count": null,
   "source": [
    "randomList.pop(2)\n",
    "randomList"
   ],
   "outputs": [],
   "metadata": {}
  },
  {
   "cell_type": "markdown",
   "source": [
    "5. To remove element based on value `list.remove(value)`\n"
   ],
   "metadata": {}
  },
  {
   "cell_type": "code",
   "execution_count": null,
   "source": [
    "randomList.remove('rio')\n",
    "randomList"
   ],
   "outputs": [],
   "metadata": {}
  },
  {
   "cell_type": "markdown",
   "source": [
    "----------------------------------------------------------------------------------------------------------------------\n",
    "### `🕰️ Practice time`\n",
    "1. Create a list of colors you like\n",
    "2. Create a list of colors you hate \n",
    "3. Take 2nd color from hateList and add it at the end of likeList\n",
    "4. Take 2nd last color from likeList and put at the start of hateList\n",
    "5. Merge two list into one single list\n",
    "\n",
    "----------------------------------------------------------------------------------------------------------------------\n"
   ],
   "metadata": {}
  },
  {
   "cell_type": "code",
   "execution_count": null,
   "source": [
    "# Create a list of colors you like\n",
    "\n"
   ],
   "outputs": [],
   "metadata": {}
  },
  {
   "cell_type": "code",
   "execution_count": null,
   "source": [
    "# Create a list of colors you hate \n",
    "\n",
    "\n"
   ],
   "outputs": [],
   "metadata": {}
  },
  {
   "cell_type": "code",
   "execution_count": null,
   "source": [
    "# Take 2nd color from hateList and add it at the end of likeList\n",
    "\n"
   ],
   "outputs": [],
   "metadata": {}
  },
  {
   "cell_type": "code",
   "execution_count": null,
   "source": [
    "# Take 2nd last color from likeList and put at the start of hateList\n",
    "\n"
   ],
   "outputs": [],
   "metadata": {}
  },
  {
   "cell_type": "code",
   "execution_count": null,
   "source": [
    "# Merge two list into one single list\n",
    "\n"
   ],
   "outputs": [],
   "metadata": {}
  },
  {
   "cell_type": "markdown",
   "source": [
    "## 🎯 Tuple Data type\n",
    "\n",
    "### Properties of Tuple\n",
    "1. Values inside list are <b>indexed and unchangable</b>\n",
    "2. To define Tuple, put all the values inside ( ) seperated by commas.\n",
    "3. Tuple can contain any data type data inside it\n",
    "4. Once Defined data inside Tuple can't be changed\n"
   ],
   "metadata": {}
  },
  {
   "cell_type": "code",
   "execution_count": null,
   "source": [
    "randomTuple = ('puffy',True,'rio', 12.12,44, ['smaller', 'list', 'inside','list'], )"
   ],
   "outputs": [],
   "metadata": {}
  },
  {
   "cell_type": "markdown",
   "source": [
    "### Access elements of Tuple\n",
    "\n",
    "To access individual element inside Tuple, use it's index number. Index number of Tuple starts from 0"
   ],
   "metadata": {}
  },
  {
   "cell_type": "code",
   "execution_count": null,
   "source": [
    "randomTuple[1]"
   ],
   "outputs": [],
   "metadata": {}
  },
  {
   "cell_type": "code",
   "execution_count": null,
   "source": [
    "randomTuple[3]"
   ],
   "outputs": [],
   "metadata": {}
  },
  {
   "cell_type": "markdown",
   "source": [
    "To catch element from end, use negative index value which starts with -1\n"
   ],
   "metadata": {}
  },
  {
   "cell_type": "code",
   "execution_count": null,
   "source": [
    "randomTuple[-2]"
   ],
   "outputs": [],
   "metadata": {}
  },
  {
   "cell_type": "markdown",
   "source": [
    "## 🎯 Set Data type\n",
    "\n",
    "### Properties of Set\n",
    "1. Values inside Set are <b>unindexed and unchangable</b>\n",
    "2. To define Set, put all the values inside { } seperated by commas.\n",
    "3. Set can contain any data type data inside it\n",
    "4. Set doesn't allow duplicate values\n",
    "\n",
    "Sets are faster to loop through as compared to List"
   ],
   "metadata": {}
  },
  {
   "cell_type": "code",
   "execution_count": null,
   "source": [
    "randomSet = {'bananas','apple','cherry','mango','banana'} \n",
    "randomSet # Notice that the index is changed, and also banana is only written once"
   ],
   "outputs": [],
   "metadata": {}
  },
  {
   "cell_type": "markdown",
   "source": [
    "## 🎯 Dictionary Data types\n",
    "\n",
    "### Properties of Dictionary\n",
    "1. Values inside Dictionary are <b>key:value pair</b>\n",
    "2. To define Dictionary, put all the values inside { key:value } seperated by commas.\n",
    "3. Dictionary can contain any data type data inside it\n"
   ],
   "metadata": {}
  },
  {
   "cell_type": "code",
   "execution_count": null,
   "source": [
    "schoolWork = {\n",
    "    'subject':'Science',\n",
    "    'portionFinished' : 50,\n",
    "    'everyday': True,\n",
    "    'important chapters': [1,3,7,8]\n",
    "}"
   ],
   "outputs": [],
   "metadata": {}
  },
  {
   "cell_type": "markdown",
   "source": [
    "### Access elements of Dictionary\n",
    "\n",
    "To access individual element inside Dictionary, use it's key."
   ],
   "metadata": {}
  },
  {
   "cell_type": "code",
   "execution_count": null,
   "source": [
    "schoolWork['subject']"
   ],
   "outputs": [],
   "metadata": {}
  },
  {
   "cell_type": "code",
   "execution_count": null,
   "source": [
    "schoolWork['everyday']"
   ],
   "outputs": [],
   "metadata": {}
  },
  {
   "cell_type": "markdown",
   "source": [
    "### Add elements of Dictionary\n"
   ],
   "metadata": {}
  },
  {
   "cell_type": "code",
   "execution_count": null,
   "source": [
    "schoolWork['teacher'] = \"Mr. Sing\"\n",
    "schoolWork"
   ],
   "outputs": [],
   "metadata": {}
  },
  {
   "cell_type": "markdown",
   "source": [
    "### Update elements of Dictionary\n",
    "\n",
    "To update individual element inside Dictionary, use it's key."
   ],
   "metadata": {}
  },
  {
   "cell_type": "code",
   "execution_count": null,
   "source": [
    "schoolWork['teacher'] = \"Mr. Singh\"\n",
    "schoolWork"
   ],
   "outputs": [],
   "metadata": {}
  },
  {
   "cell_type": "markdown",
   "source": [
    "### Remove elements of Dictionary\n",
    "\n",
    "To remove individual element inside Dictionary, use it's key."
   ],
   "metadata": {}
  },
  {
   "cell_type": "code",
   "execution_count": null,
   "source": [
    "schoolWork.pop('everyday')\n",
    "schoolWork"
   ],
   "outputs": [],
   "metadata": {}
  },
  {
   "cell_type": "markdown",
   "source": [
    "----------------------------------------------------------------------------------------------------------------------\n",
    "### `🕰️ Practice time`\n",
    "1. Create a dictionary of information about your pet (type, name,color, height, weight)\n",
    "2. Rename the `color` key to `shade`\n",
    "3. Add new information to the dictionary `mood:happy`\n",
    "\n",
    "----------------------------------------------------------------------------------------------------------------------\n"
   ],
   "metadata": {}
  },
  {
   "cell_type": "code",
   "execution_count": null,
   "source": [
    "# 1. Create a dictionary of information about your pet (type, name,color, height, weight)\n"
   ],
   "outputs": [],
   "metadata": {}
  },
  {
   "cell_type": "code",
   "execution_count": null,
   "source": [
    "# 2. Rename the `color` key to `shade`\n"
   ],
   "outputs": [],
   "metadata": {}
  },
  {
   "cell_type": "code",
   "execution_count": null,
   "source": [
    "# 3. Add new information to the dictionary `mood:happy`\n"
   ],
   "outputs": [],
   "metadata": {}
  },
  {
   "cell_type": "markdown",
   "source": [
    "## 🎯 Operators \n",
    "\n",
    "### 1. Arithematic Operators ( +,-,*,/,%,//,**)\n",
    "These are used to perfom arithematic operations between multiple numeric data"
   ],
   "metadata": {}
  },
  {
   "cell_type": "code",
   "execution_count": null,
   "source": [
    "4 + 3 "
   ],
   "outputs": [],
   "metadata": {}
  },
  {
   "cell_type": "code",
   "execution_count": null,
   "source": [
    "5 - 90"
   ],
   "outputs": [],
   "metadata": {}
  },
  {
   "cell_type": "code",
   "execution_count": null,
   "source": [
    "7 % 6"
   ],
   "outputs": [],
   "metadata": {}
  },
  {
   "cell_type": "code",
   "execution_count": null,
   "source": [
    "8 / 6"
   ],
   "outputs": [],
   "metadata": {}
  },
  {
   "cell_type": "code",
   "execution_count": null,
   "source": [
    "5**4"
   ],
   "outputs": [],
   "metadata": {}
  },
  {
   "cell_type": "code",
   "execution_count": null,
   "source": [
    "# Calcuate area of square ( pi.r.r)\n"
   ],
   "outputs": [],
   "metadata": {}
  },
  {
   "cell_type": "markdown",
   "source": [
    "### 2. Assignment Operators ( =, += , -=, *=, /=)\n",
    "These are used to assign new value to existing varables"
   ],
   "metadata": {}
  },
  {
   "cell_type": "code",
   "execution_count": null,
   "source": [
    "current_rate = 10"
   ],
   "outputs": [],
   "metadata": {}
  },
  {
   "cell_type": "code",
   "execution_count": null,
   "source": [
    "current_rate += 1 \n",
    "# This in brief means current_rate = current_rate + 1\n",
    "current_rate"
   ],
   "outputs": [],
   "metadata": {}
  },
  {
   "cell_type": "code",
   "execution_count": null,
   "source": [
    "current_rate *= 2\n",
    "# This in brief means current_rate = current_rate * 2\n",
    "current_rate"
   ],
   "outputs": [],
   "metadata": {}
  },
  {
   "cell_type": "markdown",
   "source": [
    "🕰️Calculate the actual cost of Item based on following calulation\n",
    "\n",
    "Base price(10,000) , 18% tax on base price , 2% cess on taxed amount , 5% discount on base price , 200 off on final cost via coupon\n"
   ],
   "metadata": {}
  },
  {
   "cell_type": "code",
   "execution_count": null,
   "source": [],
   "outputs": [],
   "metadata": {}
  },
  {
   "cell_type": "markdown",
   "source": [
    "### 3. Comparison Operators ( ==,<,>,<=,>=, !=)\n",
    "These are used to compare value of two variables, it gives the result as True or False"
   ],
   "metadata": {}
  },
  {
   "cell_type": "code",
   "execution_count": null,
   "source": [
    "car1_price = 100\n",
    "car2_price = 120\n",
    "car1_name = 'tata'\n",
    "car2_name = 'kia'\n",
    "car3_name = 'tata'\n",
    "car4_name = 'zest'"
   ],
   "outputs": [],
   "metadata": {}
  },
  {
   "cell_type": "code",
   "execution_count": null,
   "source": [
    "car2_price == car1_price"
   ],
   "outputs": [],
   "metadata": {}
  },
  {
   "cell_type": "code",
   "execution_count": null,
   "source": [
    "car2_price > car1_price"
   ],
   "outputs": [],
   "metadata": {}
  },
  {
   "cell_type": "code",
   "execution_count": null,
   "source": [
    "car2_name != car3_name"
   ],
   "outputs": [],
   "metadata": {}
  },
  {
   "cell_type": "code",
   "execution_count": null,
   "source": [
    "car3_name > car2_name # using alphabetical order"
   ],
   "outputs": [],
   "metadata": {}
  },
  {
   "cell_type": "code",
   "execution_count": null,
   "source": [
    "car3_name > car4_name # using alphabetical order"
   ],
   "outputs": [],
   "metadata": {}
  },
  {
   "cell_type": "code",
   "execution_count": null,
   "source": [
    "car2_name == car3_name"
   ],
   "outputs": [],
   "metadata": {}
  },
  {
   "cell_type": "markdown",
   "source": [
    "### 4. Logical Operators ( and, or, not)\n",
    "These are used to combine multiple conditions and check the result"
   ],
   "metadata": {}
  },
  {
   "cell_type": "code",
   "execution_count": null,
   "source": [
    "car2_name == car3_name and car2_price < car1_price"
   ],
   "outputs": [],
   "metadata": {}
  },
  {
   "cell_type": "code",
   "execution_count": null,
   "source": [
    "car2_name == car3_name or car2_price < car1_price"
   ],
   "outputs": [],
   "metadata": {}
  },
  {
   "cell_type": "code",
   "execution_count": null,
   "source": [
    "car2_name == car3_name"
   ],
   "outputs": [],
   "metadata": {}
  },
  {
   "cell_type": "code",
   "execution_count": null,
   "source": [
    "not(car2_name == car3_name)"
   ],
   "outputs": [],
   "metadata": {}
  },
  {
   "cell_type": "markdown",
   "source": [
    "### 5. Membership Operators ( in , not in)\n",
    "These are used to check if some value is available in some another value"
   ],
   "metadata": {}
  },
  {
   "cell_type": "code",
   "execution_count": null,
   "source": [
    "car1_name = 'tata'\n"
   ],
   "outputs": [],
   "metadata": {}
  },
  {
   "cell_type": "code",
   "execution_count": null,
   "source": [
    "'t' in car1_name # checking whether the letter 't' is present in variable car_name"
   ],
   "outputs": [],
   "metadata": {}
  },
  {
   "cell_type": "code",
   "execution_count": null,
   "source": [
    "'mars' in randomList # checking whether the string 'mars' is present in list randomList"
   ],
   "outputs": [],
   "metadata": {}
  },
  {
   "cell_type": "markdown",
   "source": [
    "🕰️ is there `i` in `team` "
   ],
   "metadata": {}
  },
  {
   "cell_type": "code",
   "execution_count": null,
   "source": [],
   "outputs": [],
   "metadata": {}
  },
  {
   "cell_type": "markdown",
   "source": [
    "🕰️ is `python` in your pet list"
   ],
   "metadata": {}
  },
  {
   "cell_type": "code",
   "execution_count": null,
   "source": [],
   "outputs": [],
   "metadata": {}
  }
 ],
 "metadata": {
  "celltoolbar": "Raw Cell Format",
  "kernelspec": {
   "name": "python3",
   "display_name": "Python 3.9.6 64-bit ('foss4genv': conda)"
  },
  "language_info": {
   "codemirror_mode": {
    "name": "ipython",
    "version": 3
   },
   "file_extension": ".py",
   "mimetype": "text/x-python",
   "name": "python",
   "nbconvert_exporter": "python",
   "pygments_lexer": "ipython3",
   "version": "3.9.6"
  },
  "interpreter": {
   "hash": "3c267868cc89117acd027e1bfab6f6e592628d4bed6ee8d241840454009978b9"
  }
 },
 "nbformat": 4,
 "nbformat_minor": 5
}