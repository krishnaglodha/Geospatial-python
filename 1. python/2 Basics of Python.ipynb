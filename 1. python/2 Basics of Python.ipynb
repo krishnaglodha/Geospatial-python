{
 "cells": [
  {
   "cell_type": "markdown",
   "id": "f30853ab",
   "metadata": {},
   "source": [
    "# 🐍 Basics of Python "
   ]
  },
  {
   "cell_type": "markdown",
   "id": "29986126",
   "metadata": {},
   "source": [
    "## 🎯 Rules of Python\n",
    "### 1. Python is Case Sensitive \n",
    "that means writing function, variables, classes, etc. names as cat and CAT is different\n",
    "### 2. Python cares about Indentation\n",
    "Python follows indentation while writing code. \n",
    "when we'll write function, the logic will be indented 1 tab or 4 spaces inside the name as follows"
   ]
  },
  {
   "cell_type": "code",
   "execution_count": 101,
   "id": "ca5fdf7d",
   "metadata": {},
   "outputs": [],
   "source": [
    "def correctway():\n",
    "    print('hi')"
   ]
  },
  {
   "cell_type": "code",
   "execution_count": null,
   "id": "0a1024b9",
   "metadata": {
    "scrolled": true
   },
   "outputs": [],
   "source": [
    "def incorrectway():\n",
    "print('hi')"
   ]
  },
  {
   "cell_type": "markdown",
   "id": "887bf058",
   "metadata": {},
   "source": [
    "the spacing that we see bewteen the start point of the word 'def' and 'print' is indentation, and generally, we follow 1 tab or 4 spacebar hits to get in one step indentation\n",
    "### 3. Python doesn't care about empty lines\n",
    "Adding empty lines between codes won't matter in python. Following 2 code blocks will give us the same results"
   ]
  },
  {
   "cell_type": "code",
   "execution_count": null,
   "id": "51100178",
   "metadata": {},
   "outputs": [],
   "source": [
    "print('line 1')\n",
    "\n",
    "\n",
    "\n",
    "\n",
    "\n",
    "\n",
    "\n",
    "print('line 2')"
   ]
  },
  {
   "cell_type": "code",
   "execution_count": null,
   "id": "cb8eb251",
   "metadata": {},
   "outputs": [],
   "source": [
    "print('line 1')\n",
    "print('line 2')"
   ]
  },
  {
   "cell_type": "markdown",
   "id": "ca3cf1fb",
   "metadata": {},
   "source": [
    "### 4. Adding comments\n",
    "Adding comments is a way of writing human readable text which will not get executed as python, but will help fellow developer to understand more about your code"
   ]
  },
  {
   "cell_type": "code",
   "execution_count": null,
   "id": "1f0fa630",
   "metadata": {},
   "outputs": [],
   "source": [
    "#following function is used to add 2 numbers\n",
    "def add(a,b):\n",
    "    return a + b # this will return the result"
   ]
  },
  {
   "cell_type": "markdown",
   "id": "0a54aae6",
   "metadata": {},
   "source": [
    "## 🎯 Variables\n",
    "Variables helps us to stroe the data in a variable name which then can be referred throught the code depending upon it's scope \n",
    "\n",
    "### How to define variable ? \n"
   ]
  },
  {
   "cell_type": "code",
   "execution_count": null,
   "id": "18e2f80a",
   "metadata": {},
   "outputs": [],
   "source": [
    "#Defining a variable\n",
    "car = 'tata'"
   ]
  },
  {
   "cell_type": "markdown",
   "id": "143d88e4",
   "metadata": {},
   "source": [
    "Python has some reserve keywords which we can't use as vairable names, such as print, def, True, etc. full list can be found here https://realpython.com/lessons/reserved-keywords/\n",
    "\n",
    "### How to make sense out of variable name ? \n",
    "While writing bigger code, it is important to give some thoughts to variable names as those will be refered hundreds of times by you or other developers. \n",
    "We need to find sweetspot between variable name making sense, and variable name being small.\n",
    "We can use _ or use camelCasing format to club multiple words together "
   ]
  },
  {
   "cell_type": "code",
   "execution_count": null,
   "id": "a8fccbae",
   "metadata": {},
   "outputs": [],
   "source": [
    "# store value of water in well \n",
    "volume_of_water_in_well = 100 # Club words using _ in between\n",
    "volumeOfWaterInWell = 120 #Using camelCasing\n",
    "waterVolWell = 100 # Writing shorter name which will make sense following iether _ or camelCasing"
   ]
  },
  {
   "cell_type": "markdown",
   "id": "2b188814",
   "metadata": {},
   "source": [
    "### How to define Scope of variable ? \n",
    "Generally all variables we define have global scope. i.e. they can be used anywhere in the code. But variables that we define inside functions are of local scope i.e. they only live inside that sepecific function.\n"
   ]
  },
  {
   "cell_type": "code",
   "execution_count": null,
   "id": "dc6bfa93",
   "metadata": {},
   "outputs": [],
   "source": [
    "global_rate = 200 # Global variable\n",
    "\n",
    "def local_market(discount):\n",
    "    local_rate = global_rate*(1 - discount/100) # Local variable\n",
    "    print('local rate of item is ' + str(local_rate)) # Printing Local variable\n",
    "    \n",
    "print('global rate of item is ' + str(global_rate))# Printing Global variable\n",
    "local_market(20)"
   ]
  },
  {
   "cell_type": "markdown",
   "id": "364d8533",
   "metadata": {},
   "source": [
    "If we try to print local variable outside function, we'll get an error"
   ]
  },
  {
   "cell_type": "code",
   "execution_count": null,
   "id": "40243433",
   "metadata": {},
   "outputs": [],
   "source": [
    "global_rate = 200 # Global variable\n",
    "\n",
    "def local_market(discount):\n",
    "    local_rate = global_rate*(1 - discount/100) # Local variable\n",
    "    print('local rate of item is ' + str(local_rate)) # Printing Local variable\n",
    "    \n",
    "print('global rate of item is ' + str(global_rate))# Printing Global variable\n",
    "local_market(20)\n",
    "print('local rate of item is ' + str(local_rate)) # Printing Local variable"
   ]
  },
  {
   "cell_type": "markdown",
   "id": "69e6a9af",
   "metadata": {},
   "source": [
    "## 🎯 Data types\n",
    "Python supports lot of data types which helps us to store the data and use it\n",
    "\n",
    "### What are different data types?\n",
    "1. String Data Type"
   ]
  },
  {
   "cell_type": "code",
   "execution_count": null,
   "id": "d0898c2c",
   "metadata": {},
   "outputs": [],
   "source": [
    "car = 'tata'  # tata is a string of letters\n",
    "pet = 'puffy' # puffy is a string of letters"
   ]
  },
  {
   "cell_type": "markdown",
   "id": "ccf2f96c",
   "metadata": {},
   "source": [
    "2. Numeric data types - This will contain Integer and Float (Decimals)"
   ]
  },
  {
   "cell_type": "code",
   "execution_count": null,
   "id": "7b49f226",
   "metadata": {},
   "outputs": [],
   "source": [
    "rank = 1 # 1 is integer\n",
    "pie = 3.14 # 3.14 is float\n",
    "rate = -5 # -5 is integer"
   ]
  },
  {
   "cell_type": "markdown",
   "id": "485a2bd5",
   "metadata": {},
   "source": [
    "3. Boolean - True/False Notice that the first letter is captial"
   ]
  },
  {
   "cell_type": "code",
   "execution_count": null,
   "id": "a06af016",
   "metadata": {},
   "outputs": [],
   "source": [
    "t = True # True is boolean type\n",
    "isThisCorrect = false # false is not Boolean type, False is boolen type\n",
    "isThisCorrectNow = False # False is boolean type"
   ]
  },
  {
   "cell_type": "markdown",
   "id": "35f38262",
   "metadata": {},
   "source": [
    "----------------------------------------------------------------------------------------------------------------------\n",
    "### `🕰️ Practice time`\n",
    "Create few variables storing following information\n",
    "1. Name (String)\n",
    "2. Address (Multiline String)\n",
    "3. Age (Integer)\n",
    "4. AreYouMarried (Boolean)\n",
    "5. Area of square having radius 5 cm (Float)\n",
    "\n",
    "----------------------------------------------------------------------------------------------------------------------\n"
   ]
  },
  {
   "cell_type": "markdown",
   "id": "41e0642b",
   "metadata": {},
   "source": [
    "4. Squence data types - writing more data together\n",
    "\n",
    "    a. List \n",
    "\n",
    "    b. Tuple\n",
    "\n",
    "    c. Dictionary\n",
    "\n",
    "    d. Set\n",
    "\n",
    "each of these data types have unique properties which we'll see shortly"
   ]
  },
  {
   "cell_type": "code",
   "execution_count": null,
   "id": "0e7c9d24",
   "metadata": {},
   "outputs": [],
   "source": [
    "myPets = ['puffy','zazzy','cat mandu','rio'] # List \n",
    "food = ('biryani', 'paneer', 'momo') # tuple\n",
    "work = {'name': 'finish notebook', 'language': 'python','done': True} # Dictionary\n",
    "songs = {'Goat','fifa anthem', 'swadesh','stan'} # set"
   ]
  },
  {
   "cell_type": "markdown",
   "id": "a4e5f7d9",
   "metadata": {},
   "source": [
    "### How to check data types?\n",
    "put variable name inside type() function"
   ]
  },
  {
   "cell_type": "code",
   "execution_count": null,
   "id": "55f412ab",
   "metadata": {},
   "outputs": [],
   "source": [
    "type(food)"
   ]
  },
  {
   "cell_type": "code",
   "execution_count": null,
   "id": "23def63f",
   "metadata": {},
   "outputs": [],
   "source": [
    "type(isPythonCool)"
   ]
  },
  {
   "cell_type": "code",
   "execution_count": null,
   "id": "779a6021",
   "metadata": {},
   "outputs": [],
   "source": [
    "type(songs)"
   ]
  },
  {
   "cell_type": "markdown",
   "id": "fd3d1ea0",
   "metadata": {},
   "source": [
    "## 🎯 List Data type\n",
    "\n",
    "### Properties of List\n",
    "1. Values inside list are <b>indexed and changable</b>\n",
    "2. To define List, put all the values inside [] seperated by commas.\n",
    "3. List can contain any data type data inside it\n"
   ]
  },
  {
   "cell_type": "code",
   "execution_count": null,
   "id": "be0f02ad",
   "metadata": {},
   "outputs": [],
   "source": [
    "randomList = ['puffy',True,'rio', 12.12,44, ['smaller', 'list', 'inside','list']]"
   ]
  },
  {
   "cell_type": "markdown",
   "id": "256d2039",
   "metadata": {},
   "source": [
    "### Access elements of List\n",
    "\n",
    "To access individual element inside list, use it's index number. Index number of list starts from 0"
   ]
  },
  {
   "cell_type": "code",
   "execution_count": null,
   "id": "4743a4ba",
   "metadata": {},
   "outputs": [],
   "source": [
    "randomList[0]"
   ]
  },
  {
   "cell_type": "code",
   "execution_count": null,
   "id": "3218b8db",
   "metadata": {},
   "outputs": [],
   "source": [
    "randomList[3]"
   ]
  },
  {
   "cell_type": "markdown",
   "id": "2c101223",
   "metadata": {},
   "source": [
    "To catch element from end, use negative index value which starts with -1"
   ]
  },
  {
   "cell_type": "code",
   "execution_count": null,
   "id": "52758dcd",
   "metadata": {},
   "outputs": [],
   "source": [
    "randomList[-1]"
   ]
  },
  {
   "cell_type": "code",
   "execution_count": null,
   "id": "ceef171c",
   "metadata": {},
   "outputs": [],
   "source": [
    "randomList[-2]"
   ]
  },
  {
   "cell_type": "markdown",
   "id": "3caa8eb5",
   "metadata": {},
   "source": [
    "### Modify elements of List\n",
    "1. To change existing element, use index number\n"
   ]
  },
  {
   "cell_type": "code",
   "execution_count": 103,
   "id": "6b40b2b7",
   "metadata": {},
   "outputs": [
    {
     "data": {
      "text/plain": [
       "['mars', True, 12.12, 44, ['smaller', 'list', 'inside', 'list'], 'ramanujan']"
      ]
     },
     "execution_count": 103,
     "metadata": {},
     "output_type": "execute_result"
    }
   ],
   "source": [
    "randomList"
   ]
  },
  {
   "cell_type": "code",
   "execution_count": 104,
   "id": "7e2c1529",
   "metadata": {},
   "outputs": [
    {
     "data": {
      "text/plain": [
       "['mars', True, 12.12, 44, ['smaller', 'list', 'inside', 'list'], 'ramanujan']"
      ]
     },
     "execution_count": 104,
     "metadata": {},
     "output_type": "execute_result"
    }
   ],
   "source": [
    "randomList[0] = 'mars'\n",
    "randomList"
   ]
  },
  {
   "cell_type": "markdown",
   "id": "e0bc598c",
   "metadata": {},
   "source": [
    "2. To add new element at last use command `list.append(val)`\n"
   ]
  },
  {
   "cell_type": "code",
   "execution_count": 105,
   "id": "932f4fd5",
   "metadata": {},
   "outputs": [
    {
     "data": {
      "text/plain": [
       "['mars',\n",
       " True,\n",
       " 12.12,\n",
       " 44,\n",
       " ['smaller', 'list', 'inside', 'list'],\n",
       " 'ramanujan',\n",
       " 'ramanujan']"
      ]
     },
     "execution_count": 105,
     "metadata": {},
     "output_type": "execute_result"
    }
   ],
   "source": [
    "randomList.append('ramanujan')\n",
    "randomList"
   ]
  },
  {
   "cell_type": "markdown",
   "id": "2b62dd4f",
   "metadata": {},
   "source": [
    "3. To add new element at any position use `list.insert(index, val)`\n"
   ]
  },
  {
   "cell_type": "code",
   "execution_count": 106,
   "id": "694ef8cd",
   "metadata": {},
   "outputs": [
    {
     "data": {
      "text/plain": [
       "['mars',\n",
       " True,\n",
       " 'foss4g',\n",
       " 12.12,\n",
       " 44,\n",
       " ['smaller', 'list', 'inside', 'list'],\n",
       " 'ramanujan',\n",
       " 'ramanujan']"
      ]
     },
     "execution_count": 106,
     "metadata": {},
     "output_type": "execute_result"
    }
   ],
   "source": [
    "randomList.insert(2,'foss4g')\n",
    "randomList"
   ]
  },
  {
   "cell_type": "markdown",
   "id": "2a69c31f",
   "metadata": {},
   "source": [
    "4. To remove element at any position use `list.pop(index)`\n"
   ]
  },
  {
   "cell_type": "code",
   "execution_count": 107,
   "id": "6f3872df",
   "metadata": {},
   "outputs": [
    {
     "data": {
      "text/plain": [
       "['mars',\n",
       " True,\n",
       " 12.12,\n",
       " 44,\n",
       " ['smaller', 'list', 'inside', 'list'],\n",
       " 'ramanujan',\n",
       " 'ramanujan']"
      ]
     },
     "execution_count": 107,
     "metadata": {},
     "output_type": "execute_result"
    }
   ],
   "source": [
    "randomList.pop(2)\n",
    "randomList"
   ]
  },
  {
   "cell_type": "markdown",
   "id": "aa10fdbb",
   "metadata": {},
   "source": [
    "5. To remove element based on value `list.remove(value)`\n"
   ]
  },
  {
   "cell_type": "code",
   "execution_count": null,
   "id": "34b4b3fd",
   "metadata": {},
   "outputs": [],
   "source": [
    "randomList.remove('rio')\n",
    "randomList"
   ]
  },
  {
   "cell_type": "markdown",
   "id": "dcd0ac53",
   "metadata": {},
   "source": [
    "----------------------------------------------------------------------------------------------------------------------\n",
    "### `🕰️ Practice time`\n",
    "1. Create a list of colors you like\n",
    "2. Create a list of colors you hate \n",
    "3. Take 2nd color from hateList and add it at the end of likeList\n",
    "4. Take 2nd last color from likeList and put at the start of hateList\n",
    "5. Merge two list into one single list\n",
    "\n",
    "----------------------------------------------------------------------------------------------------------------------\n"
   ]
  },
  {
   "cell_type": "code",
   "execution_count": null,
   "id": "9022f52a",
   "metadata": {},
   "outputs": [],
   "source": [
    "# Create a list of colors you like\n",
    "\n"
   ]
  },
  {
   "cell_type": "code",
   "execution_count": null,
   "id": "b38708ab",
   "metadata": {},
   "outputs": [],
   "source": [
    "# Create a list of colors you hate \n",
    "\n",
    "\n"
   ]
  },
  {
   "cell_type": "code",
   "execution_count": null,
   "id": "faf4b34f",
   "metadata": {},
   "outputs": [],
   "source": [
    "# Take 2nd color from hateList and add it at the end of likeList\n",
    "\n"
   ]
  },
  {
   "cell_type": "code",
   "execution_count": null,
   "id": "b6d61094",
   "metadata": {},
   "outputs": [],
   "source": [
    "# Take 2nd last color from likeList and put at the start of hateList\n",
    "\n"
   ]
  },
  {
   "cell_type": "code",
   "execution_count": null,
   "id": "703434ea",
   "metadata": {},
   "outputs": [],
   "source": [
    "# Merge two list into one single list\n",
    "\n"
   ]
  },
  {
   "cell_type": "markdown",
   "id": "e3ffe09d",
   "metadata": {},
   "source": [
    "## 🎯 Tuple Data type\n",
    "\n",
    "### Properties of Tuple\n",
    "1. Values inside list are <b>indexed and unchangable</b>\n",
    "2. To define Tuple, put all the values inside ( ) seperated by commas.\n",
    "3. Tuple can contain any data type data inside it\n",
    "4. Once Defined data inside Tuple can't be changed\n"
   ]
  },
  {
   "cell_type": "code",
   "execution_count": null,
   "id": "abaf38de",
   "metadata": {},
   "outputs": [],
   "source": [
    "randomTuple = ('puffy',True,'rio', 12.12,44, ['smaller', 'list', 'inside','list'], )"
   ]
  },
  {
   "cell_type": "markdown",
   "id": "5c86fbbe",
   "metadata": {},
   "source": [
    "### Access elements of Tuple\n",
    "\n",
    "To access individual element inside Tuple, use it's index number. Index number of Tuple starts from 0"
   ]
  },
  {
   "cell_type": "code",
   "execution_count": null,
   "id": "40e22e59",
   "metadata": {},
   "outputs": [],
   "source": [
    "randomTuple[1]"
   ]
  },
  {
   "cell_type": "code",
   "execution_count": null,
   "id": "b769586c",
   "metadata": {},
   "outputs": [],
   "source": [
    "randomTuple[3]"
   ]
  },
  {
   "cell_type": "markdown",
   "id": "b5e51cae",
   "metadata": {},
   "source": [
    "To catch element from end, use negative index value which starts with -1\n"
   ]
  },
  {
   "cell_type": "code",
   "execution_count": null,
   "id": "ccbae639",
   "metadata": {},
   "outputs": [],
   "source": [
    "randomTuple[-2]"
   ]
  },
  {
   "cell_type": "markdown",
   "id": "98023f36",
   "metadata": {},
   "source": [
    "## 🎯 Set Data type\n",
    "\n",
    "### Properties of Set\n",
    "1. Values inside Set are <b>unindexed and unchangable</b>\n",
    "2. To define Set, put all the values inside { } seperated by commas.\n",
    "3. Set can contain any data type data inside it\n",
    "4. Set doesn't allow duplicate values\n",
    "\n",
    "Sets are faster to loop through as compared to List"
   ]
  },
  {
   "cell_type": "code",
   "execution_count": null,
   "id": "9d0e73a8",
   "metadata": {},
   "outputs": [],
   "source": [
    "randomSet = {'bananas','apple','cherry','mango','banana'} \n",
    "randomSet # Notice that the index is changed, and also banana is only written once"
   ]
  },
  {
   "cell_type": "markdown",
   "id": "81818207",
   "metadata": {},
   "source": [
    "## 🎯 Dictionary Data types\n",
    "\n",
    "### Properties of Dictionary\n",
    "1. Values inside Dictionary are <b>key:value pair</b>\n",
    "2. To define Dictionary, put all the values inside { key:value } seperated by commas.\n",
    "3. Dictionary can contain any data type data inside it\n"
   ]
  },
  {
   "cell_type": "code",
   "execution_count": null,
   "id": "6cfb44a2",
   "metadata": {},
   "outputs": [],
   "source": [
    "schoolWork = {\n",
    "    'subject':'Science',\n",
    "    'portionFinished' : 50,\n",
    "    'everyday': True,\n",
    "    'important chapters': [1,3,7,8]\n",
    "}"
   ]
  },
  {
   "cell_type": "markdown",
   "id": "1566beda",
   "metadata": {},
   "source": [
    "### Access elements of Dictionary\n",
    "\n",
    "To access individual element inside Dictionary, use it's key."
   ]
  },
  {
   "cell_type": "code",
   "execution_count": null,
   "id": "46bbb2d1",
   "metadata": {},
   "outputs": [],
   "source": [
    "schoolWork['subject']"
   ]
  },
  {
   "cell_type": "code",
   "execution_count": null,
   "id": "38dbe476",
   "metadata": {},
   "outputs": [],
   "source": [
    "schoolWork['everyday']"
   ]
  },
  {
   "cell_type": "markdown",
   "id": "aa81037c",
   "metadata": {},
   "source": [
    "### Add elements of Dictionary\n"
   ]
  },
  {
   "cell_type": "code",
   "execution_count": null,
   "id": "c0e0f3e4",
   "metadata": {},
   "outputs": [],
   "source": [
    "schoolWork['teacher'] = \"Mr. Sing\"\n",
    "schoolWork"
   ]
  },
  {
   "cell_type": "markdown",
   "id": "acb518fd",
   "metadata": {},
   "source": [
    "### Update elements of Dictionary\n",
    "\n",
    "To update individual element inside Dictionary, use it's key."
   ]
  },
  {
   "cell_type": "code",
   "execution_count": null,
   "id": "5efb4eb8",
   "metadata": {},
   "outputs": [],
   "source": [
    "schoolWork['teacher'] = \"Mr. Singh\"\n",
    "schoolWork"
   ]
  },
  {
   "cell_type": "markdown",
   "id": "a93a24f6",
   "metadata": {},
   "source": [
    "### Remove elements of Dictionary\n",
    "\n",
    "To remove individual element inside Dictionary, use it's key."
   ]
  },
  {
   "cell_type": "code",
   "execution_count": null,
   "id": "5fb9ed17",
   "metadata": {},
   "outputs": [],
   "source": [
    "schoolWork.pop('everyday')\n",
    "schoolWork"
   ]
  },
  {
   "cell_type": "markdown",
   "id": "46a1ec56",
   "metadata": {},
   "source": [
    "----------------------------------------------------------------------------------------------------------------------\n",
    "### `🕰️ Practice time`\n",
    "1. Create a dictionary of information about your pet (type, name,color, height, weight)\n",
    "2. Rename the `color` key to `shade`\n",
    "3. Add new information to the dictionary `mood:happy`\n",
    "\n",
    "----------------------------------------------------------------------------------------------------------------------\n"
   ]
  },
  {
   "cell_type": "code",
   "execution_count": null,
   "id": "87dc3fd3",
   "metadata": {},
   "outputs": [],
   "source": [
    "# 1. Create a dictionary of information about your pet (type, name,color, height, weight)\n"
   ]
  },
  {
   "cell_type": "code",
   "execution_count": null,
   "id": "41229281",
   "metadata": {},
   "outputs": [],
   "source": [
    "# 2. Rename the `color` key to `shade`\n"
   ]
  },
  {
   "cell_type": "code",
   "execution_count": null,
   "id": "54756257",
   "metadata": {},
   "outputs": [],
   "source": [
    "# 3. Add new information to the dictionary `mood:happy`\n"
   ]
  },
  {
   "cell_type": "markdown",
   "id": "777c105a",
   "metadata": {},
   "source": [
    "## 🎯 Operators \n",
    "\n",
    "### 1. Arithematic Operators ( +,-,*,/,%,//,**)\n",
    "These are used to perfom arithematic operations between multiple numeric data"
   ]
  },
  {
   "cell_type": "code",
   "execution_count": null,
   "id": "9ccb6984",
   "metadata": {},
   "outputs": [],
   "source": [
    "4 + 3 "
   ]
  },
  {
   "cell_type": "code",
   "execution_count": null,
   "id": "5fb7dbf1",
   "metadata": {},
   "outputs": [],
   "source": [
    "5 - 90"
   ]
  },
  {
   "cell_type": "code",
   "execution_count": null,
   "id": "a1cdeca4",
   "metadata": {},
   "outputs": [],
   "source": [
    "7 % 6"
   ]
  },
  {
   "cell_type": "code",
   "execution_count": null,
   "id": "3f2ed4ca",
   "metadata": {},
   "outputs": [],
   "source": [
    "8 / 6"
   ]
  },
  {
   "cell_type": "code",
   "execution_count": 2,
   "id": "79158059",
   "metadata": {},
   "outputs": [
    {
     "data": {
      "text/plain": [
       "625"
      ]
     },
     "execution_count": 2,
     "metadata": {},
     "output_type": "execute_result"
    }
   ],
   "source": [
    "5**4"
   ]
  },
  {
   "cell_type": "code",
   "execution_count": 3,
   "id": "212b6d0b",
   "metadata": {},
   "outputs": [],
   "source": [
    "# Calcuate area of square ( pi.r.r)\n"
   ]
  },
  {
   "cell_type": "markdown",
   "id": "0db71785",
   "metadata": {},
   "source": [
    "### 2. Assignment Operators ( =, += , -=, *=, /=)\n",
    "These are used to assign new value to existing varables"
   ]
  },
  {
   "cell_type": "code",
   "execution_count": null,
   "id": "50e7debb",
   "metadata": {},
   "outputs": [],
   "source": [
    "current_rate = 10"
   ]
  },
  {
   "cell_type": "code",
   "execution_count": null,
   "id": "c9df45fd",
   "metadata": {},
   "outputs": [],
   "source": [
    "current_rate += 1 \n",
    "# This in brief means current_rate = current_rate + 1\n",
    "current_rate"
   ]
  },
  {
   "cell_type": "code",
   "execution_count": null,
   "id": "59e8fae8",
   "metadata": {},
   "outputs": [],
   "source": [
    "current_rate *= 2\n",
    "# This in brief means current_rate = current_rate * 2\n",
    "current_rate"
   ]
  },
  {
   "cell_type": "markdown",
   "id": "da3660f5",
   "metadata": {},
   "source": [
    " 🕰️ Can you make your salary increase by 10% \n"
   ]
  },
  {
   "cell_type": "code",
   "execution_count": null,
   "id": "39c3c777",
   "metadata": {},
   "outputs": [],
   "source": []
  },
  {
   "cell_type": "markdown",
   "id": "4df73c7c",
   "metadata": {},
   "source": [
    "🕰️Calculate the actual cost of Item based on following calulation\n",
    "\n",
    "Base price(10,000) , 18% tax on base price , 2% cess on taxed amount , 5% discount on base price , 200 off on final cost via coupon\n"
   ]
  },
  {
   "cell_type": "code",
   "execution_count": null,
   "id": "0565b570",
   "metadata": {},
   "outputs": [],
   "source": []
  },
  {
   "cell_type": "markdown",
   "id": "7de86c87",
   "metadata": {},
   "source": [
    "### 3. Comparison Operators ( ==,<,>,<=,>=, !=)\n",
    "These are used to compare value of two variables, it gives the result as True or False"
   ]
  },
  {
   "cell_type": "code",
   "execution_count": null,
   "id": "22e81f69",
   "metadata": {},
   "outputs": [],
   "source": [
    "car1_price = 100\n",
    "car2_price = 120\n",
    "car1_name = 'tata'\n",
    "car2_name = 'kia'\n",
    "car3_name = 'tata'\n",
    "car4_name = 'zest'"
   ]
  },
  {
   "cell_type": "code",
   "execution_count": null,
   "id": "8a825002",
   "metadata": {},
   "outputs": [],
   "source": [
    "car2_price == car1_price"
   ]
  },
  {
   "cell_type": "code",
   "execution_count": null,
   "id": "febd7b79",
   "metadata": {},
   "outputs": [],
   "source": [
    "car2_price > car1_price"
   ]
  },
  {
   "cell_type": "code",
   "execution_count": null,
   "id": "03b8e420",
   "metadata": {},
   "outputs": [],
   "source": [
    "car2_name != car3_name"
   ]
  },
  {
   "cell_type": "code",
   "execution_count": null,
   "id": "279961c5",
   "metadata": {},
   "outputs": [],
   "source": [
    "car3_name > car2_name # using alphabetical order"
   ]
  },
  {
   "cell_type": "code",
   "execution_count": null,
   "id": "f4349535",
   "metadata": {},
   "outputs": [],
   "source": [
    "car3_name > car4_name # using alphabetical order"
   ]
  },
  {
   "cell_type": "code",
   "execution_count": null,
   "id": "707cb81f",
   "metadata": {},
   "outputs": [],
   "source": [
    "car2_name == car3_name"
   ]
  },
  {
   "cell_type": "markdown",
   "id": "69b8b7c6",
   "metadata": {},
   "source": [
    "### 4. Logical Operators ( and, or, not)\n",
    "These are used to combine multiple conditions and check the result"
   ]
  },
  {
   "cell_type": "code",
   "execution_count": null,
   "id": "625d3e09",
   "metadata": {},
   "outputs": [],
   "source": [
    "car2_name == car3_name and car2_price < car1_price"
   ]
  },
  {
   "cell_type": "code",
   "execution_count": null,
   "id": "924faef7",
   "metadata": {},
   "outputs": [],
   "source": [
    "car2_name == car3_name or car2_price < car1_price"
   ]
  },
  {
   "cell_type": "code",
   "execution_count": null,
   "id": "30004bbd",
   "metadata": {},
   "outputs": [],
   "source": [
    "car2_name == car3_name"
   ]
  },
  {
   "cell_type": "code",
   "execution_count": null,
   "id": "a94a1c91",
   "metadata": {},
   "outputs": [],
   "source": [
    "not(car2_name == car3_name)"
   ]
  },
  {
   "cell_type": "markdown",
   "id": "b0424882",
   "metadata": {},
   "source": [
    "### 5. Membership Operators ( in , not in)\n",
    "These are used to check if some value is available in some another value"
   ]
  },
  {
   "cell_type": "code",
   "execution_count": null,
   "id": "3c23977e",
   "metadata": {},
   "outputs": [],
   "source": [
    "car1_name = 'tata'\n"
   ]
  },
  {
   "cell_type": "code",
   "execution_count": null,
   "id": "6c5b7ff8",
   "metadata": {},
   "outputs": [],
   "source": [
    "'t' in car1_name # checking whether the letter 't' is present in variable car_name"
   ]
  },
  {
   "cell_type": "code",
   "execution_count": null,
   "id": "e6fc852f",
   "metadata": {},
   "outputs": [],
   "source": [
    "'mars' in randomList # checking whether the string 'mars' is present in list randomList"
   ]
  },
  {
   "cell_type": "markdown",
   "id": "8e7cafe0",
   "metadata": {},
   "source": [
    "🕰️ is there `i` in `team` "
   ]
  },
  {
   "cell_type": "code",
   "execution_count": null,
   "id": "d25a3816",
   "metadata": {},
   "outputs": [],
   "source": []
  },
  {
   "cell_type": "markdown",
   "id": "24096800",
   "metadata": {},
   "source": [
    "🕰️ is `python` in your pet list"
   ]
  },
  {
   "cell_type": "code",
   "execution_count": null,
   "id": "8f540913",
   "metadata": {},
   "outputs": [],
   "source": []
  }
 ],
 "metadata": {
  "celltoolbar": "Raw Cell Format",
  "kernelspec": {
   "display_name": "Python 3 (ipykernel)",
   "language": "python",
   "name": "python3"
  },
  "language_info": {
   "codemirror_mode": {
    "name": "ipython",
    "version": 3
   },
   "file_extension": ".py",
   "mimetype": "text/x-python",
   "name": "python",
   "nbconvert_exporter": "python",
   "pygments_lexer": "ipython3",
   "version": "3.9.6"
  }
 },
 "nbformat": 4,
 "nbformat_minor": 5
}
