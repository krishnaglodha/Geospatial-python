{
 "cells": [
  {
   "cell_type": "markdown",
   "metadata": {},
   "source": [
    "## "
   ]
  },
  {
   "cell_type": "markdown",
   "metadata": {},
   "source": [
    "## Loading empty Map\n",
    "\n",
    "This will include initiating map with center, zoom level and basemap choice. \n",
    "Checkout available basemap options at : https://ipyleaflet.readthedocs.io/en/latest/api_reference/basemaps.html?highlight=basemap"
   ]
  },
  {
   "cell_type": "code",
   "execution_count": 45,
   "metadata": {},
   "outputs": [
    {
     "data": {
      "application/vnd.jupyter.widget-view+json": {
       "model_id": "38d1e816285549b7a12e521fa7ee90e6",
       "version_major": 2,
       "version_minor": 0
      },
      "text/plain": [
       "Map(center=[27, 71], controls=(ZoomControl(options=['position', 'zoom_in_text', 'zoom_in_title', 'zoom_out_tex…"
      ]
     },
     "metadata": {},
     "output_type": "display_data"
    }
   ],
   "source": [
    "m = Map(center=(27,71), zoom = 3, basemap= basemaps.Esri.WorldTopoMap)\n",
    "m"
   ]
  },
  {
   "cell_type": "markdown",
   "metadata": {},
   "source": [
    "## Loading Data to Map\n",
    "\n",
    "### 1. Loading Geopandas dataframe"
   ]
  },
  {
   "cell_type": "code",
   "execution_count": 8,
   "metadata": {},
   "outputs": [
    {
     "data": {
      "application/vnd.jupyter.widget-view+json": {
       "model_id": "2087088ca591437ba06f152f8336cb6f",
       "version_major": 2,
       "version_minor": 0
      },
      "text/plain": [
       "Map(center=[27, 71], controls=(ZoomControl(options=['position', 'zoom_in_text', 'zoom_in_title', 'zoom_out_tex…"
      ]
     },
     "metadata": {},
     "output_type": "display_data"
    }
   ],
   "source": [
    "\n",
    "m = Map(center=(27,71), zoom = 3, basemap= basemaps.Stamen.Toner)\n",
    "cities = gpd.read_file('../data/ne_10m_populated_places/ne_10m_populated_places.shp')\n",
    "cities_data  = GeoData(geo_dataframe = cities,\n",
    "    style={'color': 'black', 'radius':4, 'fillColor': '#3366cc', 'opacity':0.5, 'weight':1.9, 'dashArray':'2', 'fillOpacity':0.6},\n",
    "    hover_style={'fillColor': 'red' , 'fillOpacity': 0.2},\n",
    "    point_style={'radius': 5, 'color': 'red', 'fillOpacity': 0.8, 'fillColor': 'blue', 'weight': 3},\n",
    "    name = 'Release')\n",
    "m.add_layer(cities_data)\n",
    "m"
   ]
  },
  {
   "cell_type": "markdown",
   "metadata": {},
   "source": [
    "### 2. Loading WMS layer"
   ]
  },
  {
   "cell_type": "code",
   "execution_count": 47,
   "metadata": {},
   "outputs": [
    {
     "data": {
      "application/vnd.jupyter.widget-view+json": {
       "model_id": "71d88906195b47219f153e1666157b22",
       "version_major": 2,
       "version_minor": 0
      },
      "text/plain": [
       "Map(center=[38.491, -95.712], controls=(ZoomControl(options=['position', 'zoom_in_text', 'zoom_in_title', 'zoo…"
      ]
     },
     "metadata": {},
     "output_type": "display_data"
    }
   ],
   "source": [
    "from ipyleaflet import Map, WMSLayer, basemaps\n",
    "\n",
    "wms = WMSLayer(\n",
    "    url='https://ahocevar.com/geoserver/wms',\n",
    "    layers='topp:states',\n",
    "    format='image/png',\n",
    "    transparent=True,\n",
    "    attribution='Made for GeoPython 2021'\n",
    ")\n",
    "\n",
    "m = Map(basemap=basemaps.CartoDB.Positron, center=(38.491, -95.712), zoom=4)\n",
    "\n",
    "m.add_layer(wms)\n",
    "\n",
    "m"
   ]
  },
  {
   "cell_type": "markdown",
   "metadata": {},
   "source": [
    "## Adding Popup \n",
    "\n",
    "### 1. Adding static popup"
   ]
  },
  {
   "cell_type": "code",
   "execution_count": 54,
   "metadata": {},
   "outputs": [
    {
     "data": {
      "application/vnd.jupyter.widget-view+json": {
       "model_id": "de374a2b6af54baba4d76a45a12e3d1a",
       "version_major": 2,
       "version_minor": 0
      },
      "text/plain": [
       "Map(center=[19.97504, 73.76319], close_popup_on_click=False, controls=(ZoomControl(options=['position', 'zoom_…"
      ]
     },
     "metadata": {},
     "output_type": "display_data"
    }
   ],
   "source": [
    "from ipywidgets import HTML\n",
    "from ipyleaflet import Map, Marker, Popup\n",
    "center = (19.975040, 73.763190)\n",
    "m = Map(center=center, zoom=17, close_popup_on_click=False)\n",
    "marker = Marker(location=(19.975040, 73.763190))\n",
    "m.add_layer(marker)\n",
    "message2 = HTML()\n",
    "message2.value = \"Hey!! I'm at geopython 2021 🔥\"\n",
    "marker.popup = message2\n",
    "m"
   ]
  },
  {
   "cell_type": "markdown",
   "metadata": {},
   "source": [
    "### 2. Using Custom data for popup"
   ]
  },
  {
   "cell_type": "markdown",
   "metadata": {},
   "source": [
    "For this example we'll prepare map of following scenario\n",
    "Seeing all the cities as a point on map and on click show their name"
   ]
  },
  {
   "cell_type": "code",
   "execution_count": 60,
   "metadata": {},
   "outputs": [
    {
     "name": "stdout",
     "output_type": "stream",
     "text": [
      "560\n",
      "1352\n",
      "1353\n",
      "1354\n",
      "1355\n",
      "1356\n",
      "1357\n",
      "1358\n",
      "1359\n",
      "1360\n",
      "1361\n",
      "1362\n",
      "1363\n",
      "1436\n",
      "1437\n",
      "1438\n",
      "1439\n",
      "1440\n",
      "1441\n",
      "1442\n",
      "1443\n",
      "1444\n",
      "1445\n",
      "1446\n",
      "1447\n",
      "1779\n",
      "3848\n",
      "3849\n",
      "3850\n",
      "3851\n",
      "3852\n",
      "3853\n",
      "3854\n",
      "3855\n",
      "3856\n",
      "3857\n",
      "3858\n",
      "3859\n",
      "3860\n",
      "3861\n",
      "3862\n",
      "3863\n",
      "3864\n",
      "3865\n",
      "3866\n",
      "3867\n",
      "3868\n",
      "3869\n",
      "3870\n",
      "3871\n",
      "3872\n",
      "3873\n",
      "3874\n",
      "3875\n",
      "3876\n",
      "3877\n",
      "3878\n",
      "3879\n",
      "3880\n",
      "3881\n",
      "3882\n",
      "3883\n",
      "3884\n",
      "4069\n",
      "4070\n",
      "4071\n",
      "4072\n",
      "4073\n",
      "4074\n",
      "4075\n",
      "4076\n",
      "4077\n",
      "4084\n",
      "4085\n",
      "4086\n",
      "4087\n",
      "4088\n",
      "4089\n",
      "4090\n",
      "4091\n",
      "4092\n",
      "4093\n",
      "4094\n",
      "4095\n",
      "4096\n",
      "4097\n",
      "4098\n",
      "4099\n",
      "4100\n",
      "4101\n",
      "4102\n",
      "4103\n",
      "4104\n",
      "4105\n",
      "4106\n",
      "4107\n",
      "4108\n",
      "4109\n",
      "4110\n",
      "4111\n",
      "4112\n",
      "4113\n",
      "4114\n",
      "4115\n",
      "4116\n",
      "4117\n",
      "4118\n",
      "4119\n",
      "4120\n",
      "4121\n",
      "4122\n",
      "4123\n",
      "4124\n",
      "4125\n",
      "4126\n",
      "4127\n",
      "5315\n",
      "5316\n",
      "5317\n",
      "5318\n",
      "5319\n",
      "5320\n",
      "5321\n",
      "5322\n",
      "5323\n",
      "5324\n",
      "5325\n",
      "5326\n",
      "5373\n",
      "5375\n",
      "5376\n",
      "5377\n",
      "5378\n",
      "5379\n",
      "5905\n",
      "5906\n",
      "5907\n",
      "5908\n",
      "5909\n",
      "5910\n",
      "5911\n",
      "5984\n",
      "5985\n",
      "6188\n",
      "6189\n",
      "6190\n",
      "6191\n",
      "6192\n",
      "6193\n",
      "6194\n",
      "6195\n",
      "6196\n",
      "6197\n",
      "6198\n",
      "6199\n",
      "6200\n",
      "6201\n",
      "6202\n",
      "6203\n",
      "6204\n",
      "6564\n",
      "6565\n",
      "6566\n",
      "6567\n",
      "6568\n",
      "6569\n",
      "6570\n",
      "6571\n",
      "6572\n",
      "6573\n",
      "6574\n",
      "6575\n",
      "6576\n",
      "6577\n",
      "6625\n",
      "6626\n",
      "6627\n",
      "6630\n",
      "6631\n",
      "6632\n",
      "6633\n",
      "6634\n",
      "6635\n",
      "6636\n",
      "6637\n",
      "6638\n",
      "6639\n",
      "6770\n",
      "6771\n",
      "6772\n",
      "6971\n",
      "6998\n",
      "6999\n",
      "7000\n",
      "7001\n",
      "7002\n",
      "7003\n",
      "7004\n",
      "7189\n",
      "7190\n",
      "7191\n",
      "7192\n",
      "7197\n",
      "7198\n",
      "7199\n",
      "7200\n",
      "7201\n",
      "7202\n",
      "7249\n",
      "7250\n",
      "7280\n",
      "7283\n"
     ]
    },
    {
     "data": {
      "application/vnd.jupyter.widget-view+json": {
       "model_id": "8813b6d677544fc7946d5851dede3624",
       "version_major": 2,
       "version_minor": 0
      },
      "text/plain": [
       "Map(center=[33.762918, 68.637469], close_popup_on_click=False, controls=(ZoomControl(options=['position', 'zoo…"
      ]
     },
     "metadata": {},
     "output_type": "display_data"
    }
   ],
   "source": [
    "#Preparing data \n",
    "all_cities = gpd.read_file('../data/ne_10m_populated_places/ne_10m_populated_places.shp')\n",
    "all_countries =  gpd.read_file('../data/ne_10m_admin_0_countries/ne_10m_admin_0_countries.shp')\n",
    "all_cities.dropna(subset=[\"NAME\",\"geometry\"])\n",
    "India = all_countries[all_countries['NAME'] == 'India']\n",
    "Indian_cities = all_cities[all_cities.within(India.squeeze().geometry)]\n",
    "Indian_cities\n",
    "\n",
    "# Creating Map\n",
    "from ipyleaflet import Map, Marker, Popup\n",
    "from ipywidgets import HTML\n",
    "center = (33.762918,68.637469)\n",
    "m = Map(center=center, zoom=3, close_popup_on_click=False)\n",
    "\n",
    "# Adding data as marker \n",
    "for index, row in Indian_cities.iterrows():\n",
    "    message2 = HTML()\n",
    "    marker = Marker(location=(row['geometry'].y, row['geometry'].x))\n",
    "    message2.value = row['NAME']\n",
    "    # message2.description = row['NAME']\n",
    "    marker.popup = message2\n",
    "    m.add_layer(marker)\n",
    "    print(index)\n",
    "\n",
    "#load map\n",
    "m"
   ]
  },
  {
   "cell_type": "markdown",
   "metadata": {},
   "source": [
    "## Another interesting map options\n",
    "\n",
    "1. AntPath \n",
    "2. Marker Cluster\n",
    "3. Heatmap\n",
    "4. Velocity\n",
    "5. Choropleth\n",
    "\n",
    "check out out at https://ipyleaflet.readthedocs.io/"
   ]
  },
  {
   "cell_type": "markdown",
   "metadata": {},
   "source": [
    "## Controls in map\n",
    "\n",
    "Different Controls can be added to the map to make it more user friendly. Some of such controls are as follows\n",
    "\n",
    "### 1. Scale control"
   ]
  },
  {
   "cell_type": "code",
   "execution_count": 63,
   "metadata": {},
   "outputs": [
    {
     "data": {
      "application/vnd.jupyter.widget-view+json": {
       "model_id": "be0a0ccef06c4da0a55a3e60f40f5030",
       "version_major": 2,
       "version_minor": 0
      },
      "text/plain": [
       "Map(center=[19.97504, 73.76319], controls=(ZoomControl(options=['position', 'zoom_in_text', 'zoom_in_title', '…"
      ]
     },
     "metadata": {},
     "output_type": "display_data"
    }
   ],
   "source": [
    "from ipyleaflet import Map, ScaleControl\n",
    "\n",
    "m = Map(zoom=15, center=[19.975040, 73.763190])\n",
    "m.add_control(ScaleControl(position='bottomleft'))\n",
    "\n",
    "m"
   ]
  },
  {
   "cell_type": "markdown",
   "metadata": {},
   "source": [
    "### 2. Split Map"
   ]
  },
  {
   "cell_type": "code",
   "execution_count": 66,
   "metadata": {},
   "outputs": [
    {
     "data": {
      "application/vnd.jupyter.widget-view+json": {
       "model_id": "2a62c5babca64af88b8e3cd1209272d9",
       "version_major": 2,
       "version_minor": 0
      },
      "text/plain": [
       "Map(center=[19.97504, 73.76319], controls=(ZoomControl(options=['position', 'zoom_in_text', 'zoom_in_title', '…"
      ]
     },
     "metadata": {},
     "output_type": "display_data"
    }
   ],
   "source": [
    "from ipyleaflet import Map, basemaps, basemap_to_tiles, SplitMapControl\n",
    "\n",
    "m = Map(zoom=15, center=[19.975040, 73.763190])\n",
    "\n",
    "right_layer = basemap_to_tiles( basemaps.Stamen.Toner)\n",
    "left_layer = basemap_to_tiles(basemaps.CartoDB.Positron)\n",
    "\n",
    "control = SplitMapControl(left_layer=left_layer, right_layer=right_layer)\n",
    "m.add_control(control)\n",
    "\n",
    "m"
   ]
  },
  {
   "cell_type": "markdown",
   "metadata": {},
   "source": [
    "### Apart from these, some of the most widely used controls are\n",
    "\n",
    "1. Draw on map\n",
    "2. Adding Legends\n",
    "3. Measure, etc. \n",
    "\n",
    "You can find all available controls at https://ipyleaflet.readthedocs.io/en/latest/index.html (Look for control section)"
   ]
  },
  {
   "cell_type": "code",
   "execution_count": null,
   "metadata": {},
   "outputs": [],
   "source": []
  }
 ],
 "metadata": {
  "kernelspec": {
   "display_name": "Python 3",
   "language": "python",
   "name": "python3"
  },
  "language_info": {
   "codemirror_mode": {
    "name": "ipython",
    "version": 3
   },
   "file_extension": ".py",
   "mimetype": "text/x-python",
   "name": "python",
   "nbconvert_exporter": "python",
   "pygments_lexer": "ipython3",
   "version": "3.8.8"
  }
 },
 "nbformat": 4,
 "nbformat_minor": 2
}
