{
 "cells": [
  {
   "cell_type": "markdown",
   "source": [
    "# Pandas\n",
    "\n",
    "Pandas is used for tasks involving data manipulation ,analysis, cleaning, etc. It uses various types of files such as csv, xls, JSON ,etc. \n",
    "\n",
    "You can think of pandas as an advancement to excel, ofcourse excel in itself is quite interesting, capable and strong. But pandas provides easier way to deal with large datasets if you know python\n"
   ],
   "metadata": {}
  },
  {
   "cell_type": "code",
   "execution_count": null,
   "source": [
    "# Import pandas\n",
    "import pandas as pd"
   ],
   "outputs": [],
   "metadata": {}
  },
  {
   "cell_type": "markdown",
   "source": [
    "## Dataframes vs Series \n",
    "\n",
    "`Dataframe` is 2 dimensional , size-mutable tabular data e.g. a CSV with header and then data in it.\n",
    "\n",
    "`Series` is 1 dimensional array which can host data of any data type "
   ],
   "metadata": {}
  },
  {
   "cell_type": "code",
   "execution_count": null,
   "source": [
    "ser = pd.Series([1,2,3,'a',{'blah','cat'}, True])\n",
    "ser"
   ],
   "outputs": [],
   "metadata": {}
  },
  {
   "cell_type": "code",
   "execution_count": null,
   "source": [
    "frame = pd.DataFrame([[1,2,3],[4,5,6]], columns=['a','b','c'])"
   ],
   "outputs": [],
   "metadata": {}
  },
  {
   "cell_type": "code",
   "execution_count": null,
   "source": [
    "frame"
   ],
   "outputs": [],
   "metadata": {}
  },
  {
   "cell_type": "code",
   "execution_count": null,
   "source": [
    "frame_from_dictionary = pd.DataFrame({\n",
    "    'name':['puffy','zazzy','rio','zen','top','cream','wiggle'],\n",
    "    'type':['dog','cat','bird','dog','cat','bird','snail'],\n",
    "    'age':[4,5,1,3,4,5,2]\n",
    "})\n",
    "frame_from_dictionary"
   ],
   "outputs": [],
   "metadata": {}
  },
  {
   "cell_type": "code",
   "execution_count": null,
   "source": [
    "frame_from_dictionary.to_csv('../data/pet.csv')\n",
    "frame_from_dictionary"
   ],
   "outputs": [],
   "metadata": {}
  },
  {
   "cell_type": "code",
   "execution_count": null,
   "source": [
    "frame_from_dictionary.to_csv('../data/pet.csv',index=False)\n",
    "frame_from_dictionary"
   ],
   "outputs": [],
   "metadata": {}
  },
  {
   "cell_type": "code",
   "execution_count": null,
   "source": [
    "frame_from_dictionary.head()"
   ],
   "outputs": [],
   "metadata": {}
  },
  {
   "cell_type": "code",
   "execution_count": null,
   "source": [
    "frame_from_dictionary.head(2)"
   ],
   "outputs": [],
   "metadata": {}
  },
  {
   "cell_type": "code",
   "execution_count": null,
   "source": [
    "frame_from_dictionary.tail()"
   ],
   "outputs": [],
   "metadata": {}
  },
  {
   "cell_type": "markdown",
   "source": [
    "### Loading CSV data\n",
    "\n",
    "download csv from here https://www.kaggle.com/smritisingh1997/car-salescsv"
   ],
   "metadata": {}
  },
  {
   "cell_type": "code",
   "execution_count": null,
   "source": [
    "cars = pd.read_csv('../data/car_sales.csv')\n",
    "cars"
   ],
   "outputs": [],
   "metadata": {}
  },
  {
   "cell_type": "code",
   "execution_count": null,
   "source": [
    "cars.head(6)"
   ],
   "outputs": [],
   "metadata": {}
  },
  {
   "cell_type": "markdown",
   "source": [
    "### Getting Higher level information about dataframe\n"
   ],
   "metadata": {}
  },
  {
   "cell_type": "code",
   "execution_count": null,
   "source": [
    "cars.describe()"
   ],
   "outputs": [],
   "metadata": {}
  },
  {
   "cell_type": "code",
   "execution_count": null,
   "source": [
    "cars.info()"
   ],
   "outputs": [],
   "metadata": {}
  },
  {
   "cell_type": "code",
   "execution_count": null,
   "source": [
    "cars.groupby(['Brand']).count()"
   ],
   "outputs": [],
   "metadata": {}
  },
  {
   "cell_type": "code",
   "execution_count": null,
   "source": [
    "cars['dummy'] = 1\n",
    "cars.groupby(['Brand']).count()['dummy']"
   ],
   "outputs": [],
   "metadata": {}
  },
  {
   "cell_type": "code",
   "execution_count": null,
   "source": [
    "cars.sort_values(by='Brand')"
   ],
   "outputs": [],
   "metadata": {}
  },
  {
   "cell_type": "code",
   "execution_count": null,
   "source": [
    "cars.sort_values(by='Mileage', ascending=False)"
   ],
   "outputs": [],
   "metadata": {}
  },
  {
   "cell_type": "markdown",
   "source": [
    "### Access data\n",
    "1. Get all headers"
   ],
   "metadata": {}
  },
  {
   "cell_type": "code",
   "execution_count": null,
   "source": [
    "cars.columns"
   ],
   "outputs": [],
   "metadata": {
    "scrolled": true
   }
  },
  {
   "cell_type": "markdown",
   "source": [
    "2. Get each row in loop\n",
    "\n",
    "When we do this, we'll get each row as a tuple"
   ],
   "metadata": {}
  },
  {
   "cell_type": "code",
   "execution_count": null,
   "source": [
    "for index,row in cars.iterrows():\n",
    "    print('index number -' + str(index))\n",
    "    print(row)"
   ],
   "outputs": [],
   "metadata": {}
  },
  {
   "cell_type": "code",
   "execution_count": null,
   "source": [
    "for row in cars.iterrows():\n",
    "    print(row)"
   ],
   "outputs": [],
   "metadata": {}
  },
  {
   "cell_type": "markdown",
   "source": [
    "3. Get specific column values \n",
    "\n",
    "When we do this, we'll get specific column value for each row"
   ],
   "metadata": {}
  },
  {
   "cell_type": "code",
   "execution_count": null,
   "source": [
    "cars['Model']"
   ],
   "outputs": [],
   "metadata": {}
  },
  {
   "cell_type": "markdown",
   "source": [
    "4. Get specific row based on index\n",
    "\n",
    "we'll use index number to get specific row"
   ],
   "metadata": {}
  },
  {
   "cell_type": "code",
   "execution_count": null,
   "source": [
    "cars.iloc[0]"
   ],
   "outputs": [],
   "metadata": {}
  },
  {
   "cell_type": "markdown",
   "source": [
    "4. Get specific column value in specific row\n",
    "\n",
    "4.1  based on index and column name\n",
    "we'll use index number to get specific row, and Column name to get value"
   ],
   "metadata": {}
  },
  {
   "cell_type": "code",
   "execution_count": null,
   "source": [
    "cars.iloc[1][\"Year\"]"
   ],
   "outputs": [],
   "metadata": {}
  },
  {
   "cell_type": "markdown",
   "source": [
    "4.1  based on index for row,column\n",
    "we'll use index number to get specific row, and index of Column "
   ],
   "metadata": {}
  },
  {
   "cell_type": "code",
   "execution_count": null,
   "source": [
    "cars.iloc[1,3]"
   ],
   "outputs": [],
   "metadata": {}
  },
  {
   "cell_type": "markdown",
   "source": [
    "### Querying data\n",
    "\n",
    "1. Querying based on Column values"
   ],
   "metadata": {}
  },
  {
   "cell_type": "code",
   "execution_count": null,
   "source": [
    "modern = cars[cars['Year'] > 2012]"
   ],
   "outputs": [],
   "metadata": {}
  },
  {
   "cell_type": "code",
   "execution_count": null,
   "source": [
    "modern"
   ],
   "outputs": [],
   "metadata": {}
  },
  {
   "cell_type": "markdown",
   "source": [
    "2. Adding Multiple Queries based on Column values"
   ],
   "metadata": {}
  },
  {
   "cell_type": "code",
   "execution_count": null,
   "source": [
    "modern_petrol = cars[(cars['Year'] > 2012) & (cars['Engine Type'] == 'Petrol')]\n",
    "modern_petrol"
   ],
   "outputs": [],
   "metadata": {}
  },
  {
   "cell_type": "markdown",
   "source": [
    "3. Using Data type methods\n"
   ],
   "metadata": {}
  },
  {
   "cell_type": "code",
   "execution_count": null,
   "source": [
    "cars[cars['Brand'].str.startswith('B')]"
   ],
   "outputs": [],
   "metadata": {}
  },
  {
   "cell_type": "markdown",
   "source": [
    "### Modifying dataFrame\n",
    "\n",
    "\n",
    "1. Adding new column"
   ],
   "metadata": {}
  },
  {
   "cell_type": "code",
   "execution_count": null,
   "source": [
    "cars['fuel_tank'] = '2'\n",
    "cars"
   ],
   "outputs": [],
   "metadata": {}
  },
  {
   "cell_type": "markdown",
   "source": [
    "2. Adding new column based on existing column"
   ],
   "metadata": {}
  },
  {
   "cell_type": "code",
   "execution_count": null,
   "source": [
    "cars['mpl'] = cars['Mileage']/cars['fuel_tank']\n",
    "cars"
   ],
   "outputs": [],
   "metadata": {}
  },
  {
   "cell_type": "markdown",
   "source": [
    "2. Remove existing column"
   ],
   "metadata": {}
  },
  {
   "cell_type": "code",
   "execution_count": null,
   "source": [
    "cars.drop(['Registration'],axis=1)"
   ],
   "outputs": [],
   "metadata": {}
  },
  {
   "cell_type": "code",
   "execution_count": null,
   "source": [
    "cars.iloc[756]"
   ],
   "outputs": [],
   "metadata": {}
  },
  {
   "cell_type": "code",
   "execution_count": null,
   "source": [],
   "outputs": [],
   "metadata": {}
  }
 ],
 "metadata": {
  "kernelspec": {
   "name": "python3",
   "display_name": "Python 3.6.13 64-bit ('fossworkshop': conda)"
  },
  "language_info": {
   "codemirror_mode": {
    "name": "ipython",
    "version": 3
   },
   "file_extension": ".py",
   "mimetype": "text/x-python",
   "name": "python",
   "nbconvert_exporter": "python",
   "pygments_lexer": "ipython3",
   "version": "3.6.13"
  },
  "interpreter": {
   "hash": "9a548091e2697377a2ce6b3efb7eed731e13997a7baaa2410076b35d537cecf6"
  }
 },
 "nbformat": 4,
 "nbformat_minor": 5
}