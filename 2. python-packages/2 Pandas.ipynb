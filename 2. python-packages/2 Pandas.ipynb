{
 "cells": [
  {
   "cell_type": "markdown",
   "id": "763c4189",
   "metadata": {},
   "source": [
    "# Pandas\n",
    "\n",
    "Pandas is used for tasks involving data manipulation ,analysis, cleaning, etc. It uses various types of files such as csv, xls, JSON ,etc. \n",
    "\n",
    "You can think of pandas as an advancement to excel, ofcourse excel in itself is quite interesting, capable and strong. But pandas provides easier way to deal with large datasets if you know python\n"
   ]
  },
  {
   "cell_type": "code",
   "execution_count": 2,
   "id": "9e9ed1d9",
   "metadata": {},
   "outputs": [],
   "source": [
    "# Import pandas\n",
    "import pandas as pd"
   ]
  },
  {
   "cell_type": "markdown",
   "id": "4fd86a69",
   "metadata": {},
   "source": [
    "## Dataframes vs Series \n",
    "\n",
    "`Dataframe` is 2 dimensional , size-mutable tabular data e.g. a CSV with header and then data in it.\n",
    "\n",
    "`Series` is 1 dimensional array which can host data of any data type "
   ]
  },
  {
   "cell_type": "code",
   "execution_count": null,
   "id": "9edb877b",
   "metadata": {},
   "outputs": [],
   "source": [
    "ser = pd.Series([1,2,3,'a',{'blah','cat'}, True])\n",
    "ser"
   ]
  },
  {
   "cell_type": "code",
   "execution_count": null,
   "id": "2f09f05f",
   "metadata": {},
   "outputs": [],
   "source": [
    "frame = pd.DataFrame([[1,2,3],[4,5,6]], columns=['a','b','c'])"
   ]
  },
  {
   "cell_type": "code",
   "execution_count": null,
   "id": "17af246f",
   "metadata": {},
   "outputs": [],
   "source": [
    "frame"
   ]
  },
  {
   "cell_type": "code",
   "execution_count": null,
   "id": "9a6c27b3",
   "metadata": {},
   "outputs": [],
   "source": [
    "frame_from_dictionary = pd.DataFrame({\n",
    "    'name':['puffy','zazzy','rio','zen','top','cream','wiggle'],\n",
    "    'type':['dog','cat','bird','dog','cat','bird','snail'],\n",
    "    'age':[4,5,1,3,4,5,2]\n",
    "})\n",
    "frame_from_dictionary"
   ]
  },
  {
   "cell_type": "code",
   "execution_count": null,
   "id": "486bab15",
   "metadata": {},
   "outputs": [],
   "source": [
    "frame_from_dictionary.to_csv('../data/pet.csv')\n",
    "frame_from_dictionary"
   ]
  },
  {
   "cell_type": "code",
   "execution_count": null,
   "id": "33590fe7",
   "metadata": {},
   "outputs": [],
   "source": [
    "frame_from_dictionary.to_csv('../data/pet.csv',index=False)\n",
    "frame_from_dictionary"
   ]
  },
  {
   "cell_type": "code",
   "execution_count": null,
   "id": "4171d8e4",
   "metadata": {},
   "outputs": [],
   "source": [
    "frame_from_dictionary.head()"
   ]
  },
  {
   "cell_type": "code",
   "execution_count": null,
   "id": "25a69e2c",
   "metadata": {},
   "outputs": [],
   "source": [
    "frame_from_dictionary.head(2)"
   ]
  },
  {
   "cell_type": "code",
   "execution_count": null,
   "id": "59b06c82",
   "metadata": {},
   "outputs": [],
   "source": [
    "frame_from_dictionary.tail()"
   ]
  },
  {
   "cell_type": "markdown",
   "id": "5089d7e8",
   "metadata": {},
   "source": [
    "### Loading CSV data\n",
    "\n",
    "download csv from here https://www.kaggle.com/smritisingh1997/car-salescsv"
   ]
  },
  {
   "cell_type": "code",
   "execution_count": null,
   "id": "e97d07f4",
   "metadata": {},
   "outputs": [],
   "source": [
    "cars = pd.read_csv('../data/car_sales.csv')\n",
    "cars"
   ]
  },
  {
   "cell_type": "code",
   "execution_count": null,
   "id": "682dbee8",
   "metadata": {},
   "outputs": [],
   "source": [
    "cars.head(6)"
   ]
  },
  {
   "cell_type": "markdown",
   "id": "c61091d6",
   "metadata": {},
   "source": [
    "### Getting Higher level information about dataframe\n"
   ]
  },
  {
   "cell_type": "code",
   "execution_count": null,
   "id": "91271a84",
   "metadata": {},
   "outputs": [],
   "source": [
    "cars.describe()"
   ]
  },
  {
   "cell_type": "code",
   "execution_count": null,
   "id": "d9beeabe",
   "metadata": {},
   "outputs": [],
   "source": [
    "cars.info()"
   ]
  },
  {
   "cell_type": "code",
   "execution_count": null,
   "id": "36bfdd0e",
   "metadata": {},
   "outputs": [],
   "source": [
    "cars.groupby(['Brand']).count()"
   ]
  },
  {
   "cell_type": "code",
   "execution_count": null,
   "id": "6c8cf67d",
   "metadata": {},
   "outputs": [],
   "source": [
    "cars['dummy'] = 1\n",
    "cars.groupby(['Brand']).count()['dummy']"
   ]
  },
  {
   "cell_type": "code",
   "execution_count": null,
   "id": "a98cbc28",
   "metadata": {},
   "outputs": [],
   "source": [
    "cars.sort_values(by='Brand')"
   ]
  },
  {
   "cell_type": "code",
   "execution_count": null,
   "id": "abdaf92b",
   "metadata": {
    "scrolled": true
   },
   "outputs": [],
   "source": [
    "cars.groupby(['Brand', 'Body']).count()"
   ]
  },
  {
   "cell_type": "code",
   "execution_count": null,
   "id": "ab644389",
   "metadata": {},
   "outputs": [],
   "source": [
    "cars.sort_values(by='Mileage', ascending=False)"
   ]
  },
  {
   "cell_type": "markdown",
   "id": "73d000df",
   "metadata": {},
   "source": [
    "### Access data\n",
    "1. Get all headers"
   ]
  },
  {
   "cell_type": "code",
   "execution_count": null,
   "id": "0572e241",
   "metadata": {
    "scrolled": true
   },
   "outputs": [],
   "source": [
    "cars.columns"
   ]
  },
  {
   "cell_type": "markdown",
   "id": "0f7cb291",
   "metadata": {},
   "source": [
    "2. Get each row in loop\n",
    "\n",
    "When we do this, we'll get each row as a tuple"
   ]
  },
  {
   "cell_type": "code",
   "execution_count": null,
   "id": "a35c22d9",
   "metadata": {},
   "outputs": [],
   "source": [
    "for index,row in cars.iterrows():\n",
    "    print('index number -' + str(index))\n",
    "    print(row)"
   ]
  },
  {
   "cell_type": "code",
   "execution_count": null,
   "id": "4642c92a",
   "metadata": {},
   "outputs": [],
   "source": [
    "for row in cars.iterrows():\n",
    "    print(row)"
   ]
  },
  {
   "cell_type": "markdown",
   "id": "91321858",
   "metadata": {},
   "source": [
    "3. Get specific column values \n",
    "\n",
    "When we do this, we'll get specific column value for each row"
   ]
  },
  {
   "cell_type": "code",
   "execution_count": null,
   "id": "285a6c0e",
   "metadata": {},
   "outputs": [],
   "source": [
    "cars['Model']"
   ]
  },
  {
   "cell_type": "markdown",
   "id": "e139ea65",
   "metadata": {},
   "source": [
    "4. Get specific row based on index\n",
    "\n",
    "we'll use index number to get specific row"
   ]
  },
  {
   "cell_type": "code",
   "execution_count": null,
   "id": "26ce2559",
   "metadata": {},
   "outputs": [],
   "source": [
    "cars.iloc[0]"
   ]
  },
  {
   "cell_type": "markdown",
   "id": "1bac7314",
   "metadata": {},
   "source": [
    "4. Get specific column value in specific row\n",
    "\n",
    "4.1  based on index and column name\n",
    "we'll use index number to get specific row, and Column name to get value"
   ]
  },
  {
   "cell_type": "code",
   "execution_count": null,
   "id": "63efe8b7",
   "metadata": {},
   "outputs": [],
   "source": [
    "cars.iloc[1][\"Year\"]"
   ]
  },
  {
   "cell_type": "markdown",
   "id": "31899495",
   "metadata": {},
   "source": [
    "4.1  based on index for row,column\n",
    "we'll use index number to get specific row, and index of Column "
   ]
  },
  {
   "cell_type": "code",
   "execution_count": null,
   "id": "b3d2eb4f",
   "metadata": {},
   "outputs": [],
   "source": [
    "cars.iloc[1,3]"
   ]
  },
  {
   "cell_type": "markdown",
   "id": "ff9346a9",
   "metadata": {},
   "source": [
    "### Querying data\n",
    "\n",
    "1. Querying based on Column values"
   ]
  },
  {
   "cell_type": "code",
   "execution_count": null,
   "id": "76aa15a5",
   "metadata": {},
   "outputs": [],
   "source": [
    "modern = cars[cars['Year'] > 2012]"
   ]
  },
  {
   "cell_type": "code",
   "execution_count": null,
   "id": "c9ef381b",
   "metadata": {},
   "outputs": [],
   "source": [
    "modern"
   ]
  },
  {
   "cell_type": "markdown",
   "id": "263bec9f",
   "metadata": {},
   "source": [
    "2. Adding Multiple Queries based on Column values"
   ]
  },
  {
   "cell_type": "code",
   "execution_count": null,
   "id": "26bba2b1",
   "metadata": {},
   "outputs": [],
   "source": [
    "modern_petrol = cars[(cars['Year'] > 2012) & (cars['Engine Type'] == 'Petrol')]\n",
    "modern_petrol"
   ]
  },
  {
   "cell_type": "markdown",
   "id": "49d5d4e4",
   "metadata": {},
   "source": [
    "3. Using Data type methods\n"
   ]
  },
  {
   "cell_type": "code",
   "execution_count": null,
   "id": "125e84d6",
   "metadata": {},
   "outputs": [],
   "source": [
    "cars[cars['Brand'].str.startswith('B')]"
   ]
  },
  {
   "cell_type": "markdown",
   "id": "aca41d00",
   "metadata": {},
   "source": [
    "### Modifying dataFrame\n",
    "\n",
    "\n",
    "1. Adding new column"
   ]
  },
  {
   "cell_type": "code",
   "execution_count": null,
   "id": "6a55e64f",
   "metadata": {},
   "outputs": [],
   "source": [
    "cars['fuel_tank'] = '2'\n",
    "cars"
   ]
  },
  {
   "cell_type": "markdown",
   "id": "bdc08144",
   "metadata": {},
   "source": [
    "2. Adding new column based on existing column"
   ]
  },
  {
   "cell_type": "code",
   "execution_count": null,
   "id": "5857bee1",
   "metadata": {},
   "outputs": [],
   "source": [
    "cars['mpl'] = cars['Mileage']/cars['fuel_tank']\n",
    "cars"
   ]
  },
  {
   "cell_type": "markdown",
   "id": "bba63340",
   "metadata": {},
   "source": [
    "2. Remove existing column"
   ]
  },
  {
   "cell_type": "code",
   "execution_count": null,
   "id": "b6611545",
   "metadata": {},
   "outputs": [],
   "source": [
    "cars.drop(['Registration'],axis=1)"
   ]
  },
  {
   "cell_type": "code",
   "execution_count": null,
   "id": "2466a349",
   "metadata": {},
   "outputs": [],
   "source": []
  },
  {
   "cell_type": "code",
   "execution_count": null,
   "id": "c09bea44",
   "metadata": {},
   "outputs": [],
   "source": []
  }
 ],
 "metadata": {
  "interpreter": {
   "hash": "9a548091e2697377a2ce6b3efb7eed731e13997a7baaa2410076b35d537cecf6"
  },
  "kernelspec": {
   "display_name": "Python 3 (ipykernel)",
   "language": "python",
   "name": "python3"
  },
  "language_info": {
   "codemirror_mode": {
    "name": "ipython",
    "version": 3
   },
   "file_extension": ".py",
   "mimetype": "text/x-python",
   "name": "python",
   "nbconvert_exporter": "python",
   "pygments_lexer": "ipython3",
   "version": "3.9.6"
  }
 },
 "nbformat": 4,
 "nbformat_minor": 5
}
