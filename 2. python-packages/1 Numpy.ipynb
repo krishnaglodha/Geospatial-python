{
 "cells": [
  {
   "cell_type": "markdown",
   "id": "d113c11b",
   "metadata": {},
   "source": [
    "# Numpy\n",
    "\n",
    "Numpy is base library for lot of important libraries such as pandas\n",
    "\n",
    "Numpy can be considered as evolved brother of list which can store data in upto 3 dimensions\n",
    "\n",
    "### Why to use Numpy over list? \n",
    "1. Numpy is significantly fast when it comes to iteration , because its stores data in very lesser space (bytes) compared to list\n",
    "2. Numpy doesn't do type check in iteration, list checks each value to confirm whther it is int, float,etc. \n",
    "3. Numpy has more methods than list\n",
    "\n",
    "install numpy to your python using this package page : https://pypi.org/project/numpy/ \n",
    "and import\n",
    "\n",
    "checkout different data types numpy supports at https://numpy.org/doc/stable/reference/arrays.dtypes.html\n"
   ]
  },
  {
   "cell_type": "code",
   "execution_count": 18,
   "id": "0fca0c98",
   "metadata": {},
   "outputs": [],
   "source": [
    "# Import numpy\n",
    "import numpy as np"
   ]
  },
  {
   "cell_type": "markdown",
   "id": "ded24a67",
   "metadata": {},
   "source": [
    "### How to create Numpy arrays\n",
    "1. Create 1D array"
   ]
  },
  {
   "cell_type": "code",
   "execution_count": 4,
   "id": "2acc8f1a",
   "metadata": {},
   "outputs": [
    {
     "data": {
      "text/plain": [
       "array(['1', '2', 'a', 'True'], dtype='<U21')"
      ]
     },
     "execution_count": 4,
     "metadata": {},
     "output_type": "execute_result"
    }
   ],
   "source": [
    "one_d = np.array([1,2,'a',True])\n",
    "one_d"
   ]
  },
  {
   "cell_type": "code",
   "execution_count": 5,
   "id": "967b6f2a",
   "metadata": {},
   "outputs": [
    {
     "data": {
      "text/plain": [
       "array([ 1. ,  2. , 45. ,  2.3, -1. ])"
      ]
     },
     "execution_count": 5,
     "metadata": {},
     "output_type": "execute_result"
    }
   ],
   "source": [
    "justNumbers = np.array([1,2,45,2.3,-1])\n",
    "justNumbers"
   ]
  },
  {
   "cell_type": "markdown",
   "id": "e01689ae",
   "metadata": {},
   "source": [
    "2. Create 2D array"
   ]
  },
  {
   "cell_type": "code",
   "execution_count": 8,
   "id": "ff3096e3",
   "metadata": {},
   "outputs": [
    {
     "data": {
      "text/plain": [
       "array([[  1.  ,   2.  ],\n",
       "       [-14.  , -98.31],\n",
       "       [ 45.  , -21.  ]])"
      ]
     },
     "execution_count": 8,
     "metadata": {},
     "output_type": "execute_result"
    }
   ],
   "source": [
    "two_d = np.array([[1,2],[-14,-98.31],[45,-21]])\n",
    "two_d"
   ]
  },
  {
   "cell_type": "markdown",
   "id": "2cd18c70",
   "metadata": {},
   "source": [
    "3. Create 3D array"
   ]
  },
  {
   "cell_type": "code",
   "execution_count": 4,
   "id": "b689c8f7",
   "metadata": {},
   "outputs": [
    {
     "data": {
      "text/plain": [
       "array([[['1', 'a'],\n",
       "        ['b', 'True'],\n",
       "        ['2', 'c'],\n",
       "        ['d', 'False']],\n",
       "\n",
       "       [['1', 'a'],\n",
       "        ['b', 'True'],\n",
       "        ['-2', 'sdf'],\n",
       "        ['43', 'match']]], dtype='<U21')"
      ]
     },
     "execution_count": 4,
     "metadata": {},
     "output_type": "execute_result"
    }
   ],
   "source": [
    "three_d = np.array([[[1,'a'],['b',True],[2,'c'],['d',False]],[[1,'a'],['b',True],[-2,'sdf'],[43,'match']]])\n",
    "three_d"
   ]
  },
  {
   "cell_type": "markdown",
   "id": "5f06bd9f",
   "metadata": {},
   "source": [
    "4. Create array of random numbers"
   ]
  },
  {
   "cell_type": "code",
   "execution_count": 46,
   "id": "b13109f7",
   "metadata": {},
   "outputs": [
    {
     "data": {
      "text/plain": [
       "array([[[0.64444204, 0.67172318, 0.47663596],\n",
       "        [0.1994177 , 0.03115977, 0.71210657]],\n",
       "\n",
       "       [[0.09453485, 0.21333913, 0.74680632],\n",
       "        [0.5240004 , 0.53207296, 0.32630394]],\n",
       "\n",
       "       [[0.44343122, 0.20808997, 0.46744797],\n",
       "        [0.87761321, 0.27191356, 0.37919724]],\n",
       "\n",
       "       [[0.52848473, 0.60781443, 0.66072939],\n",
       "        [0.12792761, 0.70855209, 0.31951214]]])"
      ]
     },
     "execution_count": 46,
     "metadata": {},
     "output_type": "execute_result"
    }
   ],
   "source": [
    "random = np.random.rand(4,2,3)\n",
    "random"
   ]
  },
  {
   "cell_type": "markdown",
   "id": "a5dc6d6c",
   "metadata": {},
   "source": [
    "🕰️ Create following arrays\n",
    "\n",
    "1. array of 5 wild animals \n",
    "2. array of 5 subjects and their respective difficulty levels (1-5)\n",
    "3. Create following matrix as array\n",
    "```\n",
    "    1,3,4\n",
    "    5,3,43\n",
    "    78,65,90\n",
    "```"
   ]
  },
  {
   "cell_type": "markdown",
   "id": "0f3d8696",
   "metadata": {},
   "source": [
    "### Ways to create numpy array\n",
    "\n",
    "1. Using List/Tuple"
   ]
  },
  {
   "cell_type": "code",
   "execution_count": 13,
   "id": "1c6c8b26",
   "metadata": {},
   "outputs": [
    {
     "data": {
      "text/plain": [
       "array(['orange', 'banana', 'apple', 'kiwi'], dtype='<U6')"
      ]
     },
     "execution_count": 13,
     "metadata": {},
     "output_type": "execute_result"
    }
   ],
   "source": [
    "fruits = ['orange','banana','apple','kiwi']\n",
    "\n",
    "np_fruits = np.array(fruits)\n",
    "np_fruits"
   ]
  },
  {
   "cell_type": "markdown",
   "id": "4dad8c68",
   "metadata": {},
   "source": [
    "2. based on ranges \n",
    "- 1D array `np.arange(starting_num,ending_num,step)`"
   ]
  },
  {
   "cell_type": "code",
   "execution_count": 9,
   "id": "d7aaf3b4",
   "metadata": {},
   "outputs": [
    {
     "name": "stdout",
     "output_type": "stream",
     "text": [
      "just ending number\n",
      "[0 1 2 3 4]\n",
      "starting and ending number\n",
      "[3.2 4.2 5.2 6.2 7.2 8.2 9.2]\n",
      "starting and ending number with step\n",
      "[3.2 3.8 4.4 5.  5.6 6.2 6.8 7.4 8.  8.6 9.2 9.8]\n"
     ]
    }
   ],
   "source": [
    "print('just ending number')\n",
    "print(np.arange(5))\n",
    "print('starting and ending number')\n",
    "print(np.arange(3.2,10))\n",
    "print('starting and ending number with step')\n",
    "print(np.arange(3.2,10.2,0.6))"
   ]
  },
  {
   "cell_type": "markdown",
   "id": "f71bec43",
   "metadata": {},
   "source": [
    "- Equal Intervals `np.linspace(2, 8, 9)`"
   ]
  },
  {
   "cell_type": "code",
   "execution_count": 12,
   "id": "637a7719",
   "metadata": {},
   "outputs": [
    {
     "name": "stdout",
     "output_type": "stream",
     "text": [
      "9 Numbers between 2 and 8\n",
      "[2.   2.75 3.5  4.25 5.   5.75 6.5  7.25 8.  ]\n"
     ]
    }
   ],
   "source": [
    "print('9 Numbers between 2 and 8')\n",
    "print(np.linspace(2, 8, 9))"
   ]
  },
  {
   "cell_type": "markdown",
   "id": "dd78403e",
   "metadata": {},
   "source": [
    "- 2D Identity Matrix `np.eye(rows,columns)`"
   ]
  },
  {
   "cell_type": "code",
   "execution_count": 14,
   "id": "7db1cdcf",
   "metadata": {},
   "outputs": [
    {
     "name": "stdout",
     "output_type": "stream",
     "text": [
      "Identity Matrix of 4 rows and 4 columns\n",
      "[[1. 0. 0. 0.]\n",
      " [0. 1. 0. 0.]\n",
      " [0. 0. 1. 0.]\n",
      " [0. 0. 0. 1.]]\n",
      "Identity Matrix of 3 rows and 4 columns\n",
      "[[1. 0. 0. 0.]\n",
      " [0. 1. 0. 0.]\n",
      " [0. 0. 1. 0.]]\n"
     ]
    }
   ],
   "source": [
    "print('Identity Matrix of 4 rows and 4 columns')\n",
    "print(np.eye(4))\n",
    "print('Identity Matrix of 3 rows and 4 columns')\n",
    "print(np.eye(3,4))"
   ]
  },
  {
   "cell_type": "markdown",
   "id": "819cf396",
   "metadata": {},
   "source": [
    "3. Loading CSV data \n",
    "\n",
    "`np.loadtxt(csv_path, delimiter, skiprows)` "
   ]
  },
  {
   "cell_type": "code",
   "execution_count": 24,
   "id": "1dcc36d9",
   "metadata": {},
   "outputs": [
    {
     "name": "stdout",
     "output_type": "stream",
     "text": [
      " 2d array\n",
      "[[ 20.   111.  ]\n",
      " [ 11.   103.  ]\n",
      " [ 45.   105.  ]\n",
      " [  3.02  98.  ]]\n"
     ]
    }
   ],
   "source": [
    "print(' 2d array')\n",
    "print(np.loadtxt('../data/pokemon.csv', delimiter = ',') )"
   ]
  },
  {
   "cell_type": "markdown",
   "id": "299dfd77",
   "metadata": {},
   "source": [
    "4. Create array with all elements as 0\n",
    "\n",
    "`np.zeros((row,column))` "
   ]
  },
  {
   "cell_type": "code",
   "execution_count": 26,
   "id": "0e959fae",
   "metadata": {},
   "outputs": [
    {
     "data": {
      "text/plain": [
       "array([[0., 0.],\n",
       "       [0., 0.],\n",
       "       [0., 0.]])"
      ]
     },
     "execution_count": 26,
     "metadata": {},
     "output_type": "execute_result"
    }
   ],
   "source": [
    "np.zeros((3,2))"
   ]
  },
  {
   "cell_type": "markdown",
   "id": "38abb7d2",
   "metadata": {},
   "source": [
    "5. Create array with all elements as 1\n",
    "\n",
    "`np.zeros((row,column))` "
   ]
  },
  {
   "cell_type": "code",
   "execution_count": 27,
   "id": "d8ae26ff",
   "metadata": {},
   "outputs": [
    {
     "data": {
      "text/plain": [
       "array([[1., 1.],\n",
       "       [1., 1.],\n",
       "       [1., 1.]])"
      ]
     },
     "execution_count": 27,
     "metadata": {},
     "output_type": "execute_result"
    }
   ],
   "source": [
    "np.ones((3,2))"
   ]
  },
  {
   "cell_type": "markdown",
   "id": "dbca1193",
   "metadata": {},
   "source": [
    "### Check basic properties\n",
    "1. check dimension of array"
   ]
  },
  {
   "cell_type": "code",
   "execution_count": 9,
   "id": "b81aa56d",
   "metadata": {},
   "outputs": [
    {
     "data": {
      "text/plain": [
       "1"
      ]
     },
     "execution_count": 9,
     "metadata": {},
     "output_type": "execute_result"
    }
   ],
   "source": [
    "one_d.ndim"
   ]
  },
  {
   "cell_type": "code",
   "execution_count": 11,
   "id": "f555aa7d",
   "metadata": {},
   "outputs": [
    {
     "data": {
      "text/plain": [
       "2"
      ]
     },
     "execution_count": 11,
     "metadata": {},
     "output_type": "execute_result"
    }
   ],
   "source": [
    "two_d.ndim"
   ]
  },
  {
   "cell_type": "markdown",
   "id": "b5cc8b73",
   "metadata": {},
   "source": [
    "2. check shape"
   ]
  },
  {
   "cell_type": "code",
   "execution_count": 12,
   "id": "6c309e34",
   "metadata": {},
   "outputs": [
    {
     "data": {
      "text/plain": [
       "(4,)"
      ]
     },
     "execution_count": 12,
     "metadata": {},
     "output_type": "execute_result"
    }
   ],
   "source": [
    "one_d.shape"
   ]
  },
  {
   "cell_type": "code",
   "execution_count": 13,
   "id": "54a4602f",
   "metadata": {},
   "outputs": [
    {
     "data": {
      "text/plain": [
       "(3, 2)"
      ]
     },
     "execution_count": 13,
     "metadata": {},
     "output_type": "execute_result"
    }
   ],
   "source": [
    "two_d.shape"
   ]
  },
  {
   "cell_type": "code",
   "execution_count": 17,
   "id": "5560e27a",
   "metadata": {},
   "outputs": [
    {
     "data": {
      "text/plain": [
       "(2, 4, 2)"
      ]
     },
     "execution_count": 17,
     "metadata": {},
     "output_type": "execute_result"
    }
   ],
   "source": [
    "three_d.shape"
   ]
  },
  {
   "cell_type": "markdown",
   "id": "dbf85834",
   "metadata": {},
   "source": [
    "### Modifying Numpy arrays\n",
    "1. Accessing elements\n",
    "Access elemeny by mentioning index number in [row,column] or [row][column] fashion"
   ]
  },
  {
   "cell_type": "code",
   "execution_count": 24,
   "id": "a8990a4a",
   "metadata": {},
   "outputs": [],
   "source": [
    "randomArray = np.array([[1,0,2,9,4,8],[15,23,37,46,18,59]])"
   ]
  },
  {
   "cell_type": "code",
   "execution_count": 25,
   "id": "a68d31e0",
   "metadata": {
    "scrolled": true
   },
   "outputs": [
    {
     "data": {
      "text/plain": [
       "15"
      ]
     },
     "execution_count": 25,
     "metadata": {},
     "output_type": "execute_result"
    }
   ],
   "source": [
    "randomArray[1][0]"
   ]
  },
  {
   "cell_type": "code",
   "execution_count": 28,
   "id": "f4936119",
   "metadata": {},
   "outputs": [
    {
     "data": {
      "text/plain": [
       "15"
      ]
     },
     "execution_count": 28,
     "metadata": {},
     "output_type": "execute_result"
    }
   ],
   "source": [
    "randomArray[1,0]"
   ]
  },
  {
   "cell_type": "markdown",
   "id": "2eed9410",
   "metadata": {},
   "source": [
    "🕰️ Can you get 59 number? "
   ]
  },
  {
   "cell_type": "code",
   "execution_count": null,
   "id": "f34badab",
   "metadata": {},
   "outputs": [],
   "source": []
  },
  {
   "cell_type": "code",
   "execution_count": 39,
   "id": "25057bc5",
   "metadata": {},
   "outputs": [
    {
     "data": {
      "text/plain": [
       "array([[['1', 'a'],\n",
       "        ['b', 'True'],\n",
       "        ['2', 'c'],\n",
       "        ['d', 'False']],\n",
       "\n",
       "       [['1', 'a'],\n",
       "        ['b', 'True'],\n",
       "        ['-2', 'sdf'],\n",
       "        ['43', 'match']]], dtype='<U21')"
      ]
     },
     "execution_count": 39,
     "metadata": {},
     "output_type": "execute_result"
    }
   ],
   "source": [
    "three_d "
   ]
  },
  {
   "cell_type": "code",
   "execution_count": 40,
   "id": "c7101e19",
   "metadata": {},
   "outputs": [
    {
     "data": {
      "text/plain": [
       "'sdf'"
      ]
     },
     "execution_count": 40,
     "metadata": {},
     "output_type": "execute_result"
    }
   ],
   "source": [
    "three_d[1,2,1] # This will work outside in and give us 'sdf'"
   ]
  },
  {
   "cell_type": "markdown",
   "id": "5eb9ab02",
   "metadata": {},
   "source": [
    "🕰️ Can you create an array where `nparray[1,0,2] == 'foss4g'` "
   ]
  },
  {
   "cell_type": "code",
   "execution_count": null,
   "id": "e63f9ffb",
   "metadata": {},
   "outputs": [],
   "source": []
  },
  {
   "cell_type": "markdown",
   "id": "fb2554f1",
   "metadata": {},
   "source": [
    "Access entire row or column by mentioning index number of other property as ':'\n"
   ]
  },
  {
   "cell_type": "code",
   "execution_count": 32,
   "id": "0b0c4c17",
   "metadata": {},
   "outputs": [
    {
     "data": {
      "text/plain": [
       "array([1, 0, 2, 9, 4, 8])"
      ]
     },
     "execution_count": 32,
     "metadata": {},
     "output_type": "execute_result"
    }
   ],
   "source": [
    "# To get all columns of 1st row\n",
    "randomArray[0,:]"
   ]
  },
  {
   "cell_type": "code",
   "execution_count": 33,
   "id": "bc2caa99",
   "metadata": {},
   "outputs": [
    {
     "data": {
      "text/plain": [
       "array([ 2, 37])"
      ]
     },
     "execution_count": 33,
     "metadata": {},
     "output_type": "execute_result"
    }
   ],
   "source": [
    "#To get 3rd column of each row\n",
    "randomArray[:,2]"
   ]
  },
  {
   "cell_type": "markdown",
   "id": "35aecf91",
   "metadata": {},
   "source": [
    "2. Updating elements\n",
    "Update elemet by procividing its index address\n"
   ]
  },
  {
   "cell_type": "code",
   "execution_count": 34,
   "id": "96e23cb1",
   "metadata": {},
   "outputs": [
    {
     "data": {
      "text/plain": [
       "array([[ 1,  0,  2,  9,  4,  8],\n",
       "       [15, 23, 37, 46, 18, 59]])"
      ]
     },
     "execution_count": 34,
     "metadata": {},
     "output_type": "execute_result"
    }
   ],
   "source": [
    "randomArray"
   ]
  },
  {
   "cell_type": "code",
   "execution_count": 35,
   "id": "11ed6315",
   "metadata": {},
   "outputs": [
    {
     "data": {
      "text/plain": [
       "array([[ 1,  0,  2,  9,  4,  8],\n",
       "       [15,  2, 37, 46, 18, 59]])"
      ]
     },
     "execution_count": 35,
     "metadata": {},
     "output_type": "execute_result"
    }
   ],
   "source": [
    "randomArray[1,1] = 2 # 23 will now become 2\n",
    "randomArray"
   ]
  },
  {
   "cell_type": "code",
   "execution_count": 37,
   "id": "745b947d",
   "metadata": {},
   "outputs": [
    {
     "data": {
      "text/plain": [
       "array([[1, 0, 2, 9, 4, 8],\n",
       "       [4, 4, 4, 4, 4, 4]])"
      ]
     },
     "execution_count": 37,
     "metadata": {},
     "output_type": "execute_result"
    }
   ],
   "source": [
    "randomArray[1,:] = 4 # Entire 1st index row will become 4\n",
    "randomArray"
   ]
  },
  {
   "cell_type": "code",
   "execution_count": 38,
   "id": "a1affe25",
   "metadata": {},
   "outputs": [
    {
     "data": {
      "text/plain": [
       "array([[ 1,  0,  2, 41,  4,  8],\n",
       "       [ 4,  4,  4, 41,  4,  4]])"
      ]
     },
     "execution_count": 38,
     "metadata": {},
     "output_type": "execute_result"
    }
   ],
   "source": [
    "randomArray[:,3] = 41 # Entire 3rd index column will become 41\n",
    "randomArray"
   ]
  },
  {
   "cell_type": "code",
   "execution_count": 42,
   "id": "8970332a",
   "metadata": {},
   "outputs": [
    {
     "data": {
      "text/plain": [
       "array([['2', 'c'],\n",
       "       ['-2', 'sdf']], dtype='<U21')"
      ]
     },
     "execution_count": 42,
     "metadata": {},
     "output_type": "execute_result"
    }
   ],
   "source": [
    "three_d[:,2,:]"
   ]
  },
  {
   "cell_type": "code",
   "execution_count": 44,
   "id": "23919dcc",
   "metadata": {},
   "outputs": [
    {
     "data": {
      "text/plain": [
       "array([[['1', 'a'],\n",
       "        ['b', 'True'],\n",
       "        ['changed', 'yes'],\n",
       "        ['d', 'False']],\n",
       "\n",
       "       [['1', 'a'],\n",
       "        ['b', 'True'],\n",
       "        ['0', '1'],\n",
       "        ['43', 'match']]], dtype='<U21')"
      ]
     },
     "execution_count": 44,
     "metadata": {},
     "output_type": "execute_result"
    }
   ],
   "source": [
    "three_d[:,2,:] = [['changed', 'yes'],[0,1]] # to replace array, pass another array with same dimension\n",
    "three_d"
   ]
  },
  {
   "cell_type": "markdown",
   "id": "7217a9a5",
   "metadata": {},
   "source": [
    "🕰️ Create an array of numbers from 1 to 30\n",
    "\n",
    "1. replace all odd index values with `apple`\n",
    "2. replace all indexes,multiple of 5 with `cherry`"
   ]
  },
  {
   "cell_type": "code",
   "execution_count": null,
   "id": "18b4ff42",
   "metadata": {},
   "outputs": [],
   "source": []
  },
  {
   "cell_type": "code",
   "execution_count": null,
   "id": "001bf8b9",
   "metadata": {},
   "outputs": [],
   "source": []
  },
  {
   "cell_type": "markdown",
   "id": "309373b5",
   "metadata": {},
   "source": [
    "3. Copying array"
   ]
  },
  {
   "cell_type": "code",
   "execution_count": 47,
   "id": "778b3c7c",
   "metadata": {},
   "outputs": [
    {
     "data": {
      "text/plain": [
       "array([1, 2, 3])"
      ]
     },
     "execution_count": 47,
     "metadata": {},
     "output_type": "execute_result"
    }
   ],
   "source": [
    "a = np.array([1,2,3])\n",
    "a"
   ]
  },
  {
   "cell_type": "code",
   "execution_count": 48,
   "id": "c025f974",
   "metadata": {},
   "outputs": [
    {
     "data": {
      "text/plain": [
       "array([1, 2, 3])"
      ]
     },
     "execution_count": 48,
     "metadata": {},
     "output_type": "execute_result"
    }
   ],
   "source": [
    "b =a \n",
    "b"
   ]
  },
  {
   "cell_type": "code",
   "execution_count": 49,
   "id": "3155406b",
   "metadata": {},
   "outputs": [
    {
     "data": {
      "text/plain": [
       "array([100,   2,   3])"
      ]
     },
     "execution_count": 49,
     "metadata": {},
     "output_type": "execute_result"
    }
   ],
   "source": [
    "b[0]= 100\n",
    "b"
   ]
  },
  {
   "cell_type": "code",
   "execution_count": 50,
   "id": "496aa303",
   "metadata": {},
   "outputs": [
    {
     "data": {
      "text/plain": [
       "array([100,   2,   3])"
      ]
     },
     "execution_count": 50,
     "metadata": {},
     "output_type": "execute_result"
    }
   ],
   "source": [
    "a"
   ]
  },
  {
   "cell_type": "code",
   "execution_count": 52,
   "id": "bc3d89d3",
   "metadata": {},
   "outputs": [
    {
     "data": {
      "text/plain": [
       "array([200,   2,   3])"
      ]
     },
     "execution_count": 52,
     "metadata": {},
     "output_type": "execute_result"
    }
   ],
   "source": [
    "c= a.copy()\n",
    "c[0] = 200\n",
    "c"
   ]
  },
  {
   "cell_type": "code",
   "execution_count": 53,
   "id": "bd7be9e1",
   "metadata": {},
   "outputs": [
    {
     "data": {
      "text/plain": [
       "array([100,   2,   3])"
      ]
     },
     "execution_count": 53,
     "metadata": {},
     "output_type": "execute_result"
    }
   ],
   "source": [
    "a"
   ]
  },
  {
   "cell_type": "markdown",
   "id": "a8ad0e89",
   "metadata": {},
   "source": [
    "### Mathematical Operations on Numpy arrays\n",
    "1. Element wise change"
   ]
  },
  {
   "cell_type": "code",
   "execution_count": 55,
   "id": "d2607358",
   "metadata": {},
   "outputs": [
    {
     "data": {
      "text/plain": [
       "array([ 0,  1,  2, -1])"
      ]
     },
     "execution_count": 55,
     "metadata": {},
     "output_type": "execute_result"
    }
   ],
   "source": [
    "a = np.array([0,1,2,-1])\n",
    "a"
   ]
  },
  {
   "cell_type": "code",
   "execution_count": 56,
   "id": "af45bd6d",
   "metadata": {},
   "outputs": [
    {
     "data": {
      "text/plain": [
       "array([2, 3, 4, 1])"
      ]
     },
     "execution_count": 56,
     "metadata": {},
     "output_type": "execute_result"
    }
   ],
   "source": [
    "a + 2"
   ]
  },
  {
   "cell_type": "code",
   "execution_count": 57,
   "id": "c31b6f02",
   "metadata": {},
   "outputs": [
    {
     "data": {
      "text/plain": [
       "array([ 0,  3,  6, -3])"
      ]
     },
     "execution_count": 57,
     "metadata": {},
     "output_type": "execute_result"
    }
   ],
   "source": [
    "a * 3"
   ]
  },
  {
   "cell_type": "code",
   "execution_count": 58,
   "id": "6357a818",
   "metadata": {},
   "outputs": [
    {
     "data": {
      "text/plain": [
       "array([9, 8, 7, 6])"
      ]
     },
     "execution_count": 58,
     "metadata": {},
     "output_type": "execute_result"
    }
   ],
   "source": [
    "b = np.array([9,8,7,6])\n",
    "b"
   ]
  },
  {
   "cell_type": "code",
   "execution_count": 59,
   "id": "3be0f51d",
   "metadata": {},
   "outputs": [
    {
     "data": {
      "text/plain": [
       "array([9, 9, 9, 5])"
      ]
     },
     "execution_count": 59,
     "metadata": {},
     "output_type": "execute_result"
    }
   ],
   "source": [
    "a + b"
   ]
  },
  {
   "cell_type": "code",
   "execution_count": 60,
   "id": "858052b5",
   "metadata": {},
   "outputs": [
    {
     "data": {
      "text/plain": [
       "array([1, 2, 4])"
      ]
     },
     "execution_count": 60,
     "metadata": {},
     "output_type": "execute_result"
    }
   ],
   "source": [
    "c = np.array([1,2,4])\n",
    "c"
   ]
  },
  {
   "cell_type": "code",
   "execution_count": 61,
   "id": "c44f0a6b",
   "metadata": {},
   "outputs": [
    {
     "ename": "ValueError",
     "evalue": "operands could not be broadcast together with shapes (4,) (3,) ",
     "output_type": "error",
     "traceback": [
      "\u001b[0;31m---------------------------------------------------------------------------\u001b[0m",
      "\u001b[0;31mValueError\u001b[0m                                Traceback (most recent call last)",
      "\u001b[0;32m<ipython-input-61-e81e582b6fa9>\u001b[0m in \u001b[0;36m<module>\u001b[0;34m\u001b[0m\n\u001b[0;32m----> 1\u001b[0;31m \u001b[0ma\u001b[0m \u001b[0;34m+\u001b[0m \u001b[0mc\u001b[0m\u001b[0;34m\u001b[0m\u001b[0;34m\u001b[0m\u001b[0m\n\u001b[0m",
      "\u001b[0;31mValueError\u001b[0m: operands could not be broadcast together with shapes (4,) (3,) "
     ]
    }
   ],
   "source": [
    "a + c # Make sure that both array has same shape "
   ]
  },
  {
   "cell_type": "code",
   "execution_count": 62,
   "id": "76257221",
   "metadata": {},
   "outputs": [],
   "source": [
    "angles = np.array([30,45,60,90,180])"
   ]
  },
  {
   "cell_type": "code",
   "execution_count": 63,
   "id": "844fef3e",
   "metadata": {},
   "outputs": [
    {
     "data": {
      "text/plain": [
       "array([-0.98803162,  0.85090352, -0.30481062,  0.89399666, -0.80115264])"
      ]
     },
     "execution_count": 63,
     "metadata": {},
     "output_type": "execute_result"
    }
   ],
   "source": [
    "np.sin(angles) # values are considered as rad"
   ]
  },
  {
   "cell_type": "code",
   "execution_count": 64,
   "id": "654d224c",
   "metadata": {},
   "outputs": [
    {
     "data": {
      "text/plain": [
       "array([ 0.15425145,  0.52532199, -0.95241298, -0.44807362, -0.59846007])"
      ]
     },
     "execution_count": 64,
     "metadata": {},
     "output_type": "execute_result"
    }
   ],
   "source": [
    "np.cos(angles)"
   ]
  },
  {
   "cell_type": "code",
   "execution_count": 65,
   "id": "617033c4",
   "metadata": {},
   "outputs": [
    {
     "data": {
      "text/plain": [
       "(array([3, 4]),)"
      ]
     },
     "execution_count": 65,
     "metadata": {},
     "output_type": "execute_result"
    }
   ],
   "source": [
    "np.where(angles> 60)"
   ]
  },
  {
   "cell_type": "code",
   "execution_count": 78,
   "id": "209fd71d",
   "metadata": {},
   "outputs": [
    {
     "data": {
      "text/plain": [
       "[90, 180]"
      ]
     },
     "execution_count": 78,
     "metadata": {},
     "output_type": "execute_result"
    }
   ],
   "source": [
    "greater_angles = []\n",
    "for i in np.where(angles> 60)[0]:\n",
    "    greater_angles.append(angles[i])\n",
    "greater_angles"
   ]
  },
  {
   "cell_type": "markdown",
   "id": "4dc23e60",
   "metadata": {},
   "source": [
    "### Axis Numpy arrays\n",
    "Axis represents how many directions we can go to.\n",
    "\n",
    "1D array will have single axis viz. axis 0\n",
    "\n",
    "2D array will have double axis viz. axis 0 (Column), axis 1 (Row)\n"
   ]
  },
  {
   "cell_type": "code",
   "execution_count": 65,
   "id": "82b5e6f6",
   "metadata": {},
   "outputs": [
    {
     "data": {
      "text/plain": [
       "array([1, 2, 3, 4])"
      ]
     },
     "execution_count": 65,
     "metadata": {},
     "output_type": "execute_result"
    }
   ],
   "source": [
    "a = [1,2,3,4]\n",
    "arr = np.array(a)\n",
    "arr"
   ]
  },
  {
   "cell_type": "code",
   "execution_count": 66,
   "id": "c11cab59",
   "metadata": {},
   "outputs": [
    {
     "data": {
      "text/plain": [
       "10"
      ]
     },
     "execution_count": 66,
     "metadata": {},
     "output_type": "execute_result"
    }
   ],
   "source": [
    "arr.sum()"
   ]
  },
  {
   "cell_type": "code",
   "execution_count": 67,
   "id": "9048f154",
   "metadata": {},
   "outputs": [
    {
     "data": {
      "text/plain": [
       "array([[1, 2, 3],\n",
       "       [4, 5, 6],\n",
       "       [7, 8, 9]])"
      ]
     },
     "execution_count": 67,
     "metadata": {},
     "output_type": "execute_result"
    }
   ],
   "source": [
    "b = [[1,2,3],[4,5,6],[7,8,9]]\n",
    "arr_2d = np.array(b)\n",
    "arr_2d"
   ]
  },
  {
   "cell_type": "code",
   "execution_count": 68,
   "id": "e48fe95a",
   "metadata": {},
   "outputs": [
    {
     "data": {
      "text/plain": [
       "array([12, 15, 18])"
      ]
     },
     "execution_count": 68,
     "metadata": {},
     "output_type": "execute_result"
    }
   ],
   "source": [
    "arr_2d.sum(axis=0) # addition will be done vertically"
   ]
  },
  {
   "cell_type": "code",
   "execution_count": 69,
   "id": "2e2d4020",
   "metadata": {},
   "outputs": [
    {
     "data": {
      "text/plain": [
       "array([ 6, 15, 24])"
      ]
     },
     "execution_count": 69,
     "metadata": {},
     "output_type": "execute_result"
    }
   ],
   "source": [
    "arr_2d.sum(axis=1) # addition will be done horizontally"
   ]
  },
  {
   "cell_type": "markdown",
   "id": "9aa14b11",
   "metadata": {},
   "source": [
    "### Sorting numpy data"
   ]
  },
  {
   "cell_type": "code",
   "execution_count": 41,
   "id": "f671681c",
   "metadata": {},
   "outputs": [],
   "source": [
    "random = np.array([1,34,23,54,34,65,90,34,100])"
   ]
  },
  {
   "cell_type": "markdown",
   "id": "5c68a166",
   "metadata": {},
   "source": [
    "Index of maximum number"
   ]
  },
  {
   "cell_type": "code",
   "execution_count": 42,
   "id": "735dc49e",
   "metadata": {},
   "outputs": [
    {
     "data": {
      "text/plain": [
       "8"
      ]
     },
     "execution_count": 42,
     "metadata": {},
     "output_type": "execute_result"
    }
   ],
   "source": [
    "random.argmax()"
   ]
  },
  {
   "cell_type": "markdown",
   "id": "6deb4b74",
   "metadata": {},
   "source": [
    "Index of minimum number"
   ]
  },
  {
   "cell_type": "code",
   "execution_count": 43,
   "id": "7b277771",
   "metadata": {},
   "outputs": [
    {
     "data": {
      "text/plain": [
       "0"
      ]
     },
     "execution_count": 43,
     "metadata": {},
     "output_type": "execute_result"
    }
   ],
   "source": [
    "random.argmin()"
   ]
  },
  {
   "cell_type": "markdown",
   "id": "68b4e304",
   "metadata": {},
   "source": [
    "Index of sorted array"
   ]
  },
  {
   "cell_type": "code",
   "execution_count": 44,
   "id": "986f7ab3",
   "metadata": {},
   "outputs": [
    {
     "data": {
      "text/plain": [
       "array([0, 2, 1, 4, 7, 3, 5, 6, 8])"
      ]
     },
     "execution_count": 44,
     "metadata": {},
     "output_type": "execute_result"
    }
   ],
   "source": [
    "random.argsort()"
   ]
  },
  {
   "cell_type": "code",
   "execution_count": null,
   "id": "39c63551",
   "metadata": {},
   "outputs": [],
   "source": []
  },
  {
   "cell_type": "markdown",
   "id": "05aff868",
   "metadata": {},
   "source": [
    "### Reshapeing matrix\n"
   ]
  },
  {
   "cell_type": "code",
   "execution_count": 45,
   "id": "2132938e",
   "metadata": {},
   "outputs": [],
   "source": [
    "ar = np.array([1,2,3,2,45])"
   ]
  },
  {
   "cell_type": "code",
   "execution_count": 46,
   "id": "c47f09eb",
   "metadata": {},
   "outputs": [
    {
     "data": {
      "text/plain": [
       "(5,)"
      ]
     },
     "execution_count": 46,
     "metadata": {},
     "output_type": "execute_result"
    }
   ],
   "source": [
    "ar.shape"
   ]
  },
  {
   "cell_type": "code",
   "execution_count": 52,
   "id": "b8edaea3",
   "metadata": {},
   "outputs": [
    {
     "data": {
      "text/plain": [
       "array([[ 1],\n",
       "       [ 2],\n",
       "       [ 3],\n",
       "       [ 2],\n",
       "       [45]])"
      ]
     },
     "execution_count": 52,
     "metadata": {},
     "output_type": "execute_result"
    }
   ],
   "source": [
    "ar.reshape((5,1))"
   ]
  },
  {
   "cell_type": "code",
   "execution_count": 53,
   "id": "5c6db2e2",
   "metadata": {},
   "outputs": [
    {
     "data": {
      "text/plain": [
       "array([[ 1,  2,  3,  2, 45]])"
      ]
     },
     "execution_count": 53,
     "metadata": {},
     "output_type": "execute_result"
    }
   ],
   "source": [
    "ar.reshape((1,5))"
   ]
  },
  {
   "cell_type": "code",
   "execution_count": 54,
   "id": "24862259",
   "metadata": {},
   "outputs": [
    {
     "data": {
      "text/plain": [
       "array([ 1,  2,  3,  2, 45])"
      ]
     },
     "execution_count": 54,
     "metadata": {},
     "output_type": "execute_result"
    }
   ],
   "source": [
    "ar.reshape((5,))"
   ]
  },
  {
   "cell_type": "code",
   "execution_count": null,
   "id": "94451075",
   "metadata": {},
   "outputs": [],
   "source": []
  }
 ],
 "metadata": {
  "kernelspec": {
   "display_name": "Python 3 (ipykernel)",
   "language": "python",
   "name": "python3"
  },
  "language_info": {
   "codemirror_mode": {
    "name": "ipython",
    "version": 3
   },
   "file_extension": ".py",
   "mimetype": "text/x-python",
   "name": "python",
   "nbconvert_exporter": "python",
   "pygments_lexer": "ipython3",
   "version": "3.9.6"
  }
 },
 "nbformat": 4,
 "nbformat_minor": 5
}
