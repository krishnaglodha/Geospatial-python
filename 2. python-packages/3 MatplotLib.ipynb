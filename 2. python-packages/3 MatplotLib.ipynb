{
 "cells": [
  {
   "cell_type": "markdown",
   "source": [
    "# matplotlib\n",
    "\n",
    "Matplotlib is data visualisation library which allows to create 2d graphs,charts of various types to visualise data. \n",
    "\n",
    "Using matplotlib we can create `bar charts`, `histograms`,`Scatter plots`,`Pie plot`,`Area PLot`, etc. "
   ],
   "metadata": {}
  },
  {
   "cell_type": "code",
   "execution_count": null,
   "source": [
    "#Import matplotlib\n",
    "import matplotlib\n",
    "import matplotlib.pyplot as plt\n",
    "#Import supporting modules\n",
    "import numpy as np\n",
    "import pandas as pd\n",
    "\n",
    "%matplotlib inline"
   ],
   "outputs": [],
   "metadata": {}
  },
  {
   "cell_type": "code",
   "execution_count": null,
   "source": [],
   "outputs": [],
   "metadata": {}
  },
  {
   "cell_type": "markdown",
   "source": [
    "Create basic graph based on X,Y value"
   ],
   "metadata": {}
  },
  {
   "cell_type": "code",
   "execution_count": null,
   "source": [
    "X_axis = np.array([1,6,4])\n",
    "Y_axis = np.array([5,2,9])\n"
   ],
   "outputs": [],
   "metadata": {}
  },
  {
   "cell_type": "code",
   "execution_count": null,
   "source": [
    "plt.plot(X_axis, Y_axis)\n",
    "plt.show()"
   ],
   "outputs": [],
   "metadata": {}
  },
  {
   "cell_type": "code",
   "execution_count": null,
   "source": [
    "import matplotlib.pyplot as plt\n",
    "plt.plot([12,52,34,41], [1,99,65,9])\n",
    "plt.show()"
   ],
   "outputs": [],
   "metadata": {}
  },
  {
   "cell_type": "markdown",
   "source": [
    "🕰️ Can you create a Star in matplotlib? "
   ],
   "metadata": {}
  },
  {
   "cell_type": "code",
   "execution_count": null,
   "source": [
    "# import matplotlib.pyplot as plt\n",
    "# plt.plot([0,1.5,3,0,3,0], [0,3,0,2,2,0])\n",
    "# plt.show()"
   ],
   "outputs": [],
   "metadata": {}
  },
  {
   "cell_type": "markdown",
   "source": [
    "### Adding some basic notation to map\n",
    "\n",
    "find out all methods associated with pyplot here - https://matplotlib.org/stable/api/_as_gen/matplotlib.pyplot.html\n",
    "\n",
    "We can add title, X-axis, Y-axis, title,label to the map, we can also specifiy color of the line\n",
    "\n"
   ],
   "metadata": {}
  },
  {
   "cell_type": "code",
   "execution_count": null,
   "source": [
    "\n",
    "#Yearly sales\n",
    "import matplotlib.pyplot as plt\n",
    "plt.plot([2018,2019,2020,2021], [10,12,11,15],'#1dc4ed',label='fruits')\n",
    "plt.title('Sales in M per year')\n",
    "plt.xlabel('Years')\n",
    "plt.ylabel('Sales(M)')\n",
    "plt.xticks([2018,2019,2020,2021])\n",
    "plt.legend()\n",
    "plt.show()"
   ],
   "outputs": [],
   "metadata": {}
  },
  {
   "cell_type": "markdown",
   "source": [
    "### Adding multiple lines in same graph"
   ],
   "metadata": {}
  },
  {
   "cell_type": "code",
   "execution_count": null,
   "source": [
    "#Yearly sales of fruits vs candy\n",
    "import matplotlib.pyplot as plt\n",
    "years = [2018,2019,2020,2021]\n",
    "fruits = [10,12,11,15]\n",
    "candy = [18,16,12,9]\n",
    "plt.plot(years, fruits,color='#0f0',label='fruits',linewidth=4)\n",
    "plt.plot(years, candy,'#00f',label='candy', marker='o')\n",
    "plt.title('Sales in M per year')\n",
    "plt.xlabel('Years')\n",
    "plt.ylabel('Sales(M)')\n",
    "plt.xticks([2018,2019,2020,2021])\n",
    "plt.legend()\n",
    "# save graph\n",
    "plt.savefig('../data/mygraph.png', dpi=300)\n",
    "plt.show()"
   ],
   "outputs": [],
   "metadata": {}
  },
  {
   "cell_type": "markdown",
   "source": [
    "### Adding data as points/markers graph\n"
   ],
   "metadata": {}
  },
  {
   "cell_type": "code",
   "execution_count": null,
   "source": [
    "import matplotlib.pyplot as plt\n",
    "plt.plot([2018,2019,2020,2021], [10,12,11,15],marker='.',linestyle = 'None',label='fruits')\n",
    "plt.title('Sales in M per year')\n",
    "plt.xlabel('Years')\n",
    "plt.ylabel('Sales(M)')\n",
    "plt.legend()\n",
    "plt.show()"
   ],
   "outputs": [],
   "metadata": {}
  },
  {
   "cell_type": "markdown",
   "source": [
    "checkout different marker, line styles and colors at https://matplotlib.org/stable/api/_as_gen/matplotlib.pyplot.plot.html"
   ],
   "metadata": {}
  },
  {
   "cell_type": "markdown",
   "source": [
    "### Creating bar plots"
   ],
   "metadata": {}
  },
  {
   "cell_type": "code",
   "execution_count": null,
   "source": [
    "#Yearly sales of fruits vs candy\n",
    "import matplotlib.pyplot as plt\n",
    "years = [2018,2019,2020,2021]\n",
    "fruits = [10,12,11,15]\n",
    "plt.bar(years, fruits,label='fruits')\n",
    "plt.title('Sales in M per year')\n",
    "plt.xlabel('Years')\n",
    "plt.ylabel('Sales(M)')\n",
    "plt.legend()\n",
    "plt.show()"
   ],
   "outputs": [],
   "metadata": {}
  },
  {
   "cell_type": "markdown",
   "source": [
    "### Creating Histograms plots\n",
    "\n",
    "Histogram charts are used to divide the data into bins to get better visualisation"
   ],
   "metadata": {}
  },
  {
   "cell_type": "code",
   "execution_count": null,
   "source": [
    "ages = [14,15,12,23,25,28,17,34,31,54,60,32,21,23,29,18]"
   ],
   "outputs": [],
   "metadata": {}
  },
  {
   "cell_type": "code",
   "execution_count": null,
   "source": [
    "#Simple histogram\n",
    "plt.hist(ages)\n",
    "plt.show()"
   ],
   "outputs": [],
   "metadata": {}
  },
  {
   "cell_type": "code",
   "execution_count": null,
   "source": [
    "#Histograms with predefined bins with edge color\n",
    "plt.hist(ages,edgecolor='#000')\n",
    "plt.show()"
   ],
   "outputs": [],
   "metadata": {}
  },
  {
   "cell_type": "code",
   "execution_count": null,
   "source": [
    "#Histograms with predefined bins\n",
    "plt.hist(ages,bins=3,edgecolor='r')\n",
    "plt.show()"
   ],
   "outputs": [],
   "metadata": {}
  },
  {
   "cell_type": "code",
   "execution_count": null,
   "source": [
    "#Histograms with custom bins\n",
    "age_range = [0,18,25,35,50,100]\n",
    "plt.hist(ages,bins=age_range,edgecolor='y')\n",
    "plt.xticks(age_range)\n",
    "plt.show()"
   ],
   "outputs": [],
   "metadata": {}
  },
  {
   "cell_type": "code",
   "execution_count": null,
   "source": [
    "cars = pd.read_csv('../data/car_sales.csv')\n",
    "cars"
   ],
   "outputs": [],
   "metadata": {}
  },
  {
   "cell_type": "code",
   "execution_count": null,
   "source": [
    "years = cars['Year']\n",
    "years"
   ],
   "outputs": [],
   "metadata": {}
  },
  {
   "cell_type": "code",
   "execution_count": null,
   "source": [
    "five_year = [1990,1995,2000,2005,2010,2015,2020]\n",
    "plt.hist(years,bins=five_year,edgecolor='r',color='g')\n",
    "plt.show()"
   ],
   "outputs": [],
   "metadata": {}
  },
  {
   "cell_type": "markdown",
   "source": [
    "### Creating Pie Chart\n"
   ],
   "metadata": {}
  },
  {
   "cell_type": "code",
   "execution_count": null,
   "source": [
    "cars['dummy'] = 1\n",
    "car_count = cars.groupby(['Brand']).count()['dummy']"
   ],
   "outputs": [],
   "metadata": {}
  },
  {
   "cell_type": "code",
   "execution_count": null,
   "source": [
    "count = car_count.tolist()"
   ],
   "outputs": [],
   "metadata": {}
  },
  {
   "cell_type": "code",
   "execution_count": null,
   "source": [
    "brands = list(car_count.index)"
   ],
   "outputs": [],
   "metadata": {}
  },
  {
   "cell_type": "code",
   "execution_count": null,
   "source": [
    "#Simple Pie chart\n",
    "plt.pie(count, labels=brands)\n",
    "plt.show()"
   ],
   "outputs": [],
   "metadata": {}
  },
  {
   "cell_type": "code",
   "execution_count": null,
   "source": [
    "#Pie chart with predefined colors and edge\n",
    "colors=['r','g','y','#f0f0f0','#0f0f0f','#a0de50','#000fff']\n",
    "plt.pie(count, labels=brands,colors=colors, wedgeprops={'edgecolor':'#aa00ff'})\n",
    "plt.show()"
   ],
   "outputs": [],
   "metadata": {}
  },
  {
   "cell_type": "code",
   "execution_count": null,
   "source": [
    "#Pie chart with margin between pies\n",
    "colors=['r','g','y','#f0f0f0','#0f0f0f','#a0de50','#000fff']\n",
    "explode = [0.1,0.1,0.1,0.1,0.1,0.1,0.1]\n",
    "plt.pie(count, labels=brands,colors=colors,explode=explode,shadow=True, wedgeprops={'edgecolor':'#aa00ff'})\n",
    "plt.show()"
   ],
   "outputs": [],
   "metadata": {}
  },
  {
   "cell_type": "markdown",
   "source": [
    "### Creating Scatter Plots\n"
   ],
   "metadata": {}
  },
  {
   "cell_type": "code",
   "execution_count": null,
   "source": [
    "cars\n",
    "car_count = cars.groupby(['Year']).count()['dummy']\n",
    "count = car_count.tolist()\n",
    "years = list(car_count.index)"
   ],
   "outputs": [],
   "metadata": {}
  },
  {
   "cell_type": "code",
   "execution_count": null,
   "source": [
    "car_count"
   ],
   "outputs": [],
   "metadata": {}
  },
  {
   "cell_type": "code",
   "execution_count": null,
   "source": [],
   "outputs": [],
   "metadata": {}
  },
  {
   "cell_type": "code",
   "execution_count": null,
   "source": [
    "plt.scatter(years,count)\n",
    "plt.show()"
   ],
   "outputs": [],
   "metadata": {}
  },
  {
   "cell_type": "code",
   "execution_count": null,
   "source": [],
   "outputs": [],
   "metadata": {}
  }
 ],
 "metadata": {
  "kernelspec": {
   "name": "python3",
   "display_name": "Python 3.6.13 64-bit ('fossworkshop': conda)"
  },
  "language_info": {
   "codemirror_mode": {
    "name": "ipython",
    "version": 3
   },
   "file_extension": ".py",
   "mimetype": "text/x-python",
   "name": "python",
   "nbconvert_exporter": "python",
   "pygments_lexer": "ipython3",
   "version": "3.6.13"
  },
  "interpreter": {
   "hash": "9a548091e2697377a2ce6b3efb7eed731e13997a7baaa2410076b35d537cecf6"
  }
 },
 "nbformat": 4,
 "nbformat_minor": 5
}