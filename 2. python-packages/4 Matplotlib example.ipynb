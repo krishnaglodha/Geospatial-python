{
 "cells": [
  {
   "cell_type": "markdown",
   "source": [
    "## Execise \n",
    "\n",
    "Load the `Twitch.csv` in the data folder and perform following actions\n",
    "1. Create combined line graph for each years each month vs hours watched\n",
    "2. Create Pie chart of month vs games streamed for year 2018\n"
   ],
   "metadata": {}
  },
  {
   "cell_type": "code",
   "execution_count": null,
   "source": [
    "# Twitch_global_data"
   ],
   "outputs": [],
   "metadata": {}
  },
  {
   "cell_type": "code",
   "execution_count": null,
   "source": [
    "#Import matplotlib\n",
    "import matplotlib\n",
    "import matplotlib.pyplot as plt\n",
    "#Import supporting modules\n",
    "import numpy as np\n",
    "import pandas as pd\n",
    "%matplotlib inline"
   ],
   "outputs": [],
   "metadata": {}
  },
  {
   "cell_type": "code",
   "execution_count": null,
   "source": [
    "twich_data = pd.read_csv('./data/Twitch.csv')\n",
    "twich_data"
   ],
   "outputs": [],
   "metadata": {
    "scrolled": false
   }
  },
  {
   "cell_type": "code",
   "execution_count": null,
   "source": [
    "twitch_2016 = twich_data[twich_data['Year'] == 2016]\n",
    "twitch_2016"
   ],
   "outputs": [],
   "metadata": {}
  },
  {
   "cell_type": "code",
   "execution_count": null,
   "source": [
    "plt.title('Twich month vs hours')\n",
    "\n",
    "plt.plot(twitch_2016.Month,twitch_2016.Hours_watched )\n"
   ],
   "outputs": [],
   "metadata": {}
  },
  {
   "cell_type": "code",
   "execution_count": null,
   "source": [
    "twitch_2016 = twich_data[twich_data['Year'] == 2016]\n",
    "twitch_2017 = twich_data[twich_data['Year'] == 2017]\n",
    "twitch_2018 = twich_data[twich_data['Year'] == 2018]\n",
    "twitch_2019 = twich_data[twich_data['Year'] == 2019]\n",
    "twitch_2020 = twich_data[twich_data['Year'] == 2020]\n",
    "twitch_2021 = twich_data[twich_data['Year'] == 2021]\n"
   ],
   "outputs": [],
   "metadata": {}
  },
  {
   "cell_type": "code",
   "execution_count": null,
   "source": [
    "plt.title('Twich month vs hours')\n",
    "plt.plot(twitch_2016.Month,twitch_2016.Hours_watched , label='2016')\n",
    "plt.plot(twitch_2017.Month,twitch_2017.Hours_watched , label='2017')\n",
    "plt.plot(twitch_2018.Month,twitch_2018.Hours_watched , label='2018')\n",
    "plt.plot(twitch_2019.Month,twitch_2019.Hours_watched, label='2013')\n",
    "plt.plot(twitch_2020.Month,twitch_2020.Hours_watched , label='2020')\n",
    "plt.plot(twitch_2021.Month,twitch_2021.Hours_watched , label='2021')\n",
    "plt.xlabel('Month')\n",
    "plt.ylabel('Hours')\n",
    "plt.xticks([1,2,3,4,5,6,7,8,9,10,11,12])\n",
    "plt.legend()\n",
    "plt.show()"
   ],
   "outputs": [],
   "metadata": {}
  },
  {
   "cell_type": "code",
   "execution_count": null,
   "source": [
    "plt.figure(figsize=(16, 16))\n",
    "plt.pie(twitch_2018['Games_streamed'], labels=twitch_2018['Games_streamed'], autopct='%i')\n",
    "plt.show()"
   ],
   "outputs": [],
   "metadata": {}
  },
  {
   "cell_type": "code",
   "execution_count": null,
   "source": [
    "#Simple histogram\n",
    "plt.hist(twich_data['Games_streamed'],edgecolor='#000')\n",
    "plt.show()"
   ],
   "outputs": [],
   "metadata": {}
  },
  {
   "cell_type": "code",
   "execution_count": null,
   "source": [
    "bins = [100,200,300,400,500,600,700,800,900,1000]\n",
    "#Simple histogram\n",
    "plt.hist(twich_data['Games_streamed'],bins=bins,edgecolor='#000')\n",
    "plt.show()"
   ],
   "outputs": [],
   "metadata": {}
  },
  {
   "cell_type": "code",
   "execution_count": null,
   "source": [],
   "outputs": [],
   "metadata": {}
  }
 ],
 "metadata": {
  "kernelspec": {
   "display_name": "Python 3 (ipykernel)",
   "language": "python",
   "name": "python3"
  },
  "language_info": {
   "codemirror_mode": {
    "name": "ipython",
    "version": 3
   },
   "file_extension": ".py",
   "mimetype": "text/x-python",
   "name": "python",
   "nbconvert_exporter": "python",
   "pygments_lexer": "ipython3",
   "version": "3.9.6"
  }
 },
 "nbformat": 4,
 "nbformat_minor": 5
}